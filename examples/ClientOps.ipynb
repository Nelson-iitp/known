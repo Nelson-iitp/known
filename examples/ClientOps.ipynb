{
 "cells": [
  {
   "cell_type": "markdown",
   "metadata": {},
   "source": [
    "## Create your user-module to handle calls to api \n",
    "* Save this to `user.py`\n",
    "* you need to define the class as follows\n",
    "```python\n",
    "class UserModule:\n",
    "    # reponse must be a string, list or dict\n",
    "\n",
    "    def __init__(self): pass\n",
    "\n",
    "    def handle_args(self, host, args):\n",
    "        print(f'\\n--------------> Incoming args data from {host}\\n{args}')\n",
    "        return \"Got Args Data\"\n",
    "\n",
    "    def handle_json(self, host, data):\n",
    "        print(f'\\n--------------> Incoming json data from {host}\\n{data}')\n",
    "        return \"Got Json Data\"\n",
    "    \n",
    "    def handle_file(self, host, files):\n",
    "        print(f'\\n--------------> Incoming file data from {host}\\n{files}')\n",
    "        return \"Got Files Data\"\n",
    "```\n",
    "## Start the server by calling\n",
    "```bash\n",
    "python -m known.api --user=user.py --object=UserModule --callable=1\n",
    "```"
   ]
  },
  {
   "cell_type": "markdown",
   "metadata": {},
   "source": [
    "# Client ops"
   ]
  },
  {
   "cell_type": "code",
   "execution_count": 1,
   "metadata": {},
   "outputs": [],
   "source": [
    "from known.api.client import Client"
   ]
  },
  {
   "cell_type": "markdown",
   "metadata": {},
   "source": [
    "## create a new client"
   ]
  },
  {
   "cell_type": "code",
   "execution_count": 2,
   "metadata": {},
   "outputs": [
    {
     "data": {
      "text/plain": [
       "<known.api.client.Client at 0x70a2907b1810>"
      ]
     },
     "execution_count": 2,
     "metadata": {},
     "output_type": "execute_result"
    }
   ],
   "source": [
    "# set the server address\n",
    "server, port = '192.168.43.25','8080' \n",
    "# create a client\n",
    "c = Client(server, port)\n",
    "c "
   ]
  },
  {
   "cell_type": "markdown",
   "metadata": {},
   "source": [
    "## send args data"
   ]
  },
  {
   "cell_type": "code",
   "execution_count": 3,
   "metadata": {},
   "outputs": [
    {
     "name": "stdout",
     "output_type": "stream",
     "text": [
      "mcode=True\tmtype=1, TEXT\n",
      "Got Args Data\n"
     ]
    }
   ],
   "source": [
    "msg, mtype, mcode = c.send_args(key='ok', name=1)\n",
    "print(f'{mcode=}\\t{mtype=}, {Client.MTypes.code(mtype)}\\n{msg}')"
   ]
  },
  {
   "cell_type": "markdown",
   "metadata": {},
   "source": [
    "## send a json object"
   ]
  },
  {
   "cell_type": "code",
   "execution_count": 4,
   "metadata": {},
   "outputs": [
    {
     "name": "stdout",
     "output_type": "stream",
     "text": [
      "mcode=True\tmtype=1, TEXT\n",
      "Got Json Data\n"
     ]
    }
   ],
   "source": [
    "msg, mtype, mcode = c.send_json({'key': 'value'})\n",
    "print(f'{mcode=}\\t{mtype=}, {Client.MTypes.code(mtype)}\\n{msg}')"
   ]
  },
  {
   "cell_type": "markdown",
   "metadata": {},
   "source": [
    "## send an invalid json object"
   ]
  },
  {
   "cell_type": "code",
   "execution_count": 5,
   "metadata": {},
   "outputs": [
    {
     "name": "stdout",
     "output_type": "stream",
     "text": [
      "mcode=False\tmtype=-1, ERROR\n",
      "[SEND_ERROR:JSON] cannot send JSON to http://192.168.43.25:8080/\n"
     ]
    }
   ],
   "source": [
    "msg, mtype, mcode = c.send_json({'key': object})\n",
    "print(f'{mcode=}\\t{mtype=}, {Client.MTypes.code(mtype)}\\n{msg}')"
   ]
  },
  {
   "cell_type": "markdown",
   "metadata": {},
   "source": [
    "## send some files "
   ]
  },
  {
   "cell_type": "code",
   "execution_count": 6,
   "metadata": {},
   "outputs": [
    {
     "name": "stdout",
     "output_type": "stream",
     "text": [
      "mcode=True\tmtype=1, TEXT\n",
      "Got Files Data\n"
     ]
    }
   ],
   "source": [
    "msg, mtype, mcode = c.send_files_by_path(['ClientOps.ipynb', '../setup.py'])\n",
    "print(f'{mcode=}\\t{mtype=}, {Client.MTypes.code(mtype)}\\n{msg}')"
   ]
  },
  {
   "cell_type": "markdown",
   "metadata": {},
   "source": [
    "## send some invalid files "
   ]
  },
  {
   "cell_type": "code",
   "execution_count": 7,
   "metadata": {},
   "outputs": [
    {
     "name": "stdout",
     "output_type": "stream",
     "text": [
      "mcode=False\tmtype=-1, ERROR\n",
      "[SEND_ERROR:FILE] Files could not be read\n"
     ]
    }
   ],
   "source": [
    "# send some files \n",
    "msg, mtype, mcode = c.send_files_by_path(['__temp__/__main__.py', '__temp__/__maisn__.py'])\n",
    "print(f'{mcode=}\\t{mtype=}, {Client.MTypes.code(mtype)}\\n{msg}')"
   ]
  },
  {
   "cell_type": "markdown",
   "metadata": {},
   "source": [
    "## send some buffers"
   ]
  },
  {
   "cell_type": "code",
   "execution_count": 8,
   "metadata": {},
   "outputs": [
    {
     "name": "stdout",
     "output_type": "stream",
     "text": [
      "mcode=True\tmtype=1, TEXT\n",
      "Got Files Data\n"
     ]
    }
   ],
   "source": [
    "from io import  BytesIO\n",
    "import numpy as np\n",
    "buf1 = BytesIO()\n",
    "np.save(buf1, np.arange(10))\n",
    "\n",
    "buf2 = BytesIO()\n",
    "np.save(buf2, np.arange(100))\n",
    "\n",
    "msg, mtype, mcode = c.send_buffers_by_name(True, dict(b1=buf1, b2=buf2))\n",
    "print(f'{mcode=}\\t{mtype=}, {Client.MTypes.code(mtype)}\\n{msg}')"
   ]
  },
  {
   "cell_type": "markdown",
   "metadata": {},
   "source": [
    "## close the connection"
   ]
  },
  {
   "cell_type": "code",
   "execution_count": 9,
   "metadata": {},
   "outputs": [],
   "source": [
    "c.close()"
   ]
  },
  {
   "cell_type": "code",
   "execution_count": null,
   "metadata": {},
   "outputs": [],
   "source": []
  }
 ],
 "metadata": {
  "kernelspec": {
   "display_name": "Python 3",
   "language": "python",
   "name": "python3"
  },
  "language_info": {
   "codemirror_mode": {
    "name": "ipython",
    "version": 3
   },
   "file_extension": ".py",
   "mimetype": "text/x-python",
   "name": "python",
   "nbconvert_exporter": "python",
   "pygments_lexer": "ipython3",
   "version": "3.11.9"
  }
 },
 "nbformat": 4,
 "nbformat_minor": 2
}
