{
 "cells": [
  {
   "cell_type": "markdown",
   "metadata": {},
   "source": [
    "# API Client\n",
    "\n",
    "> This is a client that can access an API Server that is running a remote host. Make sure to start the server before running client commands.\n",
    "\n"
   ]
  },
  {
   "cell_type": "markdown",
   "metadata": {},
   "source": [
    "### Create a Client"
   ]
  },
  {
   "cell_type": "code",
   "execution_count": 9,
   "metadata": {},
   "outputs": [
    {
     "name": "stdout",
     "output_type": "stream",
     "text": [
      "bob\n"
     ]
    }
   ],
   "source": [
    "from known.api.client import Client\n",
    "\n",
    "# create a client\n",
    "client = Client(server='localhost:8080', uid='bob') \n",
    "print(client.uid)\n",
    "\n",
    "# NOTE:\n",
    "# the client uid specifies a string that the server uses to allow access to the API\n",
    "# this setting can be defined in server's configuration file in `config['uids']`"
   ]
  },
  {
   "cell_type": "markdown",
   "metadata": {},
   "source": [
    "### Check if server is up or not"
   ]
  },
  {
   "cell_type": "code",
   "execution_count": 10,
   "metadata": {},
   "outputs": [
    {
     "name": "stdout",
     "output_type": "stream",
     "text": [
      "server is up!\n"
     ]
    }
   ],
   "source": [
    "# check connection to ther server, returns true if connection is up\n",
    "if client.check():  print(f'server is up!')\n",
    "else:               raise ValueError(f'server is down!')\n"
   ]
  },
  {
   "cell_type": "markdown",
   "metadata": {},
   "source": [
    "# Send requests\n",
    "\n",
    "we can send 4 types of requests to API server based on the type of data that we need to send, these are `MESG`, `JSON`, `BYTE` and `FORM`"
   ]
  },
  {
   "cell_type": "markdown",
   "metadata": {},
   "source": [
    "### MESG requests (strings)"
   ]
  },
  {
   "cell_type": "code",
   "execution_count": 11,
   "metadata": {},
   "outputs": [
    {
     "name": "stdout",
     "output_type": "stream",
     "text": [
      "[✔️] | Type=MESG | Tag=default_handle | Content=<class 'str'>\n",
      "default_response\n"
     ]
    }
   ],
   "source": [
    "response = client.send_mesg(\"Hi, this is a sample message.\")\n",
    "\n",
    "print(response)\n",
    "print(response())"
   ]
  },
  {
   "cell_type": "markdown",
   "metadata": {},
   "source": [
    "### JSON requests (json serializable objects)"
   ]
  },
  {
   "cell_type": "code",
   "execution_count": 12,
   "metadata": {},
   "outputs": [
    {
     "name": "stdout",
     "output_type": "stream",
     "text": [
      "[✔️] | Type=MESG | Tag=default_handle | Content=<class 'str'>\n",
      "default_response\n"
     ]
    }
   ],
   "source": [
    "response = client.send_json(dict(name='alice', age=5, height=12.3, ls=[1,2.0,\"A\"]))\n",
    "\n",
    "print(response)\n",
    "print(response())"
   ]
  },
  {
   "cell_type": "markdown",
   "metadata": {},
   "source": [
    "### BYTE requests (bytes data)"
   ]
  },
  {
   "cell_type": "code",
   "execution_count": 13,
   "metadata": {},
   "outputs": [
    {
     "name": "stdout",
     "output_type": "stream",
     "text": [
      "[✔️] | Type=MESG | Tag=default_handle | Content=<class 'str'>\n",
      "default_response\n"
     ]
    }
   ],
   "source": [
    "response = client.send_byte(b'Hi, this is sample byte-data')\n",
    "\n",
    "print(response)\n",
    "print(response())"
   ]
  },
  {
   "cell_type": "markdown",
   "metadata": {},
   "source": [
    "### FORM requests (form data, including files)"
   ]
  },
  {
   "cell_type": "code",
   "execution_count": 17,
   "metadata": {},
   "outputs": [
    {
     "name": "stdout",
     "output_type": "stream",
     "text": [
      "[✔️] | Type=MESG | Tag=default_handle | Content=<class 'str'>\n",
      "default_response\n"
     ]
    }
   ],
   "source": [
    "from known.api.client import  Client, ClientForm\n",
    "# NOTE: client form only support string type key-value pairs\n",
    "# ...   anyother type will be converted to string\n",
    "form = ClientForm(\n",
    "    name = 'bob',  \n",
    "    age=6,              #<--- NOTE: this will be converted to string\n",
    "    height=15.03,       #<--- NOTE: this will be converted to string\n",
    "    ls=[2,3.3,\"B\"],     #<--- NOTE: this will be converted to string\n",
    ")\\\n",
    ".attach(alias='file1', name='overview.md', mime='markdown', handle='setup.py')\\\n",
    ".attach(alias='file2', name='readme.txt', mime='text', handle='README.md')\n",
    "response = client.send_form(form)\n",
    "\n",
    "print(response)\n",
    "print(response())"
   ]
  },
  {
   "cell_type": "markdown",
   "metadata": {},
   "source": [
    "# Path Requests"
   ]
  },
  {
   "cell_type": "code",
   "execution_count": 19,
   "metadata": {},
   "outputs": [
    {
     "name": "stdout",
     "output_type": "stream",
     "text": [
      "[✔️] | Type=H | Tag=/home/ava/Code/known/__api__ | Content=<class 'dict'>\n",
      "\n",
      "#[0]\n",
      "PATH: .\n",
      "FILES: ['api.py']\n",
      "\n",
      "#[1]\n",
      "PATH: __pycache__\n",
      "FILES: ['api.cpython-311.pyc']\n"
     ]
    }
   ],
   "source": [
    "# get the HOME view of the store\n",
    "response = client.path_get()\n",
    "print(response)\n",
    "if response.ok:\n",
    "    for i,(k,v) in enumerate(response().items()): print(f'\\n#[{i}]\\nPATH: {k}\\nFILES: {v}')\n",
    "else: print(response())"
   ]
  },
  {
   "cell_type": "code",
   "execution_count": 20,
   "metadata": {},
   "outputs": [
    {
     "name": "stdout",
     "output_type": "stream",
     "text": [
      "[✔️] | Type=D | Tag=. | Content=<class 'dict'>\n",
      "base\t.\n",
      "files\t{'api.py': 1.6}\n",
      "folders\t['__pycache__']\n"
     ]
    }
   ],
   "source": [
    "# get the DIR view of the root folder\n",
    "response = client.path_get(path='', save=None)\n",
    "print(response)\n",
    "if response.ok:\n",
    "    for k,v in response().items(): print(f'{k}\\t{v}')\n",
    "else: print(response())"
   ]
  },
  {
   "cell_type": "code",
   "execution_count": 21,
   "metadata": {},
   "outputs": [
    {
     "name": "stdout",
     "output_type": "stream",
     "text": [
      "[❌] | Type=None | Tag=None | Content=<class 'str'>\n",
      "Response not ok \n",
      "\n",
      "Path not found: /home/ava/Code/known/__api__/logdir\n"
     ]
    }
   ],
   "source": [
    "# get the DIR view of a folder - this folder does not exsist so it will return false\n",
    "response = client.path_get(path='logdir', save=None)\n",
    "print(response)\n",
    "if response.ok:\n",
    "    for k,v in response().items(): print(f'{k}\\t{v}')\n",
    "else: print(response())"
   ]
  },
  {
   "cell_type": "code",
   "execution_count": 22,
   "metadata": {},
   "outputs": [
    {
     "name": "stdout",
     "output_type": "stream",
     "text": [
      "[✔️] | Type=M | Tag=logdir | Content=<class 'str'>\n",
      "Folder created @ /home/ava/Code/known/__api__/logdir\n"
     ]
    }
   ],
   "source": [
    "# create a folder on server\n",
    "response = client.path_set(path='logdir', item=None)\n",
    "print(response)\n",
    "print(response())"
   ]
  },
  {
   "cell_type": "code",
   "execution_count": 24,
   "metadata": {},
   "outputs": [
    {
     "name": "stdout",
     "output_type": "stream",
     "text": [
      "[✔️] | Type=M | Tag=logdir | Content=<class 'str'>\n",
      "Folder created @ /home/ava/Code/known/__api__/logdir\n"
     ]
    }
   ],
   "source": [
    "# get the DIR view of a folder - this folder was created so it returns true\n",
    "response = client.path_set(path='logdir', item=None)\n",
    "print(response)\n",
    "print(response())"
   ]
  },
  {
   "cell_type": "code",
   "execution_count": 26,
   "metadata": {},
   "outputs": [
    {
     "name": "stdout",
     "output_type": "stream",
     "text": [
      "[✔️] | Type=M | Tag=logdir/api.md | Content=<class 'str'>\n",
      "File created @ /home/ava/Code/known/__api__/logdir/api.md\n"
     ]
    }
   ],
   "source": [
    "# create a file on server inside new folder\n",
    "response = client.path_set(path='logdir/api.md', item='README.md')\n",
    "print(response)\n",
    "print(response())"
   ]
  },
  {
   "cell_type": "code",
   "execution_count": 27,
   "metadata": {},
   "outputs": [
    {
     "name": "stdout",
     "output_type": "stream",
     "text": [
      "[✔️] | Type=M | Tag=logdir/extra | Content=<class 'str'>\n",
      "Folder created @ /home/ava/Code/known/__api__/logdir/extra\n"
     ]
    }
   ],
   "source": [
    "# create another folder inside the new folder\n",
    "response = client.path_set(path='logdir/extra', item=None)\n",
    "print(response)\n",
    "print(response())"
   ]
  },
  {
   "cell_type": "code",
   "execution_count": 29,
   "metadata": {},
   "outputs": [
    {
     "name": "stdout",
     "output_type": "stream",
     "text": [
      "[✔️] | Type=M | Tag=logdir/extra/a.md | Content=<class 'str'>\n",
      "File created @ /home/ava/Code/known/__api__/logdir/extra/a.md\n",
      "[✔️] | Type=M | Tag=logdir/extra/b.txt | Content=<class 'str'>\n",
      "File created @ /home/ava/Code/known/__api__/logdir/extra/b.txt\n"
     ]
    }
   ],
   "source": [
    "# create 2 new files inside the nested folder\n",
    "\n",
    "response = client.path_set(path='logdir/extra/a.md', item='README.md')\n",
    "print(response)\n",
    "print(response())\n",
    "\n",
    "response = client.path_set(path='logdir/extra/b.txt', item='requirements.txt')\n",
    "print(response)\n",
    "print(response())"
   ]
  },
  {
   "cell_type": "code",
   "execution_count": 30,
   "metadata": {},
   "outputs": [
    {
     "name": "stdout",
     "output_type": "stream",
     "text": [
      "[✔️] | Type=H | Tag=/home/ava/Code/known/__api__ | Content=<class 'dict'>\n",
      ".\t['api.py']\n",
      "__pycache__\t['api.cpython-311.pyc']\n",
      "logdir\t['api.md']\n",
      "logdir/extra\t['b.txt', 'a.md']\n"
     ]
    }
   ],
   "source": [
    "# Home view - to see all available paths on the store and the files inside them\n",
    "response = client.path_get()\n",
    "print(response)\n",
    "if response.ok:\n",
    "    for k,v in response().items(): print(f'{k}\\t{v}')\n",
    "else: print(response())"
   ]
  },
  {
   "cell_type": "code",
   "execution_count": 31,
   "metadata": {},
   "outputs": [
    {
     "name": "stdout",
     "output_type": "stream",
     "text": [
      "[✔️] | Type=D | Tag=. | Content=<class 'dict'>\n",
      "base\t.\n",
      "files\t{'api.py': 1.6}\n",
      "folders\t['logdir', '__pycache__']\n"
     ]
    }
   ],
   "source": [
    "# Dir view of the root folder (number beside the filenames indicate size in KB)\n",
    "response = client.path_get(path='', save=None)\n",
    "print(response)\n",
    "if response.ok:\n",
    "    for k,v in response().items(): print(f'{k}\\t{v}')\n",
    "else: print(response())"
   ]
  },
  {
   "cell_type": "code",
   "execution_count": 32,
   "metadata": {},
   "outputs": [
    {
     "name": "stdout",
     "output_type": "stream",
     "text": [
      "[✔️] | Type=D | Tag=logdir | Content=<class 'dict'>\n",
      "base\tlogdir\n",
      "files\t{'api.md': 4.45}\n",
      "folders\t['extra']\n"
     ]
    }
   ],
   "source": [
    "# dir view of created folder\n",
    "response = client.path_get(path='logdir', save=None)\n",
    "print(response)\n",
    "if response.ok:\n",
    "    for k,v in response().items(): print(f'{k}\\t{v}')\n",
    "else: print(response())"
   ]
  },
  {
   "cell_type": "code",
   "execution_count": 33,
   "metadata": {},
   "outputs": [
    {
     "name": "stdout",
     "output_type": "stream",
     "text": [
      "[✔️] | Type=D | Tag=logdir/extra | Content=<class 'dict'>\n",
      "base\tlogdir/extra\n",
      "files\t{'a.md': 4.45, 'b.txt': 0.76}\n",
      "folders\t[]\n"
     ]
    }
   ],
   "source": [
    "# dir view of created folder\n",
    "response = client.path_get(path='logdir/extra', save=None)\n",
    "print(response)\n",
    "if response.ok:\n",
    "    for k,v in response().items(): print(f'{k}\\t{v}')\n",
    "else: print(response())"
   ]
  },
  {
   "cell_type": "code",
   "execution_count": 34,
   "metadata": {},
   "outputs": [
    {
     "name": "stdout",
     "output_type": "stream",
     "text": [
      "[✔️] | Type=F | Tag=a.md | Content=<class 'NoneType'>\n",
      "None\n"
     ]
    }
   ],
   "source": [
    "# download a file from server and save it at api.txt\n",
    "response = client.path_get(path='logdir/extra/a.md', save='api.txt')\n",
    "print(response)\n",
    "print(response())"
   ]
  },
  {
   "cell_type": "code",
   "execution_count": 35,
   "metadata": {},
   "outputs": [
    {
     "name": "stdout",
     "output_type": "stream",
     "text": [
      "[❌] | Type=None | Tag=None | Content=<class 'str'>\n",
      "Response not ok \n",
      "\n",
      "Path not found: /home/ava/Code/known/__api__/logdir/extra/x.md\n"
     ]
    }
   ],
   "source": [
    "# trying to download non-existing files\n",
    "response = client.path_get(path='logdir/extra/x.md', save='api.txt')\n",
    "print(response)\n",
    "print(response())"
   ]
  },
  {
   "cell_type": "code",
   "execution_count": 36,
   "metadata": {},
   "outputs": [
    {
     "name": "stdout",
     "output_type": "stream",
     "text": [
      "[✔️] | Type=M | Tag=api.txt | Content=<class 'str'>\n",
      "File created @ /home/ava/Code/known/__api__/api.txt\n"
     ]
    }
   ],
   "source": [
    "# create a new file on the root folder\n",
    "response = client.path_set(path='api.txt', item='setup.py')\n",
    "print(response)\n",
    "print(response())"
   ]
  },
  {
   "cell_type": "code",
   "execution_count": 37,
   "metadata": {},
   "outputs": [
    {
     "name": "stdout",
     "output_type": "stream",
     "text": [
      "[✔️] | Type=M | Tag=api.txt | Content=<class 'str'>\n",
      "File created @ /home/ava/Code/known/__api__/api.txt\n"
     ]
    }
   ],
   "source": [
    "# ... will overwrite when called again\n",
    "response = client.path_set(path='api.txt', item='setup.py')\n",
    "print(response)\n",
    "print(response())"
   ]
  },
  {
   "cell_type": "code",
   "execution_count": 38,
   "metadata": {},
   "outputs": [
    {
     "name": "stdout",
     "output_type": "stream",
     "text": [
      "[❌] | Type=None | Tag=None | Content=<class 'str'>\n",
      "Response not ok \n",
      "\n",
      "Cannot delete folder at /home/ava/Code/known/__api__/logdir\n"
     ]
    }
   ],
   "source": [
    "# deleting a folder that is not empty without the recurvie flag\n",
    "response = client.path_del(path='logdir', recursive=False)\n",
    "print(response)\n",
    "print(response())"
   ]
  },
  {
   "cell_type": "code",
   "execution_count": 39,
   "metadata": {},
   "outputs": [
    {
     "name": "stdout",
     "output_type": "stream",
     "text": [
      "[✔️] | Type=M | Tag=logdir | Content=<class 'str'>\n",
      "Folder deleted @ /home/ava/Code/known/__api__/logdir\n"
     ]
    }
   ],
   "source": [
    "# deleting a folder that is not empty with the recurvie flag\n",
    "response = client.path_del(path='logdir', recursive=True)\n",
    "print(response)\n",
    "print(response())"
   ]
  },
  {
   "cell_type": "code",
   "execution_count": 40,
   "metadata": {},
   "outputs": [
    {
     "name": "stdout",
     "output_type": "stream",
     "text": [
      "[✔️] | Type=M | Tag=api.txt | Content=<class 'str'>\n",
      "File deleted @ /home/ava/Code/known/__api__/api.txt\n"
     ]
    }
   ],
   "source": [
    "# deleting a file\n",
    "response = client.path_del(path='api.txt', recursive=False)\n",
    "print(response)\n",
    "print(response())"
   ]
  }
 ],
 "metadata": {
  "kernelspec": {
   "display_name": "Python 3",
   "language": "python",
   "name": "python3"
  },
  "language_info": {
   "codemirror_mode": {
    "name": "ipython",
    "version": 3
   },
   "file_extension": ".py",
   "mimetype": "text/x-python",
   "name": "python",
   "nbconvert_exporter": "python",
   "pygments_lexer": "ipython3",
   "version": "3.11.9"
  }
 },
 "nbformat": 4,
 "nbformat_minor": 2
}
