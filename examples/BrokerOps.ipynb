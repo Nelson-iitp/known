{
 "cells": [
  {
   "cell_type": "markdown",
   "metadata": {},
   "source": [
    "# Client ops"
   ]
  },
  {
   "cell_type": "code",
   "execution_count": 1,
   "metadata": {},
   "outputs": [],
   "source": [
    "import pika\n",
    "\n",
    "\n",
    "class Client:\n",
    "    def __init__(self, server, queue='default'): \n",
    "        self.server, self.queue = server, queue\n",
    "    \n",
    "    def connect(self):\n",
    "        self.connection = pika.BlockingConnection(pika.ConnectionParameters(host=self.server))\n",
    "        self.channel = self.connection.channel()\n",
    "        self.channel.queue_declare(queue=self.queue)\n",
    "\n",
    "    def send_msg(self, msg):\n",
    "        # publish on the queue\n",
    "        self.channel.basic_publish(\n",
    "        exchange='', \n",
    "        routing_key=self.queue, \n",
    "        body=msg,\n",
    "        )\n",
    "\n",
    "    def send_buffer(self, buf):\n",
    "        # publish on the queue\n",
    "        buf.seek(0)\n",
    "        self.channel.basic_publish(\n",
    "        exchange='', \n",
    "        routing_key=self.queue, \n",
    "        body=buf.read(),\n",
    "        )\n",
    "\n",
    "    def disconnect(self): self.connection.close()\n",
    "\n",
    "\n",
    " # also available in    \n",
    "# from known.broker.client import Client"
   ]
  },
  {
   "cell_type": "code",
   "execution_count": null,
   "metadata": {},
   "outputs": [],
   "source": [
    "# docker run -d --hostname my-rabbit --name broker --rm rabbitmq\n",
    "# /home/ava/Code/known/known/broker/__main__.py --user=examples/user.py --object=UserModule --callable=1 --host=172.17.0.2"
   ]
  },
  {
   "cell_type": "markdown",
   "metadata": {},
   "source": [
    "## create a new client"
   ]
  },
  {
   "cell_type": "code",
   "execution_count": 2,
   "metadata": {},
   "outputs": [
    {
     "data": {
      "text/plain": [
       "<__main__.Client at 0x75da72289b90>"
      ]
     },
     "execution_count": 2,
     "metadata": {},
     "output_type": "execute_result"
    }
   ],
   "source": [
    "# set the server address\n",
    "server, queue = '172.17.0.2', 'default'\n",
    "# create a client\n",
    "c = Client(server, queue)\n",
    "c "
   ]
  },
  {
   "cell_type": "code",
   "execution_count": 3,
   "metadata": {},
   "outputs": [],
   "source": [
    "c.connect()"
   ]
  },
  {
   "cell_type": "code",
   "execution_count": 4,
   "metadata": {},
   "outputs": [],
   "source": [
    "c.send_msg(\"hello world\")"
   ]
  },
  {
   "cell_type": "code",
   "execution_count": 5,
   "metadata": {},
   "outputs": [],
   "source": [
    "from io import  BytesIO\n",
    "import numpy as np\n",
    "buf1 = BytesIO()\n",
    "np.save(buf1, np.arange(10))\n",
    "\n",
    "c.send_buffer(buf1)"
   ]
  },
  {
   "cell_type": "code",
   "execution_count": 6,
   "metadata": {},
   "outputs": [],
   "source": [
    "c.disconnect()"
   ]
  }
 ],
 "metadata": {
  "kernelspec": {
   "display_name": "Python 3",
   "language": "python",
   "name": "python3"
  },
  "language_info": {
   "codemirror_mode": {
    "name": "ipython",
    "version": 3
   },
   "file_extension": ".py",
   "mimetype": "text/x-python",
   "name": "python",
   "nbconvert_exporter": "python",
   "pygments_lexer": "ipython3",
   "version": "3.11.9"
  }
 },
 "nbformat": 4,
 "nbformat_minor": 2
}
