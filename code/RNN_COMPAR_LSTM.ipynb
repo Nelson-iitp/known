{
 "cells": [
  {
   "attachments": {},
   "cell_type": "markdown",
   "metadata": {},
   "source": [
    "# []"
   ]
  },
  {
   "cell_type": "code",
   "execution_count": 21,
   "metadata": {},
   "outputs": [
    {
     "name": "stdout",
     "output_type": "stream",
     "text": [
      "sys.version='3.8.10 (tags/v3.8.10:3d8993a, May  3 2021, 11:48:03) [MSC v.1928 64 bit (AMD64)]'\n",
      "np.__version__='1.22.2'\n",
      "tt.__version__='1.10.1+cu102'\n",
      "known.__version__='0.0.1'\n"
     ]
    }
   ],
   "source": [
    "# inbuilt \n",
    "import os\n",
    "import sys\n",
    "import math\n",
    "\n",
    "# most common\n",
    "import numpy as np\n",
    "import matplotlib.pyplot as plt\n",
    "\n",
    "# pytorch\n",
    "import torch as tt\n",
    "import torch.nn as nn\n",
    "import torch.functional as ff\n",
    "import torch.distributions as dd\n",
    "import torch.utils.data as ud\n",
    "\n",
    "# custom\n",
    "import known\n",
    "import known.ktorch as kt\n",
    "\n",
    "import known.ktorch.rnns.rnn_0 as rnn_0\n",
    "import known.ktorch.rnns.rnn_1 as rnn_1\n",
    "import known.ktorch.rnns.rnn_2 as rnn_2\n",
    "print(f'{sys.version=}\\n{np.__version__=}\\n{tt.__version__=}\\n{known.__version__=}')"
   ]
  },
  {
   "cell_type": "code",
   "execution_count": 22,
   "metadata": {},
   "outputs": [
    {
     "name": "stdout",
     "output_type": "stream",
     "text": [
      "Manual-Seed: 281703975047300\n"
     ]
    },
    {
     "data": {
      "text/plain": [
       "50"
      ]
     },
     "execution_count": 22,
     "metadata": {},
     "output_type": "execute_result"
    }
   ],
   "source": [
    "# set seed\n",
    "tt.manual_seed(281703975047300) # manually sets a seed for random sampling creation ops\n",
    "print('Manual-Seed:', tt.initial_seed()) # current seed for default rng\n",
    "\n",
    "batch_size = 5\n",
    "input_size = 2\n",
    "hidden_size = 3\n",
    "seq_len = 4\n",
    "\n",
    "dt=tt.float64\n",
    "batch_first=True\n",
    "stack_output=True\n",
    "dropout=0.0\n",
    "num_layers = 2\n",
    "\n",
    "num_samples=50\n",
    "num_loops=10\n",
    "\n",
    "def absdiff(y, Y):\n",
    "    s=0\n",
    "    for yi,yit in zip(y, Y):\n",
    "        assert (yi.shape == yit.shape)\n",
    "        s+= (tt.sum(tt.abs(yi-yit)).item())\n",
    "    return s, np.mean(s)\n",
    "\n",
    "xx = [tt.rand(size=(batch_size, seq_len, input_size), dtype=dt) for _ in range(num_samples)] \\\n",
    "            if batch_first else \\\n",
    "    [tt.rand(size=(seq_len, batch_size, input_size), dtype=dt) for _ in range(num_samples) ]\n",
    "len(xx)"
   ]
  },
  {
   "cell_type": "code",
   "execution_count": 23,
   "metadata": {},
   "outputs": [],
   "source": [
    "\n",
    "hidden_sizes = [hidden_size for _ in range(num_layers)]\n",
    "bidirectional = False\n",
    "bias = True\n",
    "nonlinearity='tanh'\n",
    "actF = tt.tanh\n",
    "actC = tt.tanh"
   ]
  },
  {
   "cell_type": "code",
   "execution_count": 24,
   "metadata": {},
   "outputs": [],
   "source": [
    "rnnt = nn.LSTM(\n",
    "    input_size=input_size,\n",
    "    hidden_size=hidden_size,\n",
    "    #nonlinearity=nonlinearity,\n",
    "    bias=bias,\n",
    "    batch_first=batch_first,\n",
    "    num_layers=num_layers,\n",
    "    dropout=dropout,\n",
    "    bidirectional=bidirectional,\n",
    "    dtype=dt\n",
    ")\n",
    "rnn0 = rnn_0.LSTM(\n",
    "    input_bias=bias,\n",
    "    hidden_bias=bias,\n",
    "    actF=actF, actC=actC,\n",
    "    input_size=input_size,         # input features\n",
    "    hidden_sizes=hidden_sizes,       # hidden features at each layer\n",
    "    dropout=dropout,        # dropout after each layer, only if hidden_sizes > 1\n",
    "    batch_first=batch_first,  # if true, excepts input as (batch_size, seq_len, input_size) else (seq_len, batch_size, input_size)\n",
    "    stack_output=stack_output, # if true, stack output from all timesteps, else returns a list of outputs\n",
    "    dtype=dt,\n",
    "    device=None,\n",
    ")\n",
    "rnn1 = rnn_1.LSTM(\n",
    "    has_bias=bias,\n",
    "    actF=actF, actC=actC,\n",
    "    input_size=input_size,         # input features\n",
    "    hidden_sizes=hidden_sizes,       # hidden features at each layer\n",
    "    dropout=dropout,        # dropout after each layer, only if hidden_sizes > 1\n",
    "    batch_first=batch_first,  # if true, excepts input as (batch_size, seq_len, input_size) else (seq_len, batch_size, input_size)\n",
    "    stack_output=stack_output, # if true, stack output from all timesteps, else returns a list of outputs\n",
    "    dtype=dt,\n",
    "    device=None,\n",
    ")\n",
    "\n",
    "rnn2 = rnn_2.LSTM(\n",
    "    input_size=input_size,\n",
    "    hidden_sizes=hidden_sizes,\n",
    "    output_sizes=None, output_sizes2=None,\n",
    "    dropout=dropout, batch_first=batch_first,\n",
    "    stack_output=stack_output, cell_bias=bias, bidir=bidirectional,\n",
    "    dtype=dt,activation_g_gate=actF, activation_cell=actC\n",
    ")"
   ]
  },
  {
   "cell_type": "code",
   "execution_count": 25,
   "metadata": {},
   "outputs": [],
   "source": [
    "show_details = False"
   ]
  },
  {
   "cell_type": "code",
   "execution_count": 26,
   "metadata": {},
   "outputs": [
    {
     "name": "stdout",
     "output_type": "stream",
     "text": [
      "#[1]\t[weight_ih_l0]\tShape[torch.Size([12, 2])]\n",
      "#[2]\t[weight_hh_l0]\tShape[torch.Size([12, 3])]\n",
      "#[3]\t[bias_ih_l0]\tShape[torch.Size([12])]\n",
      "#[4]\t[bias_hh_l0]\tShape[torch.Size([12])]\n",
      "#[5]\t[weight_ih_l1]\tShape[torch.Size([12, 3])]\n",
      "#[6]\t[weight_hh_l1]\tShape[torch.Size([12, 3])]\n",
      "#[7]\t[bias_ih_l1]\tShape[torch.Size([12])]\n",
      "#[8]\t[bias_hh_l1]\tShape[torch.Size([12])]\n"
     ]
    }
   ],
   "source": [
    "kt.show_dict(rnnt, show_details)"
   ]
  },
  {
   "cell_type": "code",
   "execution_count": 27,
   "metadata": {},
   "outputs": [
    {
     "name": "stdout",
     "output_type": "stream",
     "text": [
      "#[1]\t[iiW.0]\tShape[torch.Size([3, 2])]\n",
      "#[2]\t[iiW.1]\tShape[torch.Size([3, 3])]\n",
      "#[3]\t[iiB.0]\tShape[torch.Size([3])]\n",
      "#[4]\t[iiB.1]\tShape[torch.Size([3])]\n",
      "#[5]\t[hiW.0]\tShape[torch.Size([3, 3])]\n",
      "#[6]\t[hiW.1]\tShape[torch.Size([3, 3])]\n",
      "#[7]\t[hiB.0]\tShape[torch.Size([3])]\n",
      "#[8]\t[hiB.1]\tShape[torch.Size([3])]\n",
      "#[9]\t[ifW.0]\tShape[torch.Size([3, 2])]\n",
      "#[10]\t[ifW.1]\tShape[torch.Size([3, 3])]\n",
      "#[11]\t[ifB.0]\tShape[torch.Size([3])]\n",
      "#[12]\t[ifB.1]\tShape[torch.Size([3])]\n",
      "#[13]\t[hfW.0]\tShape[torch.Size([3, 3])]\n",
      "#[14]\t[hfW.1]\tShape[torch.Size([3, 3])]\n",
      "#[15]\t[hfB.0]\tShape[torch.Size([3])]\n",
      "#[16]\t[hfB.1]\tShape[torch.Size([3])]\n",
      "#[17]\t[igW.0]\tShape[torch.Size([3, 2])]\n",
      "#[18]\t[igW.1]\tShape[torch.Size([3, 3])]\n",
      "#[19]\t[igB.0]\tShape[torch.Size([3])]\n",
      "#[20]\t[igB.1]\tShape[torch.Size([3])]\n",
      "#[21]\t[hgW.0]\tShape[torch.Size([3, 3])]\n",
      "#[22]\t[hgW.1]\tShape[torch.Size([3, 3])]\n",
      "#[23]\t[hgB.0]\tShape[torch.Size([3])]\n",
      "#[24]\t[hgB.1]\tShape[torch.Size([3])]\n",
      "#[25]\t[ioW.0]\tShape[torch.Size([3, 2])]\n",
      "#[26]\t[ioW.1]\tShape[torch.Size([3, 3])]\n",
      "#[27]\t[ioB.0]\tShape[torch.Size([3])]\n",
      "#[28]\t[ioB.1]\tShape[torch.Size([3])]\n",
      "#[29]\t[hoW.0]\tShape[torch.Size([3, 3])]\n",
      "#[30]\t[hoW.1]\tShape[torch.Size([3, 3])]\n",
      "#[31]\t[hoB.0]\tShape[torch.Size([3])]\n",
      "#[32]\t[hoB.1]\tShape[torch.Size([3])]\n"
     ]
    }
   ],
   "source": [
    "rnn0.copy_torch(rnnt)\n",
    "kt.show_dict(rnn0, show_details)"
   ]
  },
  {
   "cell_type": "code",
   "execution_count": 28,
   "metadata": {},
   "outputs": [
    {
     "name": "stdout",
     "output_type": "stream",
     "text": [
      "#[1]\t[iiL.0.weight]\tShape[torch.Size([3, 5])]\n",
      "#[2]\t[iiL.0.bias]\tShape[torch.Size([3])]\n",
      "#[3]\t[iiL.1.weight]\tShape[torch.Size([3, 6])]\n",
      "#[4]\t[iiL.1.bias]\tShape[torch.Size([3])]\n",
      "#[5]\t[ifL.0.weight]\tShape[torch.Size([3, 5])]\n",
      "#[6]\t[ifL.0.bias]\tShape[torch.Size([3])]\n",
      "#[7]\t[ifL.1.weight]\tShape[torch.Size([3, 6])]\n",
      "#[8]\t[ifL.1.bias]\tShape[torch.Size([3])]\n",
      "#[9]\t[igL.0.weight]\tShape[torch.Size([3, 5])]\n",
      "#[10]\t[igL.0.bias]\tShape[torch.Size([3])]\n",
      "#[11]\t[igL.1.weight]\tShape[torch.Size([3, 6])]\n",
      "#[12]\t[igL.1.bias]\tShape[torch.Size([3])]\n",
      "#[13]\t[ioL.0.weight]\tShape[torch.Size([3, 5])]\n",
      "#[14]\t[ioL.0.bias]\tShape[torch.Size([3])]\n",
      "#[15]\t[ioL.1.weight]\tShape[torch.Size([3, 6])]\n",
      "#[16]\t[ioL.1.bias]\tShape[torch.Size([3])]\n"
     ]
    }
   ],
   "source": [
    "rnn1.copy_torch(rnnt)\n",
    "kt.show_dict(rnn1, show_details)"
   ]
  },
  {
   "cell_type": "code",
   "execution_count": 29,
   "metadata": {},
   "outputs": [
    {
     "name": "stdout",
     "output_type": "stream",
     "text": [
      "#[1]\t[iiL.0.L.weight]\tShape[torch.Size([3, 5])]\n",
      "#[2]\t[iiL.0.L.bias]\tShape[torch.Size([3])]\n",
      "#[3]\t[iiL.1.L.weight]\tShape[torch.Size([3, 6])]\n",
      "#[4]\t[iiL.1.L.bias]\tShape[torch.Size([3])]\n",
      "#[5]\t[ifL.0.L.weight]\tShape[torch.Size([3, 5])]\n",
      "#[6]\t[ifL.0.L.bias]\tShape[torch.Size([3])]\n",
      "#[7]\t[ifL.1.L.weight]\tShape[torch.Size([3, 6])]\n",
      "#[8]\t[ifL.1.L.bias]\tShape[torch.Size([3])]\n",
      "#[9]\t[igL.0.L.weight]\tShape[torch.Size([3, 5])]\n",
      "#[10]\t[igL.0.L.bias]\tShape[torch.Size([3])]\n",
      "#[11]\t[igL.1.L.weight]\tShape[torch.Size([3, 6])]\n",
      "#[12]\t[igL.1.L.bias]\tShape[torch.Size([3])]\n",
      "#[13]\t[ioL.0.L.weight]\tShape[torch.Size([3, 5])]\n",
      "#[14]\t[ioL.0.L.bias]\tShape[torch.Size([3])]\n",
      "#[15]\t[ioL.1.L.weight]\tShape[torch.Size([3, 6])]\n",
      "#[16]\t[ioL.1.L.bias]\tShape[torch.Size([3])]\n"
     ]
    }
   ],
   "source": [
    "rnn2.copy_torch(rnnt)\n",
    "kt.show_dict(rnn2, show_details)"
   ]
  },
  {
   "cell_type": "code",
   "execution_count": 30,
   "metadata": {},
   "outputs": [
    {
     "name": "stdout",
     "output_type": "stream",
     "text": [
      "(3.469446951953614e-16, 3.469446951953614e-16)\n",
      "(4.85722573273506e-16, 4.85722573273506e-16)\n",
      "(4.85722573273506e-16, 4.85722573273506e-16)\n",
      "(4.718447854656915e-16, 4.718447854656915e-16)\n",
      "(4.718447854656915e-16, 4.718447854656915e-16)\n",
      "(0.0, 0.0)\n"
     ]
    }
   ],
   "source": [
    "with tt.no_grad():\n",
    "    yt, (ht, ct) = rnnt(xx[0])\n",
    "    y0, (h0, c0) = rnn0(xx[0])\n",
    "    y1, (h1, c1) = rnn1(xx[0])\n",
    "    y2, (h2, c2) = rnn2(xx[0])\n",
    "\n",
    "    print(absdiff(y0, yt))\n",
    "    print(absdiff(y1, yt))\n",
    "    print(absdiff(y2, yt))\n",
    "    print(absdiff(y0, y1))\n",
    "    print(absdiff(y0, y2))\n",
    "    print(absdiff(y2, y1))"
   ]
  }
 ],
 "metadata": {
  "kernelspec": {
   "display_name": "Python 3",
   "language": "python",
   "name": "python3"
  },
  "language_info": {
   "codemirror_mode": {
    "name": "ipython",
    "version": 3
   },
   "file_extension": ".py",
   "mimetype": "text/x-python",
   "name": "python",
   "nbconvert_exporter": "python",
   "pygments_lexer": "ipython3",
   "version": "3.8.10"
  },
  "orig_nbformat": 4,
  "vscode": {
   "interpreter": {
    "hash": "570feb405e2e27c949193ac68f46852414290d515b0ba6e5d90d076ed2284471"
   }
  }
 },
 "nbformat": 4,
 "nbformat_minor": 2
}
