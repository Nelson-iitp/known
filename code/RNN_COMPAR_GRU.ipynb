{
 "cells": [
  {
   "attachments": {},
   "cell_type": "markdown",
   "metadata": {},
   "source": [
    "# []"
   ]
  },
  {
   "cell_type": "code",
   "execution_count": 1,
   "metadata": {},
   "outputs": [
    {
     "name": "stdout",
     "output_type": "stream",
     "text": [
      "sys.version='3.8.10 (tags/v3.8.10:3d8993a, May  3 2021, 11:48:03) [MSC v.1928 64 bit (AMD64)]'\n",
      "np.__version__='1.22.2'\n",
      "tt.__version__='1.10.1+cu102'\n",
      "known.__version__='0.0.1'\n"
     ]
    }
   ],
   "source": [
    "# inbuilt \n",
    "import os\n",
    "import sys\n",
    "import math\n",
    "\n",
    "# most common\n",
    "import numpy as np\n",
    "import matplotlib.pyplot as plt\n",
    "\n",
    "# pytorch\n",
    "import torch as tt\n",
    "import torch.nn as nn\n",
    "import torch.functional as ff\n",
    "import torch.distributions as dd\n",
    "import torch.utils.data as ud\n",
    "\n",
    "# custom\n",
    "import known\n",
    "import known.ktorch as kt\n",
    "\n",
    "import known.ktorch.rnns.rnn_0 as rnn_0\n",
    "import known.ktorch.rnns.rnn_1 as rnn_1\n",
    "import known.ktorch.rnns.rnn_2 as rnn_2\n",
    "print(f'{sys.version=}\\n{np.__version__=}\\n{tt.__version__=}\\n{known.__version__=}')\n",
    "\n",
    "import tensorflow as tf\n",
    "from tensorflow import keras\n",
    "from tensorflow.keras import layers"
   ]
  },
  {
   "cell_type": "code",
   "execution_count": 2,
   "metadata": {},
   "outputs": [
    {
     "name": "stdout",
     "output_type": "stream",
     "text": [
      "Manual-Seed: 281703975047300\n"
     ]
    },
    {
     "data": {
      "text/plain": [
       "50"
      ]
     },
     "execution_count": 2,
     "metadata": {},
     "output_type": "execute_result"
    }
   ],
   "source": [
    "# set seed\n",
    "tt.manual_seed(281703975047300) # manually sets a seed for random sampling creation ops\n",
    "print('Manual-Seed:', tt.initial_seed()) # current seed for default rng\n",
    "\n",
    "batch_size = 5\n",
    "input_size = 2\n",
    "hidden_size = 3\n",
    "seq_len = 4\n",
    "\n",
    "dt=tt.float64\n",
    "batch_first=True\n",
    "stack_output=True\n",
    "dropout=0.0\n",
    "num_layers = 1\n",
    "\n",
    "num_samples=50\n",
    "num_loops=10\n",
    "\n",
    "def absdiff(y, Y):\n",
    "    s=0\n",
    "    for yi,yit in zip(y, Y):\n",
    "        assert (yi.shape == yit.shape)\n",
    "        s+= (tt.sum(tt.abs(yi-yit)).item())\n",
    "    return s, np.mean(s)\n",
    "\n",
    "xx = [tt.rand(size=(batch_size, seq_len, input_size), dtype=dt) for _ in range(num_samples)] \\\n",
    "            if batch_first else \\\n",
    "    [tt.rand(size=(seq_len, batch_size, input_size), dtype=dt) for _ in range(num_samples) ]\n",
    "len(xx)"
   ]
  },
  {
   "cell_type": "code",
   "execution_count": 3,
   "metadata": {},
   "outputs": [],
   "source": [
    "\n",
    "hidden_sizes = [hidden_size for _ in range(num_layers)]\n",
    "bidirectional = False\n",
    "bias = True\n",
    "nonlinearity='tanh'\n",
    "actF = tt.tanh"
   ]
  },
  {
   "cell_type": "code",
   "execution_count": 4,
   "metadata": {},
   "outputs": [],
   "source": [
    "rnnt = nn.GRU(\n",
    "    input_size=input_size,\n",
    "    hidden_size=hidden_size,\n",
    "    #nonlinearity=nonlinearity,\n",
    "    bias=bias,\n",
    "    batch_first=batch_first,\n",
    "    num_layers=num_layers,\n",
    "    dropout=dropout,\n",
    "    bidirectional=bidirectional,\n",
    "    dtype=dt\n",
    ")\n",
    "rnn0 = rnn_0.GRU(\n",
    "    input_bias=bias,\n",
    "    hidden_bias=bias,\n",
    "    actF=actF,\n",
    "    input_size=input_size,         # input features\n",
    "    hidden_sizes=hidden_sizes,       # hidden features at each layer\n",
    "    dropout=dropout,        # dropout after each layer, only if hidden_sizes > 1\n",
    "    batch_first=batch_first,  # if true, excepts input as (batch_size, seq_len, input_size) else (seq_len, batch_size, input_size)\n",
    "    stack_output=stack_output, # if true, stack output from all timesteps, else returns a list of outputs\n",
    "    dtype=dt,\n",
    "    device=None,\n",
    ")\n",
    "rnn1 = rnn_1.GRU(\n",
    "    has_bias=bias,\n",
    "    actF=actF,\n",
    "    input_size=input_size,         # input features\n",
    "    hidden_sizes=hidden_sizes,       # hidden features at each layer\n",
    "    dropout=dropout,        # dropout after each layer, only if hidden_sizes > 1\n",
    "    batch_first=batch_first,  # if true, excepts input as (batch_size, seq_len, input_size) else (seq_len, batch_size, input_size)\n",
    "    stack_output=stack_output, # if true, stack output from all timesteps, else returns a list of outputs\n",
    "    dtype=dt,\n",
    "    device=None,\n",
    ")\n",
    "\n",
    "rnn2 = rnn_2.GRU(\n",
    "    input_size=input_size,\n",
    "    hidden_sizes=hidden_sizes,\n",
    "    output_sizes=None, output_sizes2=None,\n",
    "    dropout=dropout, batch_first=batch_first,\n",
    "    stack_output=stack_output, cell_bias=bias, bidir=bidirectional, dtype=dt,\n",
    "    activation_r_gate=tt.sigmoid, activation_z_gate=tt.sigmoid, activation_n_gate=actF, \n",
    ")"
   ]
  },
  {
   "cell_type": "code",
   "execution_count": 5,
   "metadata": {},
   "outputs": [],
   "source": [
    "show_details = True"
   ]
  },
  {
   "cell_type": "code",
   "execution_count": 6,
   "metadata": {},
   "outputs": [
    {
     "name": "stdout",
     "output_type": "stream",
     "text": [
      "#[1]\t[irW.0]\tShape[torch.Size([3, 2])]\n",
      "tensor([[-0.2961, -0.2030],\n",
      "        [-0.3701, -0.4772],\n",
      "        [ 0.3831,  0.4033]], dtype=torch.float64)\n",
      "#[2]\t[irB.0]\tShape[torch.Size([3])]\n",
      "tensor([-0.2096, -0.2006, -0.3439], dtype=torch.float64)\n",
      "#[3]\t[hrW.0]\tShape[torch.Size([3, 3])]\n",
      "tensor([[-0.0022,  0.1272, -0.5616],\n",
      "        [-0.0382, -0.5611,  0.5508],\n",
      "        [ 0.2536, -0.5429,  0.2035]], dtype=torch.float64)\n",
      "#[4]\t[hrB.0]\tShape[torch.Size([3])]\n",
      "tensor([ 0.1864, -0.0441,  0.4073], dtype=torch.float64)\n",
      "#[5]\t[izW.0]\tShape[torch.Size([3, 2])]\n",
      "tensor([[ 0.2020, -0.4775],\n",
      "        [-0.3877,  0.5228],\n",
      "        [ 0.3993,  0.2972]], dtype=torch.float64)\n",
      "#[6]\t[izB.0]\tShape[torch.Size([3])]\n",
      "tensor([ 0.2468, -0.2255, -0.3171], dtype=torch.float64)\n",
      "#[7]\t[hzW.0]\tShape[torch.Size([3, 3])]\n",
      "tensor([[-0.0968,  0.1267, -0.5544],\n",
      "        [ 0.4428, -0.5327,  0.1397],\n",
      "        [-0.1834,  0.1223,  0.2289]], dtype=torch.float64)\n",
      "#[8]\t[hzB.0]\tShape[torch.Size([3])]\n",
      "tensor([-0.5113, -0.4341, -0.3865], dtype=torch.float64)\n",
      "#[9]\t[inW.0]\tShape[torch.Size([3, 2])]\n",
      "tensor([[-0.1029, -0.1109],\n",
      "        [-0.3924,  0.1419],\n",
      "        [-0.2750,  0.1943]], dtype=torch.float64)\n",
      "#[10]\t[inB.0]\tShape[torch.Size([3])]\n",
      "tensor([-0.5400,  0.4264, -0.4020], dtype=torch.float64)\n",
      "#[11]\t[hnW.0]\tShape[torch.Size([3, 3])]\n",
      "tensor([[-0.3202,  0.3878,  0.3597],\n",
      "        [ 0.3264,  0.3366, -0.3407],\n",
      "        [ 0.4378, -0.5168, -0.5027]], dtype=torch.float64)\n",
      "#[12]\t[hnB.0]\tShape[torch.Size([3])]\n",
      "tensor([0.3352, 0.4549, 0.2378], dtype=torch.float64)\n"
     ]
    }
   ],
   "source": [
    "rnn0.copy_torch(rnnt)\n",
    "kt.show_dict(rnn0, show_details)"
   ]
  },
  {
   "cell_type": "code",
   "execution_count": 7,
   "metadata": {},
   "outputs": [
    {
     "name": "stdout",
     "output_type": "stream",
     "text": [
      "#[1]\t[irL.0.weight]\tShape[torch.Size([3, 5])]\n",
      "tensor([[-0.2961, -0.2030, -0.0022,  0.1272, -0.5616],\n",
      "        [-0.3701, -0.4772, -0.0382, -0.5611,  0.5508],\n",
      "        [ 0.3831,  0.4033,  0.2536, -0.5429,  0.2035]], dtype=torch.float64)\n",
      "#[2]\t[irL.0.bias]\tShape[torch.Size([3])]\n",
      "tensor([-0.0232, -0.2447,  0.0634], dtype=torch.float64)\n",
      "#[3]\t[izL.0.weight]\tShape[torch.Size([3, 5])]\n",
      "tensor([[ 0.2020, -0.4775, -0.0968,  0.1267, -0.5544],\n",
      "        [-0.3877,  0.5228,  0.4428, -0.5327,  0.1397],\n",
      "        [ 0.3993,  0.2972, -0.1834,  0.1223,  0.2289]], dtype=torch.float64)\n",
      "#[4]\t[izL.0.bias]\tShape[torch.Size([3])]\n",
      "tensor([-0.2645, -0.6596, -0.7036], dtype=torch.float64)\n",
      "#[5]\t[inL.0.weight]\tShape[torch.Size([3, 5])]\n",
      "tensor([[-0.1029, -0.1109, -0.3202,  0.3878,  0.3597],\n",
      "        [-0.3924,  0.1419,  0.3264,  0.3366, -0.3407],\n",
      "        [-0.2750,  0.1943,  0.4378, -0.5168, -0.5027]], dtype=torch.float64)\n",
      "#[6]\t[inL.0.bias]\tShape[torch.Size([3])]\n",
      "tensor([-0.2048,  0.8813, -0.1642], dtype=torch.float64)\n"
     ]
    }
   ],
   "source": [
    "rnn1.copy_torch(rnnt)\n",
    "kt.show_dict(rnn1, show_details)"
   ]
  },
  {
   "cell_type": "code",
   "execution_count": 8,
   "metadata": {},
   "outputs": [
    {
     "name": "stdout",
     "output_type": "stream",
     "text": [
      "#[1]\t[irL.0.L.weight]\tShape[torch.Size([3, 5])]\n",
      "tensor([[-0.2961, -0.2030, -0.0022,  0.1272, -0.5616],\n",
      "        [-0.3701, -0.4772, -0.0382, -0.5611,  0.5508],\n",
      "        [ 0.3831,  0.4033,  0.2536, -0.5429,  0.2035]], dtype=torch.float64)\n",
      "#[2]\t[irL.0.L.bias]\tShape[torch.Size([3])]\n",
      "tensor([-0.0232, -0.2447,  0.0634], dtype=torch.float64)\n",
      "#[3]\t[izL.0.L.weight]\tShape[torch.Size([3, 5])]\n",
      "tensor([[ 0.2020, -0.4775, -0.0968,  0.1267, -0.5544],\n",
      "        [-0.3877,  0.5228,  0.4428, -0.5327,  0.1397],\n",
      "        [ 0.3993,  0.2972, -0.1834,  0.1223,  0.2289]], dtype=torch.float64)\n",
      "#[4]\t[izL.0.L.bias]\tShape[torch.Size([3])]\n",
      "tensor([-0.2645, -0.6596, -0.7036], dtype=torch.float64)\n",
      "#[5]\t[inL.0.L.weight]\tShape[torch.Size([3, 5])]\n",
      "tensor([[-0.1029, -0.1109, -0.3202,  0.3878,  0.3597],\n",
      "        [-0.3924,  0.1419,  0.3264,  0.3366, -0.3407],\n",
      "        [-0.2750,  0.1943,  0.4378, -0.5168, -0.5027]], dtype=torch.float64)\n",
      "#[6]\t[inL.0.L.bias]\tShape[torch.Size([3])]\n",
      "tensor([-0.2048,  0.8813, -0.1642], dtype=torch.float64)\n"
     ]
    }
   ],
   "source": [
    "rnn2.copy_torch(rnnt)\n",
    "kt.show_dict(rnn2, show_details)"
   ]
  },
  {
   "cell_type": "code",
   "execution_count": 9,
   "metadata": {},
   "outputs": [
    {
     "name": "stdout",
     "output_type": "stream",
     "text": [
      "(1.3739009929736312e-15, 1.3739009929736312e-15)\n",
      "(8.49692877819104, 8.49692877819104)\n",
      "(8.49692877819104, 8.49692877819104)\n"
     ]
    }
   ],
   "source": [
    "with tt.no_grad():\n",
    "    yt, ht = rnnt(xx[0])\n",
    "    y0, (h0,) = rnn0(xx[0])\n",
    "    y1, (h1,) = rnn1(xx[0])\n",
    "    y2, (h2,) = rnn2(xx[0])\n",
    "\n",
    "    print(absdiff(y0, yt))\n",
    "    print(absdiff(y1, yt))\n",
    "    print(absdiff(y2, yt))\n"
   ]
  }
 ],
 "metadata": {
  "kernelspec": {
   "display_name": "Python 3",
   "language": "python",
   "name": "python3"
  },
  "language_info": {
   "codemirror_mode": {
    "name": "ipython",
    "version": 3
   },
   "file_extension": ".py",
   "mimetype": "text/x-python",
   "name": "python",
   "nbconvert_exporter": "python",
   "pygments_lexer": "ipython3",
   "version": "3.8.10"
  },
  "orig_nbformat": 4,
  "vscode": {
   "interpreter": {
    "hash": "570feb405e2e27c949193ac68f46852414290d515b0ba6e5d90d076ed2284471"
   }
  }
 },
 "nbformat": 4,
 "nbformat_minor": 2
}
