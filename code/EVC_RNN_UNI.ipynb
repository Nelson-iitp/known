{
 "cells": [
  {
   "cell_type": "markdown",
   "metadata": {},
   "source": [
    "# []"
   ]
  },
  {
   "cell_type": "code",
   "execution_count": null,
   "metadata": {},
   "outputs": [],
   "source": [
    "# inbuilt \n",
    "import os\n",
    "import sys\n",
    "import math\n",
    "\n",
    "# most common\n",
    "import numpy as np\n",
    "import matplotlib.pyplot as plt\n",
    "\n",
    "# pytorch\n",
    "import torch as tt\n",
    "import torch.nn as nn\n",
    "import torch.optim as oo\n",
    "import torch.functional as ff\n",
    "import torch.distributions as dd\n",
    "import torch.utils.data as ud\n",
    "\n",
    "# custom\n",
    "import known\n",
    "from known.basic import pj\n",
    "from known.basic.common import Verbose as verb\n",
    "import known.ktorch as kt\n",
    "\n",
    "print(f'{sys.version=}\\n{np.__version__=}\\n{tt.__version__=}\\n{known.__version__=}')"
   ]
  },
  {
   "cell_type": "code",
   "execution_count": null,
   "metadata": {},
   "outputs": [],
   "source": [
    "save_prefix='Uni'\n",
    "os.makedirs(f'{save_prefix}_dir')"
   ]
  },
  {
   "cell_type": "markdown",
   "metadata": {},
   "source": [
    "# Select DataSet"
   ]
  },
  {
   "cell_type": "markdown",
   "metadata": {},
   "source": [
    "## (1) Sinus"
   ]
  },
  {
   "cell_type": "code",
   "execution_count": null,
   "metadata": {},
   "outputs": [],
   "source": [
    "seqlen = 24\n",
    "cols = ('PRICE',)\n",
    "input_size = len(cols)\n",
    "\n",
    "ds_test  = kt.SeqDataset.from_csv(pj('data_EVC/normPJDS.csv'), cols=cols, \n",
    "                seqlen=seqlen, reverse=True, normalize=False, squeeze_label=True, dtype=tt.float32)\n",
    "ds_train = kt.SeqDataset.from_csv(pj('data_EVC/train.csv'), cols=cols, \n",
    "                seqlen=seqlen, reverse=True, normalize=False, squeeze_label=True, dtype=tt.float32)\n",
    "ds_val = kt.SeqDataset.from_csv(pj('data_EVC/test.csv'), cols=cols, \n",
    "                seqlen=seqlen, reverse=True, normalize=False, squeeze_label=True, dtype=tt.float32)\n",
    "\n",
    "ds_train, ds_val, ds_test"
   ]
  },
  {
   "cell_type": "markdown",
   "metadata": {},
   "source": [
    "# Define Regression Network"
   ]
  },
  {
   "cell_type": "code",
   "execution_count": null,
   "metadata": {},
   "outputs": [],
   "source": [
    "dt = tt.float32\n",
    "dropout=0.0\n",
    "batch_first = True\n",
    "bias = True\n",
    "bidir=False\n",
    "\n",
    "hidden_size = 32\n",
    "hidden_sizes = [hidden_size, hidden_size]\n",
    "i2o_sizes = None\n",
    "o2o_sizes = None\n",
    "i2o_activation=None\n",
    "o2o_activation=None\n",
    "last_activation=None\n",
    "\n",
    "fc_layers=[128,]\n",
    "fc_act=(nn.ReLU, {})\n",
    "fc_last_act=None\n"
   ]
  },
  {
   "cell_type": "markdown",
   "metadata": {},
   "source": [
    "## encapsulate rnns"
   ]
  },
  {
   "cell_type": "code",
   "execution_count": null,
   "metadata": {},
   "outputs": [],
   "source": [
    "net_names = ['kt.ELMAN', 'kt.GRU', 'kt.LSTM', 'kt.MGU', 'kt.JANET' ]\n",
    "net_class = [ kt.ELMAN,   kt.GRU,   kt.LSTM,   kt.MGU,   kt.JANET  ]\n",
    "networks = {\n",
    "    k:kt.XRNN(\n",
    "    coreF=v,\n",
    "    bidir=bidir,\n",
    "    fc_layers=fc_layers,\n",
    "    fc_act=fc_act,\n",
    "    fc_last_act=fc_last_act,\n",
    "    fc_bias=bias,\n",
    "    input_size=input_size,      \n",
    "    i2h_sizes=hidden_sizes,      \n",
    "    i2o_sizes=i2o_sizes,  \n",
    "    o2o_sizes=o2o_sizes,  \n",
    "    dropout=dropout,        \n",
    "    batch_first=batch_first,\n",
    "    i2h_bias = bias, \n",
    "    i2o_bias = bias,\n",
    "    o2o_bias = bias,\n",
    "    i2h_activations=None,\n",
    "    i2o_activation=i2o_activation,\n",
    "    o2o_activation=o2o_activation,\n",
    "    last_activation=last_activation,\n",
    "    hypers=None,\n",
    "    return_sequences=False,\n",
    "    stack_output=False, \n",
    "    dtype=dt,\n",
    "    device=None,)\n",
    "    for k,v in zip(net_names, net_class )}\n",
    "\n",
    "colors = {k:v for k,v in zip(networks.keys(), \\\n",
    "            ['tab:red', 'tab:blue', 'tab:green', 'tab:orange', 'tab:brown' ])}"
   ]
  },
  {
   "cell_type": "markdown",
   "metadata": {},
   "source": [
    "# (A) Train and Evaluate"
   ]
  },
  {
   "cell_type": "code",
   "execution_count": null,
   "metadata": {},
   "outputs": [],
   "source": [
    "test_loss, train_loss = {}, {}\n",
    "for key,model in networks.items():\n",
    "    print(key, model.__class__)\n",
    "    epochs = 6\n",
    "    batch_size=32\n",
    "    shuffle=True\n",
    "    validation_freq = int(epochs/2)\n",
    "    criterion=nn.MSELoss()\n",
    "    lr = 0.00125\n",
    "    weight_decay = 0.0\n",
    "    optimizer=oo.Adam(model.parameters(), lr=lr, weight_decay=weight_decay)\n",
    "    lrs=oo.lr_scheduler.LinearLR(optimizer, start_factor= 1.0, end_factor=0.2, total_iters=epochs)\n",
    "\n",
    "    #early_stop_train=kt.QuantiyMonitor('TrainLoss', patience=50, delta=0.00001)\n",
    "    #early_stop_val=kt.QuantiyMonitor('ValLoss', patience=50, delta=0.00001)\n",
    "    #checkpoint_freq=int(epochs/4)\n",
    "    save_path=os.path.join(f'{save_prefix}_dir',f'{save_prefix}_{key}.reg')\n",
    "\n",
    "    trainer = kt.Trainer(model)\n",
    "    trainer.optimizer=optimizer\n",
    "    trainer.criterion=criterion\n",
    "\n",
    "    trainer.fit(training_data=ds_train, validation_data=ds_val, \n",
    "                epochs=epochs, batch_size=batch_size,shuffle=shuffle,validation_freq=validation_freq,\n",
    "                save_path=save_path, verbose=1)\n",
    "\n",
    "    loss_plot_start = int(epochs/20)\n",
    "    trainer.plot_results(color=colors[key],loss_plot_start=loss_plot_start)\n",
    "\n",
    "    mtl, _ = trainer.evaluate(ds_test, batch_size=None)\n",
    "    train_loss[key] = np.array(trainer.train_loss_history)\n",
    "    test_loss[key] = mtl\n",
    "    print('=================================================')\n",
    "    \n",
    "fig=plt.figure(figsize=(16,8))\n",
    "for k,v in train_loss.items():\n",
    "    plt.plot(np.mean(v, axis=1)[loss_plot_start:], label=k, color=colors[k], linewidth=0.8)\n",
    "plt.legend()\n",
    "plt.show()\n",
    "fig.savefig(os.path.join(f'{save_prefix}_dir',f'loss_{save_prefix}.png'))"
   ]
  },
  {
   "cell_type": "markdown",
   "metadata": {},
   "source": [
    "# (B) Load and Evaluate"
   ]
  },
  {
   "cell_type": "code",
   "execution_count": null,
   "metadata": {},
   "outputs": [],
   "source": [
    "\"\"\"for key,model in networks.items():\n",
    "    save_path=f'{save_prefix}_{key}.reg'\n",
    "    kt.load_state(model, save_path)\n",
    "test_loss={}\n",
    "\n",
    "for key,model in networks.items():\n",
    "    trainer = kt.Trainer(model)\n",
    "    trainer.criterion=nn.MSELoss() \n",
    "    mtl, tl = trainer.evaluate(ds_test)\n",
    "\n",
    "    test_loss[key] = mtl\"\"\""
   ]
  },
  {
   "cell_type": "markdown",
   "metadata": {},
   "source": [
    "# Plot Evaluation Results"
   ]
  },
  {
   "cell_type": "code",
   "execution_count": null,
   "metadata": {},
   "outputs": [],
   "source": [
    "y = []\n",
    "l = []\n",
    "c = []\n",
    "for k,v in test_loss.items():\n",
    "    print(f'{k}:\\t{v}')\n",
    "    y.append(v)\n",
    "    l.append(k)\n",
    "    c.append(colors[k])\n",
    "\n",
    "x= range(len(test_loss))\n",
    "\n",
    "y = np.array(y)\n",
    "l = np.array(l)\n",
    "t = np.argsort(y)\n",
    "\n",
    "fig=plt.figure(figsize=(20,6))\n",
    "plt.xlim(-1,len(x))\n",
    "plt.ylim(0,0.001)\n",
    "for i in t:\n",
    "    plt.bar([i] , y[t[i]], color=c[t[i]] )\n",
    "    plt.hlines(y[t[i]], -1, i, linestyles='solid', linewidth=0.5, color=c[t[i]])\n",
    "plt.xticks(x, l[t])\n",
    "plt.ylabel('val_loss')\n",
    "plt.show()\n",
    "fig.savefig(os.path.join(f'{save_prefix}_dir',f'loss_compar_{save_prefix}.png'))"
   ]
  },
  {
   "cell_type": "markdown",
   "metadata": {},
   "source": [
    "# Manual Testing"
   ]
  },
  {
   "cell_type": "markdown",
   "metadata": {},
   "source": [
    "## test dataset"
   ]
  },
  {
   "cell_type": "code",
   "execution_count": null,
   "metadata": {},
   "outputs": [],
   "source": [
    "res = {}\n",
    "for key,model in networks.items():\n",
    "    print(key, model.__class__)\n",
    "    model.eval()\n",
    "    with tt.no_grad():\n",
    "        dl = iter(ds_test.dataloader(batch_size=int(len(ds_test)*1.0)))\n",
    "        Xv, Yv = next(dl)\n",
    "        Pv = model(Xv)\n",
    "        res[key]=Pv #print(Xv.shape, Yv.shape, Pv.shape)\n",
    "    key_len = (len(res[key]))\n",
    "print(key_len)"
   ]
  },
  {
   "cell_type": "markdown",
   "metadata": {},
   "source": [
    "## visualize"
   ]
  },
  {
   "cell_type": "code",
   "execution_count": null,
   "metadata": {},
   "outputs": [],
   "source": [
    "\"\"\"fr = 7000\n",
    "tr = fr + 400\n",
    "print(f'{fr} ==> {tr}')\n",
    "\n",
    "for i in range(input_size):\n",
    "    plt.figure(figsize=(20,10))\n",
    "    plt.title(f'{i}')\n",
    "    \n",
    "    plt.plot(Yv[fr:tr,i], color='black', label='Truth')\n",
    "    for key,r in res.items():\n",
    "        plt.plot(r[fr:tr,i], color=colors[key], label=f'{key}', linewidth=0.5)\n",
    "    plt.legend()\n",
    "    plt.show()\n",
    "    plt.close()\n",
    "    \n",
    "    \n",
    "\"\"\""
   ]
  },
  {
   "cell_type": "code",
   "execution_count": null,
   "metadata": {},
   "outputs": [],
   "source": [
    "ilen = 400 #int(key_len/4)\n",
    "\n",
    "\n",
    "start_i = 1 #<--------------set this\n",
    "end_i = int(key_len*0.6)\n",
    "print(ilen, key_len, end_i, '\\n')\n",
    "\n",
    "fr, tr, cnt = (start_i)*ilen, (start_i+1)*ilen, 1\n",
    "while True:\n",
    "    print(f'#{cnt} :: {fr} ==> {tr}')\n",
    "    cnt+=1\n",
    "    for i in range(input_size):\n",
    "        fig=plt.figure(figsize=(20,10))\n",
    "        plt.title(f'{i}')\n",
    "        \n",
    "        plt.plot(Yv[fr:tr,i], color='black', label='Truth')\n",
    "        for key,r in res.items():\n",
    "            plt.plot(r[fr:tr,i], color=colors[key], label=f'{key}', linewidth=0.5)\n",
    "        plt.legend()\n",
    "        plt.show()\n",
    "        plt.close()\n",
    "        fig.savefig(os.path.join(f'{save_prefix}_dir', f'{i}_{cnt}'))\n",
    "    \n",
    "    \n",
    "    \n",
    "    fr=tr\n",
    "    if fr>=end_i: break\n",
    "    tr = min(tr+ilen, end_i)\n",
    "    if tr>end_i: tr=end_i\n",
    "    "
   ]
  },
  {
   "cell_type": "code",
   "execution_count": null,
   "metadata": {},
   "outputs": [],
   "source": []
  }
 ],
 "metadata": {
  "kernelspec": {
   "display_name": "Python 3 (ipykernel)",
   "language": "python",
   "name": "python3"
  },
  "language_info": {
   "codemirror_mode": {
    "name": "ipython",
    "version": 3
   },
   "file_extension": ".py",
   "mimetype": "text/x-python",
   "name": "python",
   "nbconvert_exporter": "python",
   "pygments_lexer": "ipython3",
   "version": "3.8.10"
  },
  "vscode": {
   "interpreter": {
    "hash": "570feb405e2e27c949193ac68f46852414290d515b0ba6e5d90d076ed2284471"
   }
  }
 },
 "nbformat": 4,
 "nbformat_minor": 4
}
