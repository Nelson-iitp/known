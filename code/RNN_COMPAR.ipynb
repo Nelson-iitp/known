{
 "cells": [
  {
   "attachments": {},
   "cell_type": "markdown",
   "metadata": {},
   "source": [
    "# []"
   ]
  },
  {
   "cell_type": "code",
   "execution_count": null,
   "metadata": {},
   "outputs": [],
   "source": [
    "# inbuilt \n",
    "import os\n",
    "import sys\n",
    "import math\n",
    "\n",
    "# most common\n",
    "import numpy as np\n",
    "import matplotlib.pyplot as plt\n",
    "\n",
    "# pytorch\n",
    "import torch as tt\n",
    "import torch.nn as nn\n",
    "import torch.functional as ff\n",
    "import torch.distributions as dd\n",
    "import torch.utils.data as ud\n",
    "\n",
    "# custom\n",
    "import known\n",
    "import known.ktorch as kt\n",
    "\n",
    "print(f'{sys.version=}\\n{np.__version__=}\\n{tt.__version__=}\\n{known.__version__=}')"
   ]
  },
  {
   "cell_type": "code",
   "execution_count": null,
   "metadata": {},
   "outputs": [],
   "source": [
    "# set seed\n",
    "tt.manual_seed(281703975047300) # manually sets a seed for random sampling creation ops\n",
    "print('Manual-Seed:', tt.initial_seed()) # current seed for default rng\n",
    "\n",
    "batch_size = 32\n",
    "input_size = 6\n",
    "hidden_size = 12\n",
    "seq_len = 20\n",
    "\n",
    "dt=tt.float64\n",
    "batch_first=True\n",
    "stack_output=True\n",
    "dropout=0.0\n",
    "num_layers = 5\n",
    "\n",
    "num_samples=50\n",
    "num_loops=10\n",
    "\n",
    "def absdiff(y, Y):\n",
    "    s=0\n",
    "    for i,(yi,yit) in enumerate(zip(y, Y)):\n",
    "        assert (yi.shape == yit.shape), f\"{yi.shape} != {yit.shape} @ {i}\"\n",
    "        s+= (tt.sum(tt.abs(yi-yit)).item())\n",
    "    return s, np.mean(s)\n",
    "\n",
    "xx = [tt.rand(size=(batch_size, seq_len, input_size), dtype=dt) for _ in range(num_samples)] \\\n",
    "            if batch_first else \\\n",
    "    [tt.rand(size=(seq_len, batch_size, input_size), dtype=dt) for _ in range(num_samples) ]\n",
    "len(xx)"
   ]
  },
  {
   "cell_type": "code",
   "execution_count": null,
   "metadata": {},
   "outputs": [],
   "source": [
    "\n",
    "hidden_sizes = [hidden_size for _ in range(num_layers)]\n",
    "bidirectional = False\n",
    "bias = True\n",
    "nonlinearity='tanh'\n",
    "actF = tt.tanh"
   ]
  },
  {
   "cell_type": "code",
   "execution_count": null,
   "metadata": {},
   "outputs": [],
   "source": [
    "elman_torch =kt.ELMAN(\n",
    "        input_size=6,      \n",
    "        i2h_sizes=[8,9],      \n",
    "        i2o_sizes=None,  \n",
    "        o2o_sizes=None,  \n",
    "        dropout=0.0,        \n",
    "        batch_first=True,  \n",
    "        stack_output=True, \n",
    "        i2h_bias = True, \n",
    "        i2o_bias = True,\n",
    "        o2o_bias = True,\n",
    "        i2h_activations=(),\n",
    "        i2o_activation=None,\n",
    "        o2o_activation=None,\n",
    "        last_activation=None,\n",
    "        hypers=None,\n",
    "        dtype=None,\n",
    "        device=None)\n",
    "known.Verbose.showX(elman_torch)"
   ]
  },
  {
   "cell_type": "code",
   "execution_count": null,
   "metadata": {},
   "outputs": [],
   "source": [
    "rnntL = [ \n",
    "    nn.RNN(\n",
    "    input_size=input_size,\n",
    "    hidden_size=hidden_size,\n",
    "    nonlinearity=nonlinearity,\n",
    "    bias=bias,\n",
    "    batch_first=batch_first,\n",
    "    num_layers=num_layers,\n",
    "    dropout=dropout,\n",
    "    bidirectional=bidirectional,\n",
    "    dtype=dt\n",
    "),\n",
    "    nn.GRU(\n",
    "    input_size=input_size,\n",
    "    hidden_size=hidden_size,\n",
    "    #nonlinearity=nonlinearity,\n",
    "    bias=bias,\n",
    "    batch_first=batch_first,\n",
    "    num_layers=num_layers,\n",
    "    dropout=dropout,\n",
    "    bidirectional=bidirectional,\n",
    "    dtype=dt\n",
    "),\n",
    "\n",
    "    nn.LSTM(\n",
    "    input_size=input_size,\n",
    "    hidden_size=hidden_size,\n",
    "    #nonlinearity=nonlinearity,\n",
    "    bias=bias,\n",
    "    batch_first=batch_first,\n",
    "    num_layers=num_layers,\n",
    "    dropout=dropout,\n",
    "    bidirectional=bidirectional,\n",
    "    dtype=dt\n",
    "),\n",
    "\n",
    "    nn.LSTM(\n",
    "    input_size=input_size,\n",
    "    hidden_size=hidden_size,\n",
    "    #nonlinearity=nonlinearity,\n",
    "    bias=bias,\n",
    "    batch_first=batch_first,\n",
    "    num_layers=num_layers,\n",
    "    dropout=dropout,\n",
    "    bidirectional=bidirectional,\n",
    "    dtype=dt\n",
    "),\n",
    "\n",
    "    nn.LSTM(\n",
    "    input_size=input_size,\n",
    "    hidden_size=hidden_size,\n",
    "    #nonlinearity=nonlinearity,\n",
    "    bias=bias,\n",
    "    batch_first=batch_first,\n",
    "    num_layers=num_layers,\n",
    "    dropout=dropout,\n",
    "    bidirectional=bidirectional,\n",
    "    dtype=dt\n",
    "),\n",
    "\n",
    "]\n",
    "\n",
    "rnnL = [\n",
    "    kt.ELMAN(\n",
    "        input_size=input_size,      \n",
    "        i2h_sizes=hidden_sizes,      \n",
    "        i2o_sizes=None,  \n",
    "        o2o_sizes=None,  \n",
    "        dropout=0.0,        \n",
    "        batch_first=batch_first,  \n",
    "        stack_output=stack_output, \n",
    "        i2h_bias = bias, \n",
    "        i2o_bias = True,\n",
    "        o2o_bias = True,\n",
    "        i2h_activations=(),\n",
    "        i2o_activation=None,\n",
    "        o2o_activation=None,\n",
    "        last_activation=None,\n",
    "        hypers=None,\n",
    "        dtype=dt,\n",
    "        device=None),\n",
    "\n",
    "    kt.GRU(\n",
    "        input_size=input_size,      \n",
    "        i2h_sizes=hidden_sizes,      \n",
    "        i2o_sizes=None,  \n",
    "        o2o_sizes=None,  \n",
    "        dropout=0.0,        \n",
    "        batch_first=batch_first,  \n",
    "        stack_output=stack_output, \n",
    "        i2h_bias = bias, \n",
    "        i2o_bias = True,\n",
    "        o2o_bias = True,\n",
    "        i2h_activations=(),\n",
    "        i2o_activation=None,\n",
    "        o2o_activation=None,\n",
    "        last_activation=None,\n",
    "        hypers=None,\n",
    "        dtype=dt,\n",
    "        device=None),\n",
    "\n",
    "    kt.LSTM(\n",
    "        input_size=input_size,      \n",
    "        i2h_sizes=hidden_sizes,      \n",
    "        i2o_sizes=None,  \n",
    "        o2o_sizes=None,  \n",
    "        dropout=0.0,        \n",
    "        batch_first=batch_first,  \n",
    "        stack_output=stack_output, \n",
    "        i2h_bias = bias, \n",
    "        i2o_bias = True,\n",
    "        o2o_bias = True,\n",
    "        i2h_activations=(),\n",
    "        i2o_activation=None,\n",
    "        o2o_activation=None,\n",
    "        last_activation=None,\n",
    "        hypers=None,\n",
    "        dtype=dt,\n",
    "        device=None),\n",
    "\n",
    "    kt.MGU(\n",
    "        input_size=input_size,      \n",
    "        i2h_sizes=hidden_sizes,      \n",
    "        i2o_sizes=None,  \n",
    "        o2o_sizes=None,  \n",
    "        dropout=0.0,        \n",
    "        batch_first=batch_first,  \n",
    "        stack_output=stack_output, \n",
    "        i2h_bias = bias, \n",
    "        i2o_bias = True,\n",
    "        o2o_bias = True,\n",
    "        i2h_activations=(),\n",
    "        i2o_activation=None,\n",
    "        o2o_activation=None,\n",
    "        last_activation=None,\n",
    "        hypers=None,\n",
    "        dtype=dt,\n",
    "        device=None),\n",
    "\n",
    "    kt.JANET(\n",
    "        input_size=input_size,      \n",
    "        i2h_sizes=hidden_sizes,      \n",
    "        i2o_sizes=None,  \n",
    "        o2o_sizes=None,  \n",
    "        dropout=0.0,        \n",
    "        batch_first=batch_first,  \n",
    "        stack_output=stack_output, \n",
    "        i2h_bias = bias, \n",
    "        i2o_bias = True,\n",
    "        o2o_bias = True,\n",
    "        i2h_activations=(),\n",
    "        i2o_activation=None,\n",
    "        o2o_activation=None,\n",
    "        last_activation=None,\n",
    "        hypers=None,\n",
    "        dtype=dt,\n",
    "        device=None),\n",
    "]"
   ]
  },
  {
   "cell_type": "code",
   "execution_count": null,
   "metadata": {},
   "outputs": [],
   "source": [
    "for rnnt in rnntL:\n",
    "    with tt.no_grad():\n",
    "        for i in range(rnnt.num_layers):\n",
    "            tt.zero_(rnnt.get_parameter(f'bias_ih_l{i}'))\n",
    "            tt.zero_(rnnt.get_parameter(f'bias_hh_l{i}'))\n",
    "    #kt.show_dict(rnnt, True)"
   ]
  },
  {
   "cell_type": "code",
   "execution_count": null,
   "metadata": {},
   "outputs": [],
   "source": [
    "show_details = False"
   ]
  },
  {
   "cell_type": "code",
   "execution_count": null,
   "metadata": {},
   "outputs": [],
   "source": [
    "for rnn, rnnt in zip(rnnL, rnntL):\n",
    "    kt.show_dict(rnnt, show_details)\n",
    "    kt.show_parameters(rnnt)\n",
    "    rnn.copy_torch(rnnt)\n",
    "    kt.show_dict(rnn, show_details)\n",
    "    kt.show_parameters(rnn)"
   ]
  },
  {
   "cell_type": "code",
   "execution_count": null,
   "metadata": {},
   "outputs": [],
   "source": [
    "with tt.no_grad():\n",
    "    for rnn, rnnt in zip(rnnL, rnntL):\n",
    "        yt, _ = rnnt(xx[0])\n",
    "        y0, _ = rnn(xx[0])\n",
    "        print(y0.shape, yt.shape)\n",
    "\n",
    "        print(absdiff(y0, yt))\n"
   ]
  },
  {
   "cell_type": "code",
   "execution_count": null,
   "metadata": {},
   "outputs": [],
   "source": [
    "rnn=kt.JANET(\n",
    "        input_size=input_size,      \n",
    "        i2h_sizes=hidden_sizes,      \n",
    "        i2o_sizes=hidden_sizes,  \n",
    "        o2o_sizes=hidden_sizes,  \n",
    "        dropout=0.0,        \n",
    "        batch_first=batch_first,  \n",
    "        stack_output=stack_output, \n",
    "        i2h_bias = bias, \n",
    "        i2o_bias = True,\n",
    "        o2o_bias = True,\n",
    "        i2h_activations=(),\n",
    "        i2o_activation=tt.relu,\n",
    "        o2o_activation=tt.sigmoid,\n",
    "        last_activation=(nn.LogSoftmax, {'dim':-1}),\n",
    "        hypers=None,\n",
    "        dtype=dt,\n",
    "        device=None)\n",
    "\n"
   ]
  },
  {
   "cell_type": "code",
   "execution_count": null,
   "metadata": {},
   "outputs": [],
   "source": [
    "\n",
    "tt.save(rnn, 'rnn.lstm')"
   ]
  },
  {
   "cell_type": "code",
   "execution_count": null,
   "metadata": {},
   "outputs": [],
   "source": [
    "rnn=tt.load('rnn.lstm')"
   ]
  },
  {
   "cell_type": "code",
   "execution_count": null,
   "metadata": {},
   "outputs": [],
   "source": [
    "with tt.no_grad():\n",
    "    yt, _ = rnn(xx[0])\n",
    "    print(yt.shape)\n",
    "    "
   ]
  },
  {
   "cell_type": "code",
   "execution_count": null,
   "metadata": {},
   "outputs": [],
   "source": [
    "tt.save(yt, 'out1')"
   ]
  },
  {
   "cell_type": "code",
   "execution_count": null,
   "metadata": {},
   "outputs": [],
   "source": [
    "tt.sum(tt.abs(tt.load('out1') - yt))"
   ]
  },
  {
   "cell_type": "code",
   "execution_count": null,
   "metadata": {},
   "outputs": [],
   "source": [
    "birnn = kt.GRNN(core_forward=rnn, core_backward=kt.clone_model(rnn))\n"
   ]
  },
  {
   "cell_type": "code",
   "execution_count": null,
   "metadata": {},
   "outputs": [],
   "source": [
    "tt.save(birnn, 'birnn.lstm')"
   ]
  },
  {
   "cell_type": "code",
   "execution_count": null,
   "metadata": {},
   "outputs": [],
   "source": [
    "birnn=tt.load('birnn.lstm')"
   ]
  },
  {
   "cell_type": "code",
   "execution_count": null,
   "metadata": {},
   "outputs": [],
   "source": [
    "with tt.no_grad():\n",
    "    yt, _ = birnn(xx[0])\n",
    "    known.basic.Verbose.info(yt)\n",
    "    print(yt[0].shape, yt[1].shape)"
   ]
  },
  {
   "cell_type": "code",
   "execution_count": null,
   "metadata": {},
   "outputs": [],
   "source": [
    "tt.save(yt[0], 'out0')\n",
    "tt.save(yt[1], 'out1')"
   ]
  },
  {
   "cell_type": "code",
   "execution_count": null,
   "metadata": {},
   "outputs": [],
   "source": [
    "tt.sum(tt.abs(tt.load('out0') - yt[0])), tt.sum(tt.abs(tt.load('out1') - yt[1]))"
   ]
  }
 ],
 "metadata": {
  "kernelspec": {
   "display_name": "Python 3",
   "language": "python",
   "name": "python3"
  },
  "language_info": {
   "codemirror_mode": {
    "name": "ipython",
    "version": 3
   },
   "file_extension": ".py",
   "mimetype": "text/x-python",
   "name": "python",
   "nbconvert_exporter": "python",
   "pygments_lexer": "ipython3",
   "version": "3.8.10 (tags/v3.8.10:3d8993a, May  3 2021, 11:48:03) [MSC v.1928 64 bit (AMD64)]"
  },
  "orig_nbformat": 4,
  "vscode": {
   "interpreter": {
    "hash": "570feb405e2e27c949193ac68f46852414290d515b0ba6e5d90d076ed2284471"
   }
  }
 },
 "nbformat": 4,
 "nbformat_minor": 2
}
