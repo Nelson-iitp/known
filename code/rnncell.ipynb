{
 "cells": [
  {
   "attachments": {},
   "cell_type": "markdown",
   "metadata": {},
   "source": [
    "# []"
   ]
  },
  {
   "cell_type": "code",
   "execution_count": null,
   "metadata": {},
   "outputs": [],
   "source": [
    "# inbuilt \n",
    "import os\n",
    "import sys\n",
    "import math\n",
    "\n",
    "# most common\n",
    "import numpy as np\n",
    "import matplotlib.pyplot as plt\n",
    "\n",
    "# pytorch\n",
    "import torch as tt\n",
    "import torch.nn as nn\n",
    "import torch.optim as oo\n",
    "import torch.functional as ff\n",
    "import torch.distributions as dd\n",
    "import torch.utils.data as ud\n",
    "\n",
    "# custom\n",
    "import known\n",
    "from known.basic import pj\n",
    "from known.basic.common import Verbose as verb\n",
    "import known.ktorch as kt\n",
    "\n",
    "print(f'{sys.version=}\\n{np.__version__=}\\n{tt.__version__=}\\n{known.__version__=}')\n",
    "\n",
    "tt.manual_seed(281703975047300) # manually sets a seed for random sampling creation ops\n",
    "print('Manual-Seed:', tt.initial_seed()) # current seed for default rng"
   ]
  },
  {
   "attachments": {},
   "cell_type": "markdown",
   "metadata": {},
   "source": [
    "# Single Layer RNNs"
   ]
  },
  {
   "cell_type": "code",
   "execution_count": null,
   "metadata": {},
   "outputs": [],
   "source": [
    "input_size = 3\n",
    "hidden_size = 8\n",
    "has_bias = True\n",
    "dtype=tt.float32\n",
    "device = None\n",
    "\n",
    "i2o_size = 6\n",
    "i2o_act = None\n",
    "o2o_size = 4\n",
    "o2o_act = None\n",
    "\n",
    "\n",
    "batch_size = 5\n",
    "X = tt.rand((batch_size, input_size), dtype=dtype)"
   ]
  },
  {
   "attachments": {},
   "cell_type": "markdown",
   "metadata": {},
   "source": [
    "## Create Cells\n",
    "\n",
    "Each RNNCell contains a core cell"
   ]
  },
  {
   "cell_type": "code",
   "execution_count": null,
   "metadata": {},
   "outputs": [],
   "source": [
    "cells = dict(\n",
    "    elman = kt.ELMANCell(\n",
    "        input_size=input_size, hidden_size=hidden_size,\n",
    "        hidden_bias=has_bias, hidden_activation=None, # none for default\n",
    "        dtype=dtype, device=device,\n",
    "    ),\n",
    "\n",
    "    gru = kt.GRUCell(\n",
    "        input_size=input_size, hidden_size=hidden_size,\n",
    "        hidden_bias=has_bias, hidden_activation=None, # none for default\n",
    "        update_bias=has_bias, update_activation=None, \n",
    "        reset_bias=has_bias, reset_activation=None, \n",
    "        cell_type=0, # 0 to use input-weights at reset and forget gates\n",
    "        dtype=dtype, device=device,\n",
    "    ),\n",
    "    \n",
    "    mgu = kt.MGUCell(\n",
    "        input_size=input_size, hidden_size=hidden_size,\n",
    "        hidden_bias=has_bias, hidden_activation=None, # none for default\n",
    "        forget_bias=has_bias, forget_activation=None, \n",
    "        dtype=dtype, device=device,\n",
    "    ),\n",
    "\n",
    "    lstm = kt.LSTMCell(\n",
    "        input_size=input_size, hidden_size=hidden_size,\n",
    "        hidden_activation=None,\n",
    "        input_bias=has_bias, input_activation=None, \n",
    "        forget_bias=has_bias, forget_activation=None, \n",
    "        output_bias=has_bias, output_activation=None, \n",
    "        cell_bias=has_bias, cell_activation=None, \n",
    "        dtype=dtype, device=device,\n",
    "    ),\n",
    "\n",
    "    plstm = kt.PLSTMCell(\n",
    "        input_size=input_size, hidden_size=hidden_size,\n",
    "        hidden_activation=None,\n",
    "        input_bias=has_bias, input_activation=None, \n",
    "        forget_bias=has_bias, forget_activation=None, \n",
    "        output_bias=has_bias, output_activation=None, \n",
    "        cell_bias=has_bias, cell_activation=None, \n",
    "        dtype=dtype, device=device,\n",
    "    ),\n",
    "\n",
    "    janet = kt.JANETCell(\n",
    "        input_size=input_size, hidden_size=hidden_size,\n",
    "        hidden_bias=has_bias, hidden_activation=None,\n",
    "        forget_bias=has_bias, forget_activation=None, \n",
    "        beta=1.0,\n",
    "        dtype=dtype, device=device,\n",
    "    ),\n",
    ")\n",
    "cells"
   ]
  },
  {
   "attachments": {},
   "cell_type": "markdown",
   "metadata": {},
   "source": [
    "# RNC"
   ]
  },
  {
   "cell_type": "code",
   "execution_count": null,
   "metadata": {},
   "outputs": [],
   "source": [
    "rnns = {k:kt.RNNCell(v) for k,v in cells.items()}\n",
    "rnns"
   ]
  },
  {
   "cell_type": "code",
   "execution_count": null,
   "metadata": {},
   "outputs": [],
   "source": [
    "rnnsx = {k:kt.RNNCell(v).\\\n",
    "        build_i2o(size=i2o_size, bias=has_bias, activation=i2o_act, dtype=dtype, device=device) \\\n",
    "        for k,v in cells.items()}\n",
    "rnnsx"
   ]
  },
  {
   "cell_type": "code",
   "execution_count": null,
   "metadata": {},
   "outputs": [],
   "source": [
    "rnnsy = {k:kt.RNNCell(v).\\\n",
    "        build_i2o(size=i2o_size, bias=has_bias, activation=i2o_act, dtype=dtype, device=device).\\\n",
    "        build_o2o(size=o2o_size, bias=has_bias, activation=o2o_act, dtype=dtype, device=device) \\\n",
    "        for k,v in cells.items()}\n",
    "rnnsy"
   ]
  },
  {
   "attachments": {},
   "cell_type": "markdown",
   "metadata": {},
   "source": [
    "# RNC + SelfAttention"
   ]
  },
  {
   "cell_type": "code",
   "execution_count": null,
   "metadata": {},
   "outputs": [],
   "source": [
    "rnnsA = {k:kt.RNNSACell(v) for k,v in cells.items()}\n",
    "rnnsA"
   ]
  },
  {
   "cell_type": "code",
   "execution_count": null,
   "metadata": {},
   "outputs": [],
   "source": [
    "rnnsxA = {k:kt.RNNSACell(v).\\\n",
    "        build_i2o(size=i2o_size, bias=has_bias, activation=i2o_act, dtype=dtype, device=device) \\\n",
    "        for k,v in cells.items()}\n",
    "rnnsxA"
   ]
  },
  {
   "cell_type": "code",
   "execution_count": null,
   "metadata": {},
   "outputs": [],
   "source": [
    "rnnsyA = {k:kt.RNNSACell(v).\\\n",
    "        build_i2o(size=i2o_size, bias=has_bias, activation=i2o_act, dtype=dtype, device=device).\\\n",
    "        build_o2o(size=o2o_size, bias=has_bias, activation=o2o_act, dtype=dtype, device=device) \\\n",
    "        for k,v in cells.items()}\n",
    "rnnsyA"
   ]
  },
  {
   "attachments": {},
   "cell_type": "markdown",
   "metadata": {},
   "source": [
    "# Forward"
   ]
  },
  {
   "cell_type": "code",
   "execution_count": null,
   "metadata": {},
   "outputs": [],
   "source": [
    "with tt.no_grad():\n",
    "    dicts = [rnns, rnnsx, rnnsy, rnnsA, rnnsxA, rnnsyA]\n",
    "    for i,d in enumerate(dicts):\n",
    "        print ('DICT::', i)\n",
    "        for k,v in d.items():\n",
    "            Y = v(X)\n",
    "            print(k, Y.shape)\n"
   ]
  },
  {
   "attachments": {},
   "cell_type": "markdown",
   "metadata": {},
   "source": [
    "# Stacking Cells"
   ]
  },
  {
   "cell_type": "code",
   "execution_count": null,
   "metadata": {},
   "outputs": [],
   "source": [
    "i2o_sizes = [6, 7, 8, 9, 10, 11]\n",
    "o2o_sizes = [16, 17, 18, 19, 20, 21]"
   ]
  },
  {
   "cell_type": "code",
   "execution_count": null,
   "metadata": {},
   "outputs": [],
   "source": [
    "cells = [\n",
    "    kt.RNNCell(kt.ELMANCell(\n",
    "        input_size=input_size, hidden_size=hidden_size,\n",
    "        hidden_bias=has_bias, hidden_activation=None, # none for default\n",
    "        dtype=dtype, device=device,)).\\\n",
    "        build_i2o(size=i2o_sizes[0], bias=has_bias, activation=i2o_act, dtype=dtype, device=device).\\\n",
    "        build_o2o(size=o2o_sizes[0], bias=has_bias, activation=o2o_act, dtype=dtype, device=device),\n",
    "\n",
    "    nn.Dropout(p=0.25),\n",
    "    \n",
    "    kt.RNNCell(kt.GRUCell(\n",
    "        input_size=o2o_sizes[0], hidden_size=hidden_size,\n",
    "        hidden_bias=has_bias, hidden_activation=None, # none for default\n",
    "        update_bias=has_bias, update_activation=None, \n",
    "        reset_bias=has_bias, reset_activation=None, \n",
    "        cell_type=0, # 0 to use input-weights at reset and forget gates\n",
    "        dtype=dtype, device=device,)).\\\n",
    "        build_i2o(size=i2o_sizes[1], bias=has_bias, activation=i2o_act, dtype=dtype, device=device).\\\n",
    "        build_o2o(size=o2o_sizes[1], bias=has_bias, activation=o2o_act, dtype=dtype, device=device),\n",
    "    \n",
    "    nn.Dropout(p=0.25),\n",
    "\n",
    "    kt.RNNCell(kt.MGUCell(\n",
    "        input_size=o2o_sizes[1], hidden_size=hidden_size,\n",
    "        hidden_bias=has_bias, hidden_activation=None, # none for default\n",
    "        forget_bias=has_bias, forget_activation=None, \n",
    "        dtype=dtype, device=device,)).\\\n",
    "        build_i2o(size=i2o_sizes[2], bias=has_bias, activation=i2o_act, dtype=dtype, device=device).\\\n",
    "        build_o2o(size=o2o_sizes[2], bias=has_bias, activation=o2o_act, dtype=dtype, device=device),\n",
    "\n",
    "    nn.Dropout(p=0.25),\n",
    "\n",
    "    kt.RNNCell(kt.LSTMCell(\n",
    "        input_size=o2o_sizes[2], hidden_size=hidden_size,\n",
    "        hidden_activation=None,\n",
    "        input_bias=has_bias, input_activation=None, \n",
    "        forget_bias=has_bias, forget_activation=None, \n",
    "        output_bias=has_bias, output_activation=None, \n",
    "        cell_bias=has_bias, cell_activation=None, \n",
    "        dtype=dtype, device=device,)).\\\n",
    "        build_i2o(size=i2o_sizes[3], bias=has_bias, activation=i2o_act, dtype=dtype, device=device).\\\n",
    "        build_o2o(size=o2o_sizes[3], bias=has_bias, activation=o2o_act, dtype=dtype, device=device),\n",
    "\n",
    "    nn.Dropout(p=0.25),\n",
    "\n",
    "    kt.RNNCell(kt.PLSTMCell(\n",
    "        input_size=o2o_sizes[3], hidden_size=hidden_size,\n",
    "        hidden_activation=None,\n",
    "        input_bias=has_bias, input_activation=None, \n",
    "        forget_bias=has_bias, forget_activation=None, \n",
    "        output_bias=has_bias, output_activation=None, \n",
    "        cell_bias=has_bias, cell_activation=None, \n",
    "        dtype=dtype, device=device,)).\\\n",
    "        build_i2o(size=i2o_sizes[4], bias=has_bias, activation=i2o_act, dtype=dtype, device=device).\\\n",
    "        build_o2o(size=o2o_sizes[4], bias=has_bias, activation=o2o_act, dtype=dtype, device=device),\n",
    "\n",
    "    nn.Dropout(p=0.25),\n",
    "    \n",
    "    kt.RNNCell(kt.JANETCell(\n",
    "        input_size=o2o_sizes[4], hidden_size=hidden_size,\n",
    "        hidden_bias=has_bias, hidden_activation=None,\n",
    "        forget_bias=has_bias, forget_activation=None, \n",
    "        beta=1.0,\n",
    "        dtype=dtype, device=device,)).\\\n",
    "        build_i2o(size=i2o_sizes[5], bias=has_bias, activation=i2o_act, dtype=dtype, device=device).\\\n",
    "        build_o2o(size=o2o_sizes[5], bias=has_bias, activation=o2o_act, dtype=dtype, device=device),\n",
    "\n",
    "]"
   ]
  },
  {
   "cell_type": "code",
   "execution_count": null,
   "metadata": {},
   "outputs": [],
   "source": [
    "coreF = nn.Sequential(*cells)"
   ]
  },
  {
   "cell_type": "code",
   "execution_count": null,
   "metadata": {},
   "outputs": [],
   "source": [
    "\n",
    "Y = coreF(X)\n",
    "print(Y.shape)"
   ]
  },
  {
   "cell_type": "code",
   "execution_count": null,
   "metadata": {},
   "outputs": [],
   "source": [
    "bi = True\n",
    "return_sequences=True\n",
    "stack_output=False   \n",
    "batch_first=True\n",
    "\n",
    "batch_size = 5\n",
    "seq_len=10\n",
    "X = \\\n",
    "    tt.rand((batch_size, seq_len, input_size), dtype=dtype) \\\n",
    "    if batch_first else \\\n",
    "    tt.rand((seq_len, batch_size, input_size), dtype=dtype)\n",
    "\n",
    "rnnstack = kt.GRNN(\n",
    "    coreF, bi=bi, return_sequences=return_sequences, stack_output=stack_output, batch_first=batch_first\n",
    ")\n",
    "\n"
   ]
  },
  {
   "cell_type": "code",
   "execution_count": null,
   "metadata": {},
   "outputs": [],
   "source": [
    "rnnstack.train()"
   ]
  },
  {
   "cell_type": "code",
   "execution_count": null,
   "metadata": {},
   "outputs": [],
   "source": [
    "\n",
    "Y = rnnstack(X)\n",
    "print(Y.shape)\n"
   ]
  },
  {
   "cell_type": "code",
   "execution_count": null,
   "metadata": {},
   "outputs": [],
   "source": [
    "print(len(Y))\n",
    "Y[0].shape"
   ]
  }
 ],
 "metadata": {
  "kernelspec": {
   "display_name": "Python 3",
   "language": "python",
   "name": "python3"
  },
  "language_info": {
   "codemirror_mode": {
    "name": "ipython",
    "version": 3
   },
   "file_extension": ".py",
   "mimetype": "text/x-python",
   "name": "python",
   "nbconvert_exporter": "python",
   "pygments_lexer": "ipython3",
   "version": "3.8.10 (tags/v3.8.10:3d8993a, May  3 2021, 11:48:03) [MSC v.1928 64 bit (AMD64)]"
  },
  "orig_nbformat": 4,
  "vscode": {
   "interpreter": {
    "hash": "570feb405e2e27c949193ac68f46852414290d515b0ba6e5d90d076ed2284471"
   }
  }
 },
 "nbformat": 4,
 "nbformat_minor": 2
}
