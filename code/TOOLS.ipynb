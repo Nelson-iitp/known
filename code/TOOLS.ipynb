{
 "cells": [
  {
   "attachments": {},
   "cell_type": "markdown",
   "metadata": {},
   "source": [
    "# []"
   ]
  },
  {
   "cell_type": "code",
   "execution_count": 1,
   "metadata": {},
   "outputs": [],
   "source": [
    "import torch as tt\n",
    "from torch.utils.data import DataLoader, Dataset"
   ]
  },
  {
   "cell_type": "code",
   "execution_count": 2,
   "metadata": {},
   "outputs": [
    {
     "name": "stdout",
     "output_type": "stream",
     "text": [
      "sys.version='3.8.10 (tags/v3.8.10:3d8993a, May  3 2021, 11:48:03) [MSC v.1928 64 bit (AMD64)]'\n",
      "np.__version__='1.22.2'\n",
      "tt.__version__='1.10.1+cu102'\n",
      "known.__version__='0.0.1'\n"
     ]
    }
   ],
   "source": [
    "# inbuilt \n",
    "import os\n",
    "import sys\n",
    "import math\n",
    "\n",
    "# most common\n",
    "import numpy as np\n",
    "import matplotlib.pyplot as plt\n",
    "\n",
    "# pytorch\n",
    "import torch as tt\n",
    "import torch.nn as nn\n",
    "import torch.functional as ff\n",
    "import torch.distributions as dd\n",
    "import torch.utils.data as ud\n",
    "\n",
    "# custom\n",
    "import known\n",
    "import known.ktorch as kt\n",
    "\n",
    "print(f'{sys.version=}\\n{np.__version__=}\\n{tt.__version__=}\\n{known.__version__=}')"
   ]
  },
  {
   "cell_type": "code",
   "execution_count": 3,
   "metadata": {},
   "outputs": [],
   "source": [
    "import known"
   ]
  },
  {
   "cell_type": "code",
   "execution_count": 4,
   "metadata": {},
   "outputs": [],
   "source": [
    "class myMeta(type):\n",
    "    def __new__(self, alias, bases, namespace):\n",
    "        print(f'called new on {__class__}')\n",
    "        print(f'{self=}')\n",
    "        print(f'{alias=}')\n",
    "        print(f'{bases=}')\n",
    "        print(f'{namespace=}')\n",
    "        return super().__new__(self, alias, bases, namespace)\n",
    "    \n",
    "    @classmethod\n",
    "    def __prepare__(self, alias, bases, **members):\n",
    "        print(f'called prepare on {__class__}')\n",
    "        print(f'{self=}')\n",
    "        print(f'{alias=}')\n",
    "        print(f'{bases=}')\n",
    "        m = super().__prepare__(alias, bases, **members)\n",
    "        print(f'mapping = {m}')\n",
    "        return m\n"
   ]
  },
  {
   "cell_type": "code",
   "execution_count": 5,
   "metadata": {},
   "outputs": [
    {
     "name": "stdout",
     "output_type": "stream",
     "text": [
      "called prepare on <class '__main__.myMeta'>\n",
      "self=<class '__main__.myMeta'>\n",
      "alias='A'\n",
      "bases=()\n",
      "mapping = {}\n",
      "called new on <class '__main__.myMeta'>\n",
      "self=<class '__main__.myMeta'>\n",
      "alias='A'\n",
      "bases=()\n",
      "namespace={'__module__': '__main__', '__qualname__': 'A', 'Ax': 3, 'Bx': 'Hi', '__init__': <function A.__init__ at 0x000001DDE6673A60>, 'foo': <function A.foo at 0x000001DD8D4150D0>}\n"
     ]
    }
   ],
   "source": [
    "class A(metaclass = myMeta):\n",
    "    Ax = 3\n",
    "    Bx = 'Hi'\n",
    "    def __init__(self) -> None:\n",
    "        self.bar = self.foo\n",
    "    \n",
    "    def foo(self, x):\n",
    "        return sum(range(x))\n"
   ]
  },
  {
   "cell_type": "code",
   "execution_count": 6,
   "metadata": {},
   "outputs": [
    {
     "data": {
      "text/plain": [
       "<__main__.A at 0x1dde6644730>"
      ]
     },
     "execution_count": 6,
     "metadata": {},
     "output_type": "execute_result"
    }
   ],
   "source": [
    "a = A()\n",
    "a"
   ]
  },
  {
   "cell_type": "code",
   "execution_count": 7,
   "metadata": {},
   "outputs": [],
   "source": [
    "def goo(x): return sum(range(x))\n",
    "a.goo = goo"
   ]
  },
  {
   "cell_type": "code",
   "execution_count": 8,
   "metadata": {},
   "outputs": [
    {
     "data": {
      "text/plain": [
       "45"
      ]
     },
     "execution_count": 8,
     "metadata": {},
     "output_type": "execute_result"
    }
   ],
   "source": [
    "a.goo(10)"
   ]
  },
  {
   "cell_type": "code",
   "execution_count": 9,
   "metadata": {},
   "outputs": [
    {
     "name": "stdout",
     "output_type": "stream",
     "text": [
      "Ax \t\t: 3\n",
      "Bx \t\t: Hi\n",
      "bar \t\t: <bound method A.foo of <__main__.A object at 0x000001DDE6644730>>\n",
      "foo \t\t: <bound method A.foo of <__main__.A object at 0x000001DDE6644730>>\n",
      "goo \t\t: <function goo at 0x000001DD8D3DF160>\n"
     ]
    }
   ],
   "source": [
    "known.Verbose.show(a)"
   ]
  },
  {
   "cell_type": "code",
   "execution_count": 11,
   "metadata": {},
   "outputs": [
    {
     "data": {
      "text/plain": [
       "45"
      ]
     },
     "execution_count": 11,
     "metadata": {},
     "output_type": "execute_result"
    }
   ],
   "source": [
    "a.goo(10)"
   ]
  },
  {
   "cell_type": "code",
   "execution_count": 13,
   "metadata": {},
   "outputs": [
    {
     "data": {
      "text/plain": [
       "36"
      ]
     },
     "execution_count": 13,
     "metadata": {},
     "output_type": "execute_result"
    }
   ],
   "source": [
    "goo(10)"
   ]
  },
  {
   "cell_type": "code",
   "execution_count": 12,
   "metadata": {},
   "outputs": [
    {
     "name": "stdout",
     "output_type": "stream",
     "text": [
      "Ax \t\t: 3\n",
      "Bx \t\t: Hi\n",
      "bar \t\t: <bound method A.foo of <__main__.A object at 0x000001DDE6644730>>\n",
      "foo \t\t: <bound method A.foo of <__main__.A object at 0x000001DDE6644730>>\n",
      "goo \t\t: <function goo at 0x000001DD8D3DF160>\n"
     ]
    }
   ],
   "source": [
    "known.Verbose.show(a)"
   ]
  },
  {
   "cell_type": "code",
   "execution_count": 10,
   "metadata": {},
   "outputs": [],
   "source": [
    "def goo(x): return sum(range(x-1))"
   ]
  },
  {
   "cell_type": "code",
   "execution_count": 14,
   "metadata": {},
   "outputs": [
    {
     "data": {
      "text/plain": [
       "<function __main__.goo(x)>"
      ]
     },
     "execution_count": 14,
     "metadata": {},
     "output_type": "execute_result"
    }
   ],
   "source": [
    "goo"
   ]
  },
  {
   "cell_type": "code",
   "execution_count": null,
   "metadata": {},
   "outputs": [],
   "source": [
    "L=[]\n",
    "for _ in range(5):\n",
    "    start = known.now()\n",
    "    for i in range(20000): a.goo(i)\n",
    "    end = known.now()\n",
    "    te = end-start\n",
    "    L.append(te)\n",
    "print(L)"
   ]
  },
  {
   "cell_type": "code",
   "execution_count": null,
   "metadata": {},
   "outputs": [],
   "source": [
    "L=[]\n",
    "for _ in range(5):\n",
    "    start = known.now()\n",
    "    for i in range(20000): a.foo(i)\n",
    "    end = known.now()\n",
    "    te = end-start\n",
    "    L.append(te)\n",
    "print(L)"
   ]
  },
  {
   "cell_type": "code",
   "execution_count": null,
   "metadata": {},
   "outputs": [],
   "source": [
    "L=[]\n",
    "for _ in range(5):\n",
    "    start = known.now()\n",
    "    for i in range(20000): a.bar(i)\n",
    "    end = known.now()\n",
    "    te = end-start\n",
    "    L.append(te)\n",
    "print(L)"
   ]
  },
  {
   "cell_type": "code",
   "execution_count": null,
   "metadata": {},
   "outputs": [],
   "source": [
    "from typing import Any, Callable, Dict, List, Sequence, Set, Tuple, Union, "
   ]
  }
 ],
 "metadata": {
  "kernelspec": {
   "display_name": "Python 3",
   "language": "python",
   "name": "python3"
  },
  "language_info": {
   "codemirror_mode": {
    "name": "ipython",
    "version": 3
   },
   "file_extension": ".py",
   "mimetype": "text/x-python",
   "name": "python",
   "nbconvert_exporter": "python",
   "pygments_lexer": "ipython3",
   "version": "3.8.10"
  },
  "orig_nbformat": 4,
  "vscode": {
   "interpreter": {
    "hash": "570feb405e2e27c949193ac68f46852414290d515b0ba6e5d90d076ed2284471"
   }
  }
 },
 "nbformat": 4,
 "nbformat_minor": 2
}
