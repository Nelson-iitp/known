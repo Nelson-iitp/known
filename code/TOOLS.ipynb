{
 "cells": [
  {
   "attachments": {},
   "cell_type": "markdown",
   "metadata": {},
   "source": [
    "# []"
   ]
  },
  {
   "cell_type": "code",
   "execution_count": null,
   "metadata": {},
   "outputs": [],
   "source": [
    "help(dict.__init__)"
   ]
  },
  {
   "cell_type": "code",
   "execution_count": null,
   "metadata": {},
   "outputs": [],
   "source": [
    "dict([[1,2],[2,2],[4,3]])"
   ]
  },
  {
   "cell_type": "code",
   "execution_count": null,
   "metadata": {},
   "outputs": [],
   "source": [
    "d = {}\n",
    "help(type(d))"
   ]
  },
  {
   "cell_type": "code",
   "execution_count": 1,
   "metadata": {},
   "outputs": [],
   "source": [
    "import torch as tt"
   ]
  },
  {
   "cell_type": "code",
   "execution_count": 2,
   "metadata": {},
   "outputs": [
    {
     "data": {
      "text/plain": [
       "(tensor([[34],\n",
       "         [13]]),\n",
       " tensor([[41],\n",
       "         [ 6],\n",
       "         [ 8]]))"
      ]
     },
     "execution_count": 2,
     "metadata": {},
     "output_type": "execute_result"
    }
   ],
   "source": [
    "i, h =2, 3\n",
    "\n",
    "X = tt.randint(low=1, high=50, size=(i,1))\n",
    "H = tt.randint(low=1, high=50, size=(h,1))\n",
    "X,H"
   ]
  },
  {
   "cell_type": "code",
   "execution_count": 3,
   "metadata": {},
   "outputs": [],
   "source": [
    "\n",
    "w_ir = tt.randint(low=1, high=50, size=(h,i))\n",
    "b_ir = tt.randint(low=1, high=50, size=(h,1))\n",
    "\n",
    "w_hr = tt.randint(low=1, high=50, size=(h,h))\n",
    "b_hr = tt.randint(low=1, high=50, size=(h,1))\n",
    "\n",
    "w_in = tt.randint(low=1, high=50, size=(h,i))\n",
    "b_in = tt.randint(low=1, high=50, size=(h,1))\n",
    "\n",
    "w_hn = tt.randint(low=1, high=50, size=(h,h))\n",
    "b_hn = tt.randint(low=1, high=50, size=(h,1))"
   ]
  },
  {
   "cell_type": "code",
   "execution_count": 5,
   "metadata": {},
   "outputs": [
    {
     "data": {
      "text/plain": [
       "(tensor([[3231602],\n",
       "         [5626635],\n",
       "         [3606169]]),\n",
       " tensor([[3111842],\n",
       "         [5538409],\n",
       "         [3577513]]),\n",
       " tensor([[119760],\n",
       "         [ 88226],\n",
       "         [ 28656]]))"
      ]
     },
     "execution_count": 5,
     "metadata": {},
     "output_type": "execute_result"
    }
   ],
   "source": [
    "Rt = (tt.mm(w_ir, X) + b_ir) + (tt.mm(w_hr, H) + b_hr) \n",
    "assert(Rt.shape == H.shape)\n",
    "Nt1 = (tt.mm(w_in, X) + b_in) + ((tt.mm(w_hn, H) + b_hn) * Rt)\n",
    "Nt2 = (tt.mm(w_in, X) + b_in) + (tt.mm(w_hn*Rt, H) + b_hn)\n",
    "Nt1, Nt2, Nt1-Nt2"
   ]
  },
  {
   "cell_type": "code",
   "execution_count": 6,
   "metadata": {},
   "outputs": [
    {
     "data": {
      "text/plain": [
       "(tensor([[3081890],\n",
       "         [5456688],\n",
       "         [3569643]]),\n",
       " tensor([[3081890],\n",
       "         [5456688],\n",
       "         [3569643]]),\n",
       " tensor([[0],\n",
       "         [0],\n",
       "         [0]]))"
      ]
     },
     "execution_count": 6,
     "metadata": {},
     "output_type": "execute_result"
    }
   ],
   "source": [
    "Rt = (tt.mm(w_ir, X) + b_ir) + (tt.mm(w_hr, H)) \n",
    "assert(Rt.shape == H.shape)\n",
    "Nt1 = (tt.mm(w_in, X) + b_in) + ((tt.mm(w_hn, H)) * Rt)\n",
    "Nt2 = (tt.mm(w_in, X) + b_in) + (tt.mm(w_hn*Rt, H))\n",
    "Nt1, Nt2, Nt1-Nt2"
   ]
  },
  {
   "cell_type": "code",
   "execution_count": null,
   "metadata": {},
   "outputs": [],
   "source": [
    "a = tt.as_tensor([[[1, 3, 7, 6], [9, 0, 6, 2], [3, 0, 5, 8]], [[1, 0, 1, 0], [2, 1, 0, 3], [0, 0, 6, 1]]])\n",
    "a.shape, a"
   ]
  },
  {
   "cell_type": "code",
   "execution_count": null,
   "metadata": {},
   "outputs": [],
   "source": [
    "b=tt.argsort(a[:,:,2])\n",
    "b.shape, b"
   ]
  },
  {
   "cell_type": "code",
   "execution_count": null,
   "metadata": {},
   "outputs": [],
   "source": [
    "\n",
    "sorted_a = a[:,[b[:,i] for i in range(a.shape[0])],:]\n",
    "sorted_a.shape, sorted_a"
   ]
  },
  {
   "cell_type": "code",
   "execution_count": null,
   "metadata": {},
   "outputs": [],
   "source": [
    "\n",
    "b.shape, b"
   ]
  },
  {
   "cell_type": "code",
   "execution_count": null,
   "metadata": {},
   "outputs": [],
   "source": [
    "b=tt.argsort(a[:,:,2])\n",
    "\n",
    "sorted_a=tt.stack([a[i,b[i],:] for i in range(a.shape[0])] )\n",
    "sorted_a"
   ]
  },
  {
   "cell_type": "code",
   "execution_count": null,
   "metadata": {},
   "outputs": [],
   "source": [
    "import torch"
   ]
  },
  {
   "cell_type": "code",
   "execution_count": null,
   "metadata": {},
   "outputs": [],
   "source": [
    "a = torch.as_tensor([[[1, 3, 7, 6], [9, 0, 6, 2], [3, 0, 5, 8]], [[1, 0, 1, 0], [2, 1, 0, 3], [0, 0, 6, 1]]])\n",
    "\n",
    "b=torch.argsort(a[:,:,2])\n",
    "sorted_a=torch.stack([a[i,b[i],:] for i in range(a.shape[0])] )\n",
    "sorted_a"
   ]
  },
  {
   "cell_type": "code",
   "execution_count": null,
   "metadata": {},
   "outputs": [],
   "source": [
    "orted_dim = 1 # sort by rows, preserving each row\n",
    "sorted_column = 2 # sort rows on value of 3rd column of each row\n",
    "sorted_a = tt.as_tensor([[[3, 0, 5, 8], [9, 0, 6, 2], [1, 3, 7, 6]], [[2, 1, 0, 3], [1, 0, 1, 0], [0, 0, 6, 1]]])\n",
    "sorted_a"
   ]
  },
  {
   "cell_type": "code",
   "execution_count": null,
   "metadata": {},
   "outputs": [],
   "source": [
    "# inbuilt \n",
    "import os\n",
    "import sys\n",
    "import math\n",
    "\n",
    "# most common\n",
    "import numpy as np\n",
    "import matplotlib.pyplot as plt\n",
    "\n",
    "# pytorch\n",
    "import torch as tt\n",
    "import torch.nn as nn\n",
    "import torch.functional as ff\n",
    "import torch.distributions as dd\n",
    "import torch.utils.data as ud\n",
    "\n",
    "# custom\n",
    "import known\n",
    "import known.ktorch as kt\n",
    "\n",
    "print(f'{sys.version=}\\n{np.__version__=}\\n{tt.__version__=}\\n{known.__version__=}')"
   ]
  },
  {
   "cell_type": "code",
   "execution_count": null,
   "metadata": {},
   "outputs": [],
   "source": [
    "from typing import Any, Callable, Dict, List, Sequence, Set, Tuple, Union, "
   ]
  },
  {
   "cell_type": "code",
   "execution_count": null,
   "metadata": {},
   "outputs": [],
   "source": [
    "dir(typing)"
   ]
  },
  {
   "cell_type": "code",
   "execution_count": null,
   "metadata": {},
   "outputs": [],
   "source": [
    "help(known.pdate)"
   ]
  },
  {
   "cell_type": "code",
   "execution_count": null,
   "metadata": {},
   "outputs": [],
   "source": [
    "known.ktorch."
   ]
  },
  {
   "cell_type": "code",
   "execution_count": null,
   "metadata": {},
   "outputs": [],
   "source": [
    "tt.os"
   ]
  },
  {
   "cell_type": "code",
   "execution_count": null,
   "metadata": {},
   "outputs": [],
   "source": [
    "plt.figure(figsize=(12,6))\n",
    "for px in [ 'first', 'last', 'mid', 'mean' ]:\n",
    "    a = known.basic.graphfromimage('g1.png', pixel_choice=px)\n",
    "    plt.plot(a)\n",
    "plt.show()"
   ]
  },
  {
   "cell_type": "code",
   "execution_count": null,
   "metadata": {},
   "outputs": [],
   "source": [
    "a = known.basic.graphfromimage('g1.png', pixel_choice='last')\n",
    "plt.plot(a), a.shape, a.ndim, a.dtype#, a"
   ]
  },
  {
   "cell_type": "code",
   "execution_count": null,
   "metadata": {},
   "outputs": [],
   "source": [
    "a = known.basic.graphfromimage('g1.png', pixel_choice='first')\n",
    "plt.plot(a), a.shape, a.ndim, a.dtype#, a"
   ]
  },
  {
   "cell_type": "code",
   "execution_count": null,
   "metadata": {},
   "outputs": [],
   "source": [
    "a = known.basic.graphfromimage('g1.png', pixel_choice='mid')\n",
    "plt.plot(a), a.shape, a.ndim, a.dtype#, a"
   ]
  },
  {
   "cell_type": "code",
   "execution_count": null,
   "metadata": {},
   "outputs": [],
   "source": [
    "a = known.basic.graphfromimage('g1.png', pixel_choice='mean')\n",
    "plt.plot(a), a.shape, a.ndim, a.dtype#, a"
   ]
  }
 ],
 "metadata": {
  "kernelspec": {
   "display_name": "Python 3",
   "language": "python",
   "name": "python3"
  },
  "language_info": {
   "codemirror_mode": {
    "name": "ipython",
    "version": 3
   },
   "file_extension": ".py",
   "mimetype": "text/x-python",
   "name": "python",
   "nbconvert_exporter": "python",
   "pygments_lexer": "ipython3",
   "version": "3.8.10"
  },
  "orig_nbformat": 4,
  "vscode": {
   "interpreter": {
    "hash": "570feb405e2e27c949193ac68f46852414290d515b0ba6e5d90d076ed2284471"
   }
  }
 },
 "nbformat": 4,
 "nbformat_minor": 2
}
