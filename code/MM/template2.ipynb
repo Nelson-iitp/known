{
 "cells": [
  {
   "attachments": {},
   "cell_type": "markdown",
   "metadata": {},
   "source": [
    "# []"
   ]
  },
  {
   "cell_type": "code",
   "execution_count": 1,
   "metadata": {},
   "outputs": [
    {
     "name": "stdout",
     "output_type": "stream",
     "text": [
      "Manual-Seed: 281703975047300\n"
     ]
    }
   ],
   "source": [
    "# inbuilt \n",
    "import os\n",
    "import sys\n",
    "import math\n",
    "\n",
    "# most common\n",
    "import numpy as np\n",
    "import matplotlib.pyplot as plt\n",
    "\n",
    "# pytorch\n",
    "import torch as tt\n",
    "import torch.nn as nn\n",
    "import torch.functional as ff\n",
    "import torch.distributions as dd\n",
    "import torch.utils.data as ud\n",
    "\n",
    "tt.manual_seed(281703975047300) # manually sets a seed for random sampling creation ops\n",
    "print('Manual-Seed:', tt.initial_seed()) # current seed for default rng\n"
   ]
  },
  {
   "cell_type": "code",
   "execution_count": 2,
   "metadata": {},
   "outputs": [],
   "source": [
    "batch_size = 5\n",
    "n_class = 2"
   ]
  },
  {
   "cell_type": "code",
   "execution_count": 3,
   "metadata": {},
   "outputs": [
    {
     "data": {
      "text/plain": [
       "(torch.Size([5, 2]),\n",
       " tensor([[0.5310, 0.4690],\n",
       "         [0.4192, 0.5808],\n",
       "         [0.4847, 0.5153],\n",
       "         [0.5497, 0.4503],\n",
       "         [0.5785, 0.4215]]),\n",
       " tensor([1.0000, 1.0000, 1.0000, 1.0000, 1.0000]))"
      ]
     },
     "execution_count": 3,
     "metadata": {},
     "output_type": "execute_result"
    }
   ],
   "source": [
    "y_pred = tt.softmax( tt.rand((batch_size, n_class)), dim=-1)\n",
    "y_pred.shape, y_pred, tt.sum(y_pred, dim=-1)"
   ]
  },
  {
   "cell_type": "code",
   "execution_count": 4,
   "metadata": {},
   "outputs": [
    {
     "data": {
      "text/plain": [
       "(torch.Size([5]), tensor([0, 1, 0, 0, 0]))"
      ]
     },
     "execution_count": 4,
     "metadata": {},
     "output_type": "execute_result"
    }
   ],
   "source": [
    "y_labels = tt.randint(0, n_class, size=(batch_size,))\n",
    "y_labels.shape, y_labels"
   ]
  },
  {
   "cell_type": "code",
   "execution_count": 5,
   "metadata": {},
   "outputs": [
    {
     "data": {
      "text/plain": [
       "(torch.Size([5, 2]),\n",
       " tensor([[1., 0.],\n",
       "         [0., 1.],\n",
       "         [1., 0.],\n",
       "         [1., 0.],\n",
       "         [1., 0.]]))"
      ]
     },
     "execution_count": 5,
     "metadata": {},
     "output_type": "execute_result"
    }
   ],
   "source": [
    "# convert one-hot\n",
    "y_true = tt.zeros_like(y_pred)\n",
    "for i in range(batch_size):\n",
    "    y_true[i, y_labels[i]]=1\n",
    "y_true.shape, y_true"
   ]
  },
  {
   "cell_type": "code",
   "execution_count": 6,
   "metadata": {},
   "outputs": [],
   "source": [
    "common = [0]\n",
    "rare = [1]"
   ]
  },
  {
   "cell_type": "code",
   "execution_count": 7,
   "metadata": {},
   "outputs": [],
   "source": [
    "class AsymmetricFocalLoss(nn.Module):\n",
    "    \"\"\"For Imbalanced datasets\n",
    "    Parameters\n",
    "    ----------\n",
    "    delta : float, optional\n",
    "        controls weight given to false positive and false negatives, by default 0.25\n",
    "    gamma : float, optional\n",
    "        Focal Tversky loss' focal parameter controls degree of down-weighting of easy examples, by default 2.0\n",
    "    epsilon : float, optional\n",
    "        clip values to prevent division by zero error\n",
    "    \"\"\"\n",
    "    def __init__(self, delta=0.7, gamma=2., epsilon=1e-07):\n",
    "        super(AsymmetricFocalLoss, self).__init__()\n",
    "        self.delta = delta\n",
    "        self.gamma = gamma\n",
    "        self.epsilon = epsilon\n",
    "\n",
    "    def forward(self, y_pred, y_true):\n",
    "        y_pred = tt.clamp(y_pred, self.epsilon, 1. - self.epsilon)\n",
    "        cross_entropy = -y_true * tt.log(y_pred)\n",
    "\n",
    "        print(f'{cross_entropy.shape=}\\n{cross_entropy=}')\n",
    "\n",
    "\t# Calculate losses separately for each class, only suppressing background class\n",
    "        back_ce = tt.pow(1 - y_pred[:,common], self.gamma) * cross_entropy[:,common]\n",
    "        back_ce =  (1 - self.delta) * back_ce\n",
    "        print(f'{back_ce.shape=}\\n{back_ce=}')\n",
    "\n",
    "\n",
    "        fore_ce = cross_entropy[:,rare]\n",
    "        fore_ce = self.delta * fore_ce\n",
    "        print(f'{fore_ce.shape=}\\n{fore_ce=}')\n",
    "\n",
    "        loss_stack = tt.stack([back_ce, fore_ce], axis=-1)\n",
    "        print(f'{loss_stack.shape=}\\n{loss_stack=}')\n",
    "\n",
    "        loss_sum=tt.sum(loss_stack, axis=-1)\n",
    "        print(f'{loss_sum.shape=}\\n{loss_sum=}')\n",
    "\n",
    "        loss = tt.mean(loss_sum)\n",
    "\n",
    "        return loss"
   ]
  },
  {
   "cell_type": "code",
   "execution_count": 8,
   "metadata": {},
   "outputs": [
    {
     "name": "stdout",
     "output_type": "stream",
     "text": [
      "cross_entropy.shape=torch.Size([5, 2])\n",
      "cross_entropy=tensor([[0.6330, 0.0000],\n",
      "        [0.0000, 0.5433],\n",
      "        [0.7242, 0.0000],\n",
      "        [0.5983, 0.0000],\n",
      "        [0.5473, 0.0000]])\n",
      "back_ce.shape=torch.Size([5, 1])\n",
      "back_ce=tensor([[0.0418],\n",
      "        [0.0000],\n",
      "        [0.0577],\n",
      "        [0.0364],\n",
      "        [0.0292]])\n",
      "fore_ce.shape=torch.Size([5, 1])\n",
      "fore_ce=tensor([[0.0000],\n",
      "        [0.3803],\n",
      "        [0.0000],\n",
      "        [0.0000],\n",
      "        [0.0000]])\n",
      "loss_stack.shape=torch.Size([5, 1, 2])\n",
      "loss_stack=tensor([[[0.0418, 0.0000]],\n",
      "\n",
      "        [[0.0000, 0.3803]],\n",
      "\n",
      "        [[0.0577, 0.0000]],\n",
      "\n",
      "        [[0.0364, 0.0000]],\n",
      "\n",
      "        [[0.0292, 0.0000]]])\n",
      "loss_sum.shape=torch.Size([5, 1])\n",
      "loss_sum=tensor([[0.0418],\n",
      "        [0.3803],\n",
      "        [0.0577],\n",
      "        [0.0364],\n",
      "        [0.0292]])\n"
     ]
    },
    {
     "data": {
      "text/plain": [
       "(torch.Size([]), tensor(0.1091))"
      ]
     },
     "execution_count": 8,
     "metadata": {},
     "output_type": "execute_result"
    }
   ],
   "source": [
    "lossF = AsymmetricFocalLoss()\n",
    "loss = lossF(y_pred, y_true)\n",
    "\n",
    "loss.shape, loss"
   ]
  }
 ],
 "metadata": {
  "kernelspec": {
   "display_name": "Python 3",
   "language": "python",
   "name": "python3"
  },
  "language_info": {
   "codemirror_mode": {
    "name": "ipython",
    "version": 3
   },
   "file_extension": ".py",
   "mimetype": "text/x-python",
   "name": "python",
   "nbconvert_exporter": "python",
   "pygments_lexer": "ipython3",
   "version": "3.8.10"
  },
  "orig_nbformat": 4,
  "vscode": {
   "interpreter": {
    "hash": "570feb405e2e27c949193ac68f46852414290d515b0ba6e5d90d076ed2284471"
   }
  }
 },
 "nbformat": 4,
 "nbformat_minor": 2
}
