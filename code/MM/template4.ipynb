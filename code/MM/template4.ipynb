{
 "cells": [
  {
   "attachments": {},
   "cell_type": "markdown",
   "metadata": {},
   "source": [
    "# []"
   ]
  },
  {
   "cell_type": "code",
   "execution_count": null,
   "metadata": {},
   "outputs": [],
   "source": [
    "# inbuilt \n",
    "import os\n",
    "import sys\n",
    "import math\n",
    "\n",
    "# most common\n",
    "import numpy as np\n",
    "import matplotlib.pyplot as plt\n",
    "\n",
    "# pytorch\n",
    "import torch as tt\n",
    "import torch.nn as nn\n",
    "import torch.functional as ff\n",
    "import torch.distributions as dd\n",
    "import torch.utils.data as ud\n",
    "\n",
    "# manually sets a seed for random sampling creation ops\n",
    "print('Manual-Seed:', tt.initial_seed()) # current seed for default rng\n"
   ]
  },
  {
   "cell_type": "code",
   "execution_count": 2,
   "metadata": {},
   "outputs": [],
   "source": [
    "import torch\n",
    "import torch.nn as nn\n",
    "torch.manual_seed(281703975047300) \n",
    "\n",
    "\n",
    "class AsymmetricFocalLoss(nn.Module):\n",
    "    \"\"\"For Imbalanced datasets\n",
    "    Parameters\n",
    "    ----------\n",
    "    delta : float, optional\n",
    "        controls weight given to false positive and false negatives, by default 0.25\n",
    "    gamma : float, optional\n",
    "        Focal Tversky loss' focal parameter controls degree of down-weighting of easy examples, by default 2.0\n",
    "    epsilon : float, optional\n",
    "        clip values to prevent division by zero error\n",
    "    common : list, required\n",
    "        a list of common class indices\n",
    "    rare : list, required\n",
    "        a list of rare class indices\n",
    "    \"\"\"\n",
    "    def __init__(self, common, rare, delta=0.7, gamma=2., epsilon=1e-07):\n",
    "        super(AsymmetricFocalLoss, self).__init__()\n",
    "        self.delta = delta\n",
    "        self.gamma = gamma\n",
    "        self.epsilon = epsilon\n",
    "        self.common = common\n",
    "        self.rare = rare\n",
    "\n",
    "    def forward(self, y_pred, y_labels):\n",
    "        # assume y_pred contain probabilities (batch_size_ n_class)\n",
    "        # y_labels contain integer class lables (batch_size, )\n",
    "\n",
    "        # convert one-hot\n",
    "        y_true = torch.zeros_like(y_pred)\n",
    "        for i,j in enumerate(y_labels):y_true[i, j]=1\n",
    "\n",
    "        # clamp\n",
    "        y_pred = torch.clamp(y_pred, self.epsilon, 1. - self.epsilon)\n",
    "        cross_entropy = -y_true * torch.log(y_pred)\n",
    "        #print(f'{cross_entropy.shape=}\\n{cross_entropy=}')\n",
    "    \n",
    "\t    # Calculate losses separately for each class, only suppressing background class\n",
    "        all_ce=[]\n",
    "\n",
    "        for c in self.common:\n",
    "            back_ce = (1 - self.delta) * (torch.pow(1 - y_pred[:,c], self.gamma) * cross_entropy[:,c])\n",
    "            all_ce.append(back_ce)\n",
    "\n",
    "        for r in self.rare:\n",
    "            fore_ce=self.delta * cross_entropy[:,r]\n",
    "            all_ce.append(fore_ce)\n",
    "\n",
    "        loss_stack = torch.stack(all_ce, axis=-1)\n",
    "        #print(f'{loss_stack.shape=}\\n{loss_stack=}')\n",
    "\n",
    "        loss_sum=torch.sum(loss_stack, axis=-1)\n",
    "        #print(f'{loss_sum.shape=}\\n{loss_sum=}')\n",
    "\n",
    "        loss = torch.mean(loss_sum)\n",
    "\n",
    "        return loss"
   ]
  },
  {
   "cell_type": "code",
   "execution_count": 7,
   "metadata": {},
   "outputs": [
    {
     "name": "stdout",
     "output_type": "stream",
     "text": [
      "y_pred=tensor([[0.5261, 0.4739],\n",
      "        [0.4097, 0.5903],\n",
      "        [0.4087, 0.5913],\n",
      "        [0.3588, 0.6412],\n",
      "        [0.3381, 0.6619]])\n",
      "y_labels=tensor([0, 0, 0, 0, 1])\n"
     ]
    }
   ],
   "source": []
  },
  {
   "cell_type": "code",
   "execution_count": 4,
   "metadata": {},
   "outputs": [
    {
     "data": {
      "text/plain": [
       "(torch.Size([]), tensor(0.1091))"
      ]
     },
     "execution_count": 4,
     "metadata": {},
     "output_type": "execute_result"
    }
   ],
   "source": [
    "lossF = AsymmetricFocalLoss(common = [0], rare = [1])\n",
    "loss = lossF(y_pred, y_labels)\n",
    "\n",
    "loss.shape, loss"
   ]
  },
  {
   "cell_type": "code",
   "execution_count": 9,
   "metadata": {},
   "outputs": [
    {
     "name": "stdout",
     "output_type": "stream",
     "text": [
      "y_pred=tensor([[0.1955, 0.1455, 0.0976, 0.1869, 0.1043, 0.1173, 0.1529],\n",
      "        [0.1613, 0.1635, 0.1121, 0.1290, 0.1571, 0.0993, 0.1777],\n",
      "        [0.0978, 0.1340, 0.1025, 0.1993, 0.2197, 0.1041, 0.1425],\n",
      "        [0.1371, 0.1113, 0.1771, 0.1560, 0.0897, 0.1554, 0.1734],\n",
      "        [0.1960, 0.1890, 0.1403, 0.1076, 0.1714, 0.1079, 0.0878]])\n",
      "y_labels=tensor([0, 3, 2, 5, 3])\n",
      "loss=tensor(1.0328)\n"
     ]
    }
   ],
   "source": [
    "batch_size = 5\n",
    "n_class = 7\n",
    "\n",
    "y_pred = torch.softmax( torch.rand((batch_size, n_class)), dim=-1)\n",
    "y_labels = torch.randint(0, n_class, size=(batch_size,))\n",
    "print(f'{y_pred=}\\n{y_labels=}')\n",
    "\n",
    "lossF = AsymmetricFocalLoss(common = [0,2,4,6], rare = [1,3,5])\n",
    "loss = lossF(y_pred, y_labels)\n",
    "\n",
    "print(f'{loss=}')"
   ]
  }
 ],
 "metadata": {
  "kernelspec": {
   "display_name": "Python 3",
   "language": "python",
   "name": "python3"
  },
  "language_info": {
   "codemirror_mode": {
    "name": "ipython",
    "version": 3
   },
   "file_extension": ".py",
   "mimetype": "text/x-python",
   "name": "python",
   "nbconvert_exporter": "python",
   "pygments_lexer": "ipython3",
   "version": "3.8.10"
  },
  "orig_nbformat": 4,
  "vscode": {
   "interpreter": {
    "hash": "570feb405e2e27c949193ac68f46852414290d515b0ba6e5d90d076ed2284471"
   }
  }
 },
 "nbformat": 4,
 "nbformat_minor": 2
}
