{
 "cells": [
  {
   "attachments": {},
   "cell_type": "markdown",
   "metadata": {},
   "source": [
    "# []"
   ]
  },
  {
   "cell_type": "code",
   "execution_count": 1,
   "metadata": {},
   "outputs": [
    {
     "name": "stdout",
     "output_type": "stream",
     "text": [
      "sys.version='3.10.2 (tags/v3.10.2:a58ebcc, Jan 17 2022, 14:12:15) [MSC v.1929 64 bit (AMD64)]'\n",
      "np.__version__='1.24.1'\n",
      "tt.__version__='1.13.1+cpu'\n",
      "known.__version__='0.0.1'\n"
     ]
    }
   ],
   "source": [
    "# inbuilt \n",
    "import os\n",
    "import sys\n",
    "import math\n",
    "\n",
    "# most common\n",
    "import numpy as np\n",
    "import matplotlib.pyplot as plt\n",
    "\n",
    "# pytorch\n",
    "import torch as tt\n",
    "import torch.nn as nn\n",
    "import torch.functional as ff\n",
    "import torch.distributions as dd\n",
    "import torch.utils.data as ud\n",
    "\n",
    "import random\n",
    "import time\n",
    "# custom\n",
    "import known\n",
    "import known.ktorch as kt\n",
    "print(f'{sys.version=}\\n{np.__version__=}\\n{tt.__version__=}\\n{known.__version__=}')\n"
   ]
  },
  {
   "attachments": {},
   "cell_type": "markdown",
   "metadata": {},
   "source": [
    "# Sample Data"
   ]
  },
  {
   "cell_type": "code",
   "execution_count": 2,
   "metadata": {},
   "outputs": [
    {
     "name": "stdout",
     "output_type": "stream",
     "text": [
      "Manual-Seed: 281703975047300\n"
     ]
    },
    {
     "data": {
      "text/plain": [
       "50"
      ]
     },
     "execution_count": 2,
     "metadata": {},
     "output_type": "execute_result"
    }
   ],
   "source": [
    "# set seed\n",
    "tt.manual_seed(281703975047300) # manually sets a seed for random sampling creation ops\n",
    "print('Manual-Seed:', tt.initial_seed()) # current seed for default rng\n",
    "\n",
    "batch_size = 5 \n",
    "input_size = 4\n",
    "seq_len = 3\n",
    "\n",
    "dt=tt.float32\n",
    "batch_first=False\n",
    "dropout=0.0\n",
    "num_layers = 2\n",
    "\n",
    "num_samples=50\n",
    "num_loops=10\n",
    "\n",
    "xx = [tt.rand(size=(batch_size, seq_len, input_size), dtype=dt) for _ in range(num_samples)] \\\n",
    "            if batch_first else \\\n",
    "    [tt.rand(size=(seq_len, batch_size, input_size), dtype=dt) for _ in range(num_samples) ]\n",
    "len(xx)"
   ]
  },
  {
   "attachments": {},
   "cell_type": "markdown",
   "metadata": {},
   "source": [
    "# Elman"
   ]
  },
  {
   "cell_type": "code",
   "execution_count": null,
   "metadata": {},
   "outputs": [],
   "source": [
    "rnn = kt.ELMANX(\n",
    "    input_size=input_size,\n",
    "    hidden_sizes=(32, 16, 8),\n",
    "    output_sizes=None,\n",
    "    dropout=0.0,\n",
    "    batch_first=False,\n",
    "    stack_output=True,\n",
    "    cell_bias=True,\n",
    "    out_bias=True,\n",
    "    dtype=dt,\n",
    "    activation_gate=tt.sigmoid,\n",
    "    activation_out=None\n",
    ")\n",
    "kt.show_parameters(rnn)\n",
    "y, (h,) = rnn(xx[0])\n",
    "\n",
    "print(f'{y.shape=}')\n",
    "\n",
    "print(f'h: {len(h)}')\n",
    "for i,t in enumerate(h):\n",
    "    print (f'{i}::{t.shape}')"
   ]
  },
  {
   "cell_type": "code",
   "execution_count": null,
   "metadata": {},
   "outputs": [],
   "source": [
    "rnnc = kt.ELMAN(\n",
    "    input_size=input_size,\n",
    "    hidden_sizes=(32, 16, 8),\n",
    "    dropout=0.0,\n",
    "    batch_first=False,\n",
    "    stack_output=True,\n",
    "    has_bias=True,\n",
    "    dtype=dt,\n",
    "    actF=tt.sigmoid,\n",
    ")\n",
    "kt.copy_parameters(rnn, rnnc)\n",
    "kt.show_parameters(rnnc)\n",
    "yc, (hc,) = rnnc(xx[0])\n",
    "\n",
    "print(f'{yc.shape=}')\n",
    "\n",
    "print(f'h: {len(hc)}')\n",
    "for i,t in enumerate(hc):\n",
    "    print (f'{i}::{t.shape}')"
   ]
  },
  {
   "cell_type": "code",
   "execution_count": null,
   "metadata": {},
   "outputs": [],
   "source": [
    "with tt.no_grad():\n",
    "    print(tt.sum(tt.abs(yc - y)))\n",
    "    for ih,ihc in zip(h,hc):\n",
    "        assert ih.shape==ihc.shape\n",
    "        print(tt.sum(tt.abs(ihc - ih)))"
   ]
  },
  {
   "cell_type": "code",
   "execution_count": 3,
   "metadata": {},
   "outputs": [],
   "source": [
    "rnn = kt.ELMANX(\n",
    "    input_size=input_size,\n",
    "    hidden_sizes=(32, 16, 8),\n",
    "    output_sizes=(16, 8, input_size),\n",
    "    dropout=0.0,\n",
    "    batch_first=True,\n",
    "    stack_output=True,\n",
    "    cell_bias=True,\n",
    "    out_bias=True,\n",
    "    dtype=dt,\n",
    "    activation_gate=tt.sigmoid,\n",
    "    activation_out=None,\n",
    "    activation_last=(nn.LogSoftmax,{'dim':-1})\n",
    ")\n"
   ]
  },
  {
   "cell_type": "code",
   "execution_count": 4,
   "metadata": {},
   "outputs": [
    {
     "name": "stdout",
     "output_type": "stream",
     "text": [
      "#[1]\tShape[torch.Size([32, 36])]\tParams: 1152\n",
      "#[2]\tShape[torch.Size([32])]\tParams: 32\n",
      "#[3]\tShape[torch.Size([16, 32])]\tParams: 512\n",
      "#[4]\tShape[torch.Size([16])]\tParams: 16\n",
      "#[5]\tShape[torch.Size([8, 16])]\tParams: 128\n",
      "#[6]\tShape[torch.Size([8])]\tParams: 8\n",
      "#[7]\tShape[torch.Size([16, 36])]\tParams: 576\n",
      "#[8]\tShape[torch.Size([16])]\tParams: 16\n",
      "#[9]\tShape[torch.Size([8, 32])]\tParams: 256\n",
      "#[10]\tShape[torch.Size([8])]\tParams: 8\n",
      "#[11]\tShape[torch.Size([4, 16])]\tParams: 64\n",
      "#[12]\tShape[torch.Size([4])]\tParams: 4\n",
      "Total Parameters: 2772\n",
      "y.shape=torch.Size([5, 3, 4])\n",
      "h: 3\n",
      "0::torch.Size([5, 32])\n",
      "1::torch.Size([5, 16])\n",
      "2::torch.Size([5, 8])\n"
     ]
    }
   ],
   "source": [
    "\n",
    "kt.show_parameters(rnn)\n",
    "y, (h,) = rnn(xx[0].swapdims(0,1))\n",
    "\n",
    "print(f'{y.shape=}')\n",
    "\n",
    "print(f'h: {len(h)}')\n",
    "for i,t in enumerate(h):\n",
    "    print (f'{i}::{t.shape}')"
   ]
  },
  {
   "cell_type": "code",
   "execution_count": 9,
   "metadata": {},
   "outputs": [
    {
     "name": "stdout",
     "output_type": "stream",
     "text": [
      "torch.Size([3, 5, 4]) tensor([[[-1.1351, -1.5066, -1.3831, -1.5791],\n",
      "         [-1.1355, -1.5072, -1.3728, -1.5906],\n",
      "         [-1.1351, -1.5051, -1.3858, -1.5774],\n",
      "         [-1.1352, -1.5071, -1.3786, -1.5839],\n",
      "         [-1.1353, -1.5061, -1.3777, -1.5861]],\n",
      "\n",
      "        [[-1.1377, -1.5991, -1.3180, -1.5622],\n",
      "         [-1.1375, -1.6015, -1.3170, -1.5613],\n",
      "         [-1.1387, -1.6037, -1.3061, -1.5715],\n",
      "         [-1.1383, -1.6051, -1.3129, -1.5619],\n",
      "         [-1.1375, -1.6044, -1.3133, -1.5633]],\n",
      "\n",
      "        [[-1.1326, -1.6584, -1.2853, -1.5569],\n",
      "         [-1.1339, -1.6567, -1.2794, -1.5643],\n",
      "         [-1.1334, -1.6558, -1.2874, -1.5552],\n",
      "         [-1.1326, -1.6548, -1.2845, -1.5611],\n",
      "         [-1.1318, -1.6572, -1.2868, -1.5571]]], grad_fn=<StackBackward0>)\n"
     ]
    }
   ],
   "source": [
    "print(y.shape, y)"
   ]
  },
  {
   "attachments": {},
   "cell_type": "markdown",
   "metadata": {},
   "source": [
    "# GRU"
   ]
  },
  {
   "cell_type": "code",
   "execution_count": null,
   "metadata": {},
   "outputs": [],
   "source": [
    "rnn = kt.GRUX    (\n",
    "    input_size=input_size,\n",
    "    hidden_sizes=(32, 16, 8),\n",
    "    output_sizes=None,#[input_size for _ in range(3)],\n",
    "    dropout=0.0,\n",
    "    batch_first=False,\n",
    "    stack_output=True,\n",
    "    cell_bias=True,\n",
    "    out_bias=True,\n",
    "    dtype=dt,\n",
    "    activation_r_gate=tt.sigmoid, activation_z_gate=tt.sigmoid, activation_n_gate=tt.sigmoid, \n",
    "    activation_out=None\n",
    ")\n",
    "kt.show_parameters(rnn)\n",
    "y, (h,) = rnn(xx[0])\n",
    "\n",
    "print(f'{y.shape=}')\n",
    "\n",
    "print(f'h: {len(h)}')\n",
    "for i,t in enumerate(h):\n",
    "    print (f'{i}::{t.shape}')"
   ]
  },
  {
   "cell_type": "code",
   "execution_count": null,
   "metadata": {},
   "outputs": [],
   "source": [
    "rnnc = kt.GRU    (\n",
    "    input_size=input_size,\n",
    "    hidden_sizes=(32, 16, 8),\n",
    "    dropout=0.0,\n",
    "    batch_first=False,\n",
    "    stack_output=True,\n",
    "    has_bias=True,\n",
    "    dtype=dt,\n",
    "    actF=tt.sigmoid,\n",
    ")\n",
    "kt.copy_parameters(rnn, rnnc)\n",
    "kt.show_parameters(rnnc)\n",
    "yc, (hc,) = rnnc(xx[0])\n",
    "\n",
    "print(f'{yc.shape=}')\n",
    "\n",
    "print(f'h: {len(hc)}')\n",
    "for i,t in enumerate(hc):\n",
    "    print (f'{i}::{t.shape}')"
   ]
  },
  {
   "cell_type": "code",
   "execution_count": null,
   "metadata": {},
   "outputs": [],
   "source": [
    "with tt.no_grad():\n",
    "    print(tt.sum(tt.abs(yc - y)))\n",
    "    for ih,ihc in zip(h,hc):\n",
    "        assert ih.shape==ihc.shape\n",
    "        print(tt.sum(tt.abs(ihc - ih)))"
   ]
  },
  {
   "cell_type": "code",
   "execution_count": 7,
   "metadata": {},
   "outputs": [
    {
     "name": "stdout",
     "output_type": "stream",
     "text": [
      "#[1]\tShape[torch.Size([32, 36])]\tParams: 1152\n",
      "#[2]\tShape[torch.Size([32])]\tParams: 32\n",
      "#[3]\tShape[torch.Size([16, 20])]\tParams: 320\n",
      "#[4]\tShape[torch.Size([16])]\tParams: 16\n",
      "#[5]\tShape[torch.Size([8, 12])]\tParams: 96\n",
      "#[6]\tShape[torch.Size([8])]\tParams: 8\n",
      "#[7]\tShape[torch.Size([32, 36])]\tParams: 1152\n",
      "#[8]\tShape[torch.Size([32])]\tParams: 32\n",
      "#[9]\tShape[torch.Size([16, 20])]\tParams: 320\n",
      "#[10]\tShape[torch.Size([16])]\tParams: 16\n",
      "#[11]\tShape[torch.Size([8, 12])]\tParams: 96\n",
      "#[12]\tShape[torch.Size([8])]\tParams: 8\n",
      "#[13]\tShape[torch.Size([32, 36])]\tParams: 1152\n",
      "#[14]\tShape[torch.Size([32])]\tParams: 32\n",
      "#[15]\tShape[torch.Size([16, 20])]\tParams: 320\n",
      "#[16]\tShape[torch.Size([16])]\tParams: 16\n",
      "#[17]\tShape[torch.Size([8, 12])]\tParams: 96\n",
      "#[18]\tShape[torch.Size([8])]\tParams: 8\n",
      "#[19]\tShape[torch.Size([4, 36])]\tParams: 144\n",
      "#[20]\tShape[torch.Size([4])]\tParams: 4\n",
      "#[21]\tShape[torch.Size([4, 20])]\tParams: 80\n",
      "#[22]\tShape[torch.Size([4])]\tParams: 4\n",
      "#[23]\tShape[torch.Size([4, 12])]\tParams: 48\n",
      "#[24]\tShape[torch.Size([4])]\tParams: 4\n",
      "Total Parameters: 5156\n",
      "y.shape=torch.Size([3, 5, 4])\n",
      "h: 3\n",
      "0::torch.Size([5, 32])\n",
      "1::torch.Size([5, 16])\n",
      "2::torch.Size([5, 8])\n"
     ]
    }
   ],
   "source": [
    "rnn = kt.GRUX    (\n",
    "    input_size=input_size,\n",
    "    hidden_sizes=(32, 16, 8),\n",
    "    output_sizes=[input_size for _ in range(3)],\n",
    "    dropout=0.0,\n",
    "    batch_first=False,\n",
    "    stack_output=True,\n",
    "    cell_bias=True,\n",
    "    out_bias=True,\n",
    "    dtype=dt,\n",
    "    activation_r_gate=tt.sigmoid, activation_z_gate=tt.sigmoid, activation_n_gate=tt.sigmoid, \n",
    "    activation_last=(nn.LogSoftmax,{'dim':-1})\n",
    ")\n",
    "kt.show_parameters(rnn)\n",
    "y, (h,) = rnn(xx[0])\n",
    "\n",
    "print(f'{y.shape=}')\n",
    "\n",
    "print(f'h: {len(h)}')\n",
    "for i,t in enumerate(h):\n",
    "    print (f'{i}::{t.shape}')"
   ]
  },
  {
   "cell_type": "code",
   "execution_count": 8,
   "metadata": {},
   "outputs": [
    {
     "name": "stdout",
     "output_type": "stream",
     "text": [
      "torch.Size([3, 5, 4]) tensor([[[-1.1351, -1.5066, -1.3831, -1.5791],\n",
      "         [-1.1355, -1.5072, -1.3728, -1.5906],\n",
      "         [-1.1351, -1.5051, -1.3858, -1.5774],\n",
      "         [-1.1352, -1.5071, -1.3786, -1.5839],\n",
      "         [-1.1353, -1.5061, -1.3777, -1.5861]],\n",
      "\n",
      "        [[-1.1377, -1.5991, -1.3180, -1.5622],\n",
      "         [-1.1375, -1.6015, -1.3170, -1.5613],\n",
      "         [-1.1387, -1.6037, -1.3061, -1.5715],\n",
      "         [-1.1383, -1.6051, -1.3129, -1.5619],\n",
      "         [-1.1375, -1.6044, -1.3133, -1.5633]],\n",
      "\n",
      "        [[-1.1326, -1.6584, -1.2853, -1.5569],\n",
      "         [-1.1339, -1.6567, -1.2794, -1.5643],\n",
      "         [-1.1334, -1.6558, -1.2874, -1.5552],\n",
      "         [-1.1326, -1.6548, -1.2845, -1.5611],\n",
      "         [-1.1318, -1.6572, -1.2868, -1.5571]]], grad_fn=<StackBackward0>)\n"
     ]
    }
   ],
   "source": [
    "print(y.shape, y)"
   ]
  },
  {
   "attachments": {},
   "cell_type": "markdown",
   "metadata": {},
   "source": [
    "# LSTM"
   ]
  },
  {
   "cell_type": "code",
   "execution_count": null,
   "metadata": {},
   "outputs": [],
   "source": [
    "rnn = kt.LSTMX    (\n",
    "    input_size=input_size,\n",
    "    hidden_sizes=(32, 16, 8),\n",
    "    output_sizes=None,#[input_size for _ in range(3)],\n",
    "    dropout=0.0,\n",
    "    batch_first=False,\n",
    "    stack_output=True,\n",
    "    cell_bias=True,\n",
    "    out_bias=True,\n",
    "    dtype=dt,\n",
    "    activation_i_gate=tt.sigmoid, activation_f_gate=tt.sigmoid, activation_g_gate=tt.sigmoid, \n",
    "    activation_o_gate=tt.sigmoid, activation_cell=tt.tanh, activation_out=None\n",
    ")\n",
    "kt.show_parameters(rnn)\n",
    "y, (h,c) = rnn(xx[0])\n",
    "\n",
    "print(f'{y.shape=}')\n",
    "print(f'h: {len(h)}')\n",
    "for i,t in enumerate(h):\n",
    "    print (f'{i}::{t.shape}')\n",
    "\n",
    "print(f'h: {len(c)}')\n",
    "for i,t in enumerate(c):\n",
    "    print (f'{i}::{t.shape}')"
   ]
  },
  {
   "cell_type": "code",
   "execution_count": null,
   "metadata": {},
   "outputs": [],
   "source": [
    "rnnc = kt.LSTM    (\n",
    "    input_size=input_size,\n",
    "    hidden_sizes=(32, 16, 8),\n",
    "    dropout=0.0,\n",
    "    batch_first=False,\n",
    "    stack_output=True,\n",
    "    has_bias=True,\n",
    "    dtype=dt,\n",
    "    actF=tt.sigmoid,\n",
    "    actC=tt.tanh\n",
    ")\n",
    "kt.copy_parameters(rnn, rnnc)\n",
    "kt.show_parameters(rnnc)\n",
    "yc, (hc,cc) = rnnc(xx[0])\n",
    "\n",
    "print(f'{yc.shape=}')\n",
    "\n",
    "print(f'h: {len(hc)}')\n",
    "for i,t in enumerate(hc):\n",
    "    print (f'{i}::{t.shape}')\n",
    "\n",
    "print(f'c: {len(cc)}')\n",
    "for i,t in enumerate(cc):\n",
    "    print (f'{i}::{t.shape}')"
   ]
  },
  {
   "cell_type": "code",
   "execution_count": null,
   "metadata": {},
   "outputs": [],
   "source": [
    "with tt.no_grad():\n",
    "    print(tt.sum(tt.abs(yc - y)))\n",
    "    for ih,ihc in zip(h,hc):\n",
    "        assert ih.shape==ihc.shape\n",
    "        print(tt.sum(tt.abs(ihc - ih)))\n",
    "    for ih,ihc in zip(c,cc):\n",
    "        assert ih.shape==ihc.shape\n",
    "        print(tt.sum(tt.abs(ihc - ih)))"
   ]
  },
  {
   "cell_type": "code",
   "execution_count": null,
   "metadata": {},
   "outputs": [],
   "source": [
    "rnn = kt.LSTMX    (\n",
    "    input_size=input_size,\n",
    "    hidden_sizes=(32, 16, 8),\n",
    "    output_sizes=[input_size for _ in range(3)],\n",
    "    dropout=0.0,\n",
    "    batch_first=False,\n",
    "    stack_output=True,\n",
    "    cell_bias=True,\n",
    "    out_bias=True,\n",
    "    dtype=dt,\n",
    "    activation_i_gate=tt.sigmoid, activation_f_gate=tt.sigmoid, activation_g_gate=tt.sigmoid, \n",
    "    activation_o_gate=tt.sigmoid, activation_cell=tt.tanh, activation_out=None\n",
    ")\n",
    "kt.show_parameters(rnn)\n",
    "y, (h,c) = rnn(xx[0])\n",
    "\n",
    "print(f'{y.shape=}')\n",
    "print(f'h: {len(h)}')\n",
    "for i,t in enumerate(h):\n",
    "    print (f'{i}::{t.shape}')\n",
    "\n",
    "print(f'h: {len(c)}')\n",
    "for i,t in enumerate(c):\n",
    "    print (f'{i}::{t.shape}')"
   ]
  },
  {
   "attachments": {},
   "cell_type": "markdown",
   "metadata": {},
   "source": [
    "# JANET"
   ]
  },
  {
   "cell_type": "code",
   "execution_count": null,
   "metadata": {},
   "outputs": [],
   "source": [
    "rnn = kt.JANETX(\n",
    "    input_size=input_size,\n",
    "    hidden_sizes=(32, 16, 8),\n",
    "    output_sizes=None,#[input_size for _ in range(3)],\n",
    "    dropout=0.0,\n",
    "    batch_first=False,\n",
    "    stack_output=True,\n",
    "    cell_bias=True,\n",
    "    out_bias=True,\n",
    "    dtype=dt,\n",
    "    activation_f_gate=tt.sigmoid, activation_g_gate=tt.sigmoid,  activation_out=None, beta=1.0\n",
    ")\n",
    "kt.show_parameters(rnn)\n",
    "y, (h,) = rnn(xx[0])\n",
    "\n",
    "print(f'{y.shape=}')\n",
    "\n",
    "print(f'h: {len(h)}')\n",
    "for i,t in enumerate(h):\n",
    "    print (f'{i}::{t.shape}')"
   ]
  },
  {
   "cell_type": "code",
   "execution_count": null,
   "metadata": {},
   "outputs": [],
   "source": [
    "rnnc = kt.JANET(\n",
    "    input_size=input_size,\n",
    "    hidden_sizes=(32, 16, 8),\n",
    "    dropout=0.0,\n",
    "    batch_first=False,\n",
    "    stack_output=True,\n",
    "    has_bias=True,\n",
    "    dtype=dt,\n",
    "    actF=tt.sigmoid, beta=1.0\n",
    ")\n",
    "kt.copy_parameters(rnn, rnnc)\n",
    "kt.show_parameters(rnnc)\n",
    "yc, (hc,) = rnnc(xx[0])\n",
    "\n",
    "print(f'{yc.shape=}')\n",
    "\n",
    "print(f'h: {len(hc)}')\n",
    "for i,t in enumerate(hc):\n",
    "    print (f'{i}::{t.shape}')"
   ]
  },
  {
   "cell_type": "code",
   "execution_count": null,
   "metadata": {},
   "outputs": [],
   "source": [
    "with tt.no_grad():\n",
    "    print(tt.sum(tt.abs(yc - y)))\n",
    "    for ih,ihc in zip(h,hc):\n",
    "        assert ih.shape==ihc.shape\n",
    "        print(tt.sum(tt.abs(ihc - ih)))"
   ]
  },
  {
   "cell_type": "code",
   "execution_count": null,
   "metadata": {},
   "outputs": [],
   "source": [
    "rnn = kt.JANETX(\n",
    "    input_size=input_size,\n",
    "    hidden_sizes=(32, 16, 8),\n",
    "    output_sizes=[input_size for _ in range(3)],\n",
    "    dropout=0.0,\n",
    "    batch_first=False,\n",
    "    stack_output=True,\n",
    "    cell_bias=True,\n",
    "    out_bias=True,\n",
    "    dtype=dt,\n",
    "    activation_f_gate=tt.sigmoid, activation_g_gate=tt.sigmoid,  activation_out=None\n",
    ")\n",
    "kt.show_parameters(rnn)\n",
    "y, (h,) = rnn(xx[0])\n",
    "\n",
    "print(f'{y.shape=}')\n",
    "\n",
    "print(f'h: {len(h)}')\n",
    "for i,t in enumerate(h):\n",
    "    print (f'{i}::{t.shape}')"
   ]
  },
  {
   "attachments": {},
   "cell_type": "markdown",
   "metadata": {},
   "source": [
    "# MGU"
   ]
  },
  {
   "cell_type": "code",
   "execution_count": null,
   "metadata": {},
   "outputs": [],
   "source": [
    "rnn = kt.MGUX(\n",
    "    input_size=input_size,\n",
    "    hidden_sizes=(32, 16, 8),\n",
    "    output_sizes=None,#[input_size for _ in range(3)],\n",
    "    dropout=0.0,\n",
    "    batch_first=False,\n",
    "    stack_output=True,\n",
    "    cell_bias=True,\n",
    "    out_bias=True,\n",
    "    dtype=dt,\n",
    "    activation_f_gate=tt.sigmoid, activation_g_gate=tt.sigmoid,  activation_out=None\n",
    ")\n",
    "kt.show_parameters(rnn)\n",
    "y, (h,) = rnn(xx[0])\n",
    "\n",
    "print(f'{y.shape=}')\n",
    "\n",
    "print(f'h: {len(h)}')\n",
    "for i,t in enumerate(h):\n",
    "    print (f'{i}::{t.shape}')"
   ]
  },
  {
   "cell_type": "code",
   "execution_count": null,
   "metadata": {},
   "outputs": [],
   "source": [
    "rnnc = kt.MGU(\n",
    "    input_size=input_size,\n",
    "    hidden_sizes=(32, 16, 8),\n",
    "    dropout=0.0,\n",
    "    batch_first=False,\n",
    "    stack_output=True,\n",
    "    has_bias=True,\n",
    "    dtype=dt,\n",
    "    actF=tt.sigmoid,\n",
    ")\n",
    "kt.copy_parameters(rnn, rnnc)\n",
    "kt.show_parameters(rnnc)\n",
    "yc, (hc,) = rnnc(xx[0])\n",
    "\n",
    "print(f'{yc.shape=}')\n",
    "\n",
    "print(f'h: {len(hc)}')\n",
    "for i,t in enumerate(hc):\n",
    "    print (f'{i}::{t.shape}')"
   ]
  },
  {
   "cell_type": "code",
   "execution_count": null,
   "metadata": {},
   "outputs": [],
   "source": [
    "with tt.no_grad():\n",
    "    print(tt.sum(tt.abs(yc - y)))\n",
    "    for ih,ihc in zip(h,hc):\n",
    "        assert ih.shape==ihc.shape\n",
    "        print(tt.sum(tt.abs(ihc - ih)))"
   ]
  },
  {
   "cell_type": "code",
   "execution_count": null,
   "metadata": {},
   "outputs": [],
   "source": [
    "rnn = kt.MGUX(\n",
    "    input_size=input_size,\n",
    "    hidden_sizes=(32, 16, 8),\n",
    "    output_sizes=[input_size for _ in range(3)],\n",
    "    dropout=0.0,\n",
    "    batch_first=False,\n",
    "    stack_output=True,\n",
    "    cell_bias=True,\n",
    "    out_bias=True,\n",
    "    dtype=dt,\n",
    "    activation_f_gate=tt.sigmoid, activation_g_gate=tt.sigmoid,  activation_out=None\n",
    ")\n",
    "kt.show_parameters(rnn)\n",
    "y, (h,) = rnn(xx[0])\n",
    "\n",
    "print(f'{y.shape=}')\n",
    "\n",
    "print(f'h: {len(h)}')\n",
    "for i,t in enumerate(h):\n",
    "    print (f'{i}::{t.shape}')"
   ]
  }
 ],
 "metadata": {
  "kernelspec": {
   "display_name": "__venv310__",
   "language": "python",
   "name": "python3"
  },
  "language_info": {
   "codemirror_mode": {
    "name": "ipython",
    "version": 3
   },
   "file_extension": ".py",
   "mimetype": "text/x-python",
   "name": "python",
   "nbconvert_exporter": "python",
   "pygments_lexer": "ipython3",
   "version": "3.10.2"
  },
  "orig_nbformat": 4,
  "vscode": {
   "interpreter": {
    "hash": "8fe6015140738806d41bf643a20b25ab509e1558f046cb4d7778c2b8bb5aa7b5"
   }
  }
 },
 "nbformat": 4,
 "nbformat_minor": 2
}
