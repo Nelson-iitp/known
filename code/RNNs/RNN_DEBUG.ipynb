{
 "cells": [
  {
   "attachments": {},
   "cell_type": "markdown",
   "metadata": {},
   "source": [
    "# []"
   ]
  },
  {
   "cell_type": "code",
   "execution_count": 1,
   "metadata": {},
   "outputs": [
    {
     "name": "stdout",
     "output_type": "stream",
     "text": [
      "sys.version='3.10.2 (tags/v3.10.2:a58ebcc, Jan 17 2022, 14:12:15) [MSC v.1929 64 bit (AMD64)]'\n",
      "np.__version__='1.24.1'\n",
      "tt.__version__='1.13.1+cpu'\n",
      "known.__version__='0.0.1'\n"
     ]
    }
   ],
   "source": [
    "# inbuilt \n",
    "import os\n",
    "import sys\n",
    "import math\n",
    "\n",
    "# most common\n",
    "import numpy as np\n",
    "import matplotlib.pyplot as plt\n",
    "\n",
    "# pytorch\n",
    "import torch as tt\n",
    "import torch.nn as nn\n",
    "import torch.functional as ff\n",
    "import torch.distributions as dd\n",
    "import torch.utils.data as ud\n",
    "\n",
    "import random\n",
    "import time\n",
    "# custom\n",
    "import known\n",
    "import known.ktorch as kt\n",
    "print(f'{sys.version=}\\n{np.__version__=}\\n{tt.__version__=}\\n{known.__version__=}')\n"
   ]
  },
  {
   "attachments": {},
   "cell_type": "markdown",
   "metadata": {},
   "source": [
    "# Sample Data"
   ]
  },
  {
   "cell_type": "code",
   "execution_count": 2,
   "metadata": {},
   "outputs": [
    {
     "name": "stdout",
     "output_type": "stream",
     "text": [
      "Manual-Seed: 281703975047300\n"
     ]
    },
    {
     "data": {
      "text/plain": [
       "50"
      ]
     },
     "execution_count": 2,
     "metadata": {},
     "output_type": "execute_result"
    }
   ],
   "source": [
    "# set seed\n",
    "tt.manual_seed(281703975047300) # manually sets a seed for random sampling creation ops\n",
    "print('Manual-Seed:', tt.initial_seed()) # current seed for default rng\n",
    "\n",
    "batch_size = 5 \n",
    "input_size = 4\n",
    "seq_len = 3\n",
    "\n",
    "dt=tt.float32\n",
    "batch_first=False\n",
    "dropout=0.0\n",
    "num_layers = 2\n",
    "\n",
    "num_samples=50\n",
    "num_loops=10\n",
    "\n",
    "xx = [tt.rand(size=(batch_size, seq_len, input_size), dtype=dt) for _ in range(num_samples)] \\\n",
    "            if batch_first else \\\n",
    "    [tt.rand(size=(seq_len, batch_size, input_size), dtype=dt) for _ in range(num_samples) ]\n",
    "len(xx)"
   ]
  },
  {
   "attachments": {},
   "cell_type": "markdown",
   "metadata": {},
   "source": [
    "# Elman"
   ]
  },
  {
   "cell_type": "code",
   "execution_count": null,
   "metadata": {},
   "outputs": [],
   "source": [
    "rnn = kt.ELMANX(\n",
    "    input_size=input_size,\n",
    "    hidden_sizes=(32, 16, 8),\n",
    "    output_sizes=None,\n",
    "    dropout=0.0,\n",
    "    batch_first=False,\n",
    "    stack_output=True,\n",
    "    cell_bias=True,\n",
    "    out_bias=True,\n",
    "    dtype=dt,\n",
    "    activation_gate=tt.sigmoid,\n",
    "    activation_out=None\n",
    ")\n",
    "kt.show_parameters(rnn)\n",
    "y, (h,) = rnn(xx[0])\n",
    "\n",
    "print(f'{y.shape=}')\n",
    "\n",
    "print(f'h: {len(h)}')\n",
    "for i,t in enumerate(h):\n",
    "    print (f'{i}::{t.shape}')"
   ]
  },
  {
   "cell_type": "code",
   "execution_count": null,
   "metadata": {},
   "outputs": [],
   "source": [
    "rnnc = kt.ELMAN(\n",
    "    input_size=input_size,\n",
    "    hidden_sizes=(32, 16, 8),\n",
    "    dropout=0.0,\n",
    "    batch_first=False,\n",
    "    stack_output=True,\n",
    "    has_bias=True,\n",
    "    dtype=dt,\n",
    "    actF=tt.sigmoid,\n",
    ")\n",
    "kt.copy_parameters(rnn, rnnc)\n",
    "kt.show_parameters(rnnc)\n",
    "yc, (hc,) = rnnc(xx[0])\n",
    "\n",
    "print(f'{yc.shape=}')\n",
    "\n",
    "print(f'h: {len(hc)}')\n",
    "for i,t in enumerate(hc):\n",
    "    print (f'{i}::{t.shape}')"
   ]
  },
  {
   "cell_type": "code",
   "execution_count": null,
   "metadata": {},
   "outputs": [],
   "source": [
    "with tt.no_grad():\n",
    "    print(tt.sum(tt.abs(yc - y)))\n",
    "    for ih,ihc in zip(h,hc):\n",
    "        assert ih.shape==ihc.shape\n",
    "        print(tt.sum(tt.abs(ihc - ih)))"
   ]
  },
  {
   "cell_type": "code",
   "execution_count": null,
   "metadata": {},
   "outputs": [],
   "source": [
    "rnn = kt.ELMANX(\n",
    "    input_size=input_size,\n",
    "    hidden_sizes=(32, 16, 8),\n",
    "    output_sizes=(16, 8, input_size),\n",
    "    dropout=0.0,\n",
    "    batch_first=True,\n",
    "    stack_output=True,\n",
    "    cell_bias=True,\n",
    "    out_bias=True,\n",
    "    dtype=dt,\n",
    "    activation_gate=tt.sigmoid,\n",
    "    activation_out=None,\n",
    "    activation_last=(nn.LogSoftmax,{'dim':-1})\n",
    ")\n",
    "kt.show_parameters(rnn)\n",
    "y, (h,) = rnn(xx[0])\n",
    "\n",
    "print(f'{y.shape=}')\n",
    "\n",
    "print(f'h: {len(h)}')\n",
    "for i,t in enumerate(h):\n",
    "    print (f'{i}::{t.shape}')"
   ]
  },
  {
   "cell_type": "code",
   "execution_count": 3,
   "metadata": {},
   "outputs": [
    {
     "name": "stdout",
     "output_type": "stream",
     "text": [
      "#[1]\tShape[torch.Size([32, 36])]\tParams: 1152\n",
      "#[2]\tShape[torch.Size([32])]\tParams: 32\n",
      "#[3]\tShape[torch.Size([16, 32])]\tParams: 512\n",
      "#[4]\tShape[torch.Size([16])]\tParams: 16\n",
      "#[5]\tShape[torch.Size([8, 16])]\tParams: 128\n",
      "#[6]\tShape[torch.Size([8])]\tParams: 8\n",
      "#[7]\tShape[torch.Size([10, 36])]\tParams: 360\n",
      "#[8]\tShape[torch.Size([10])]\tParams: 10\n",
      "#[9]\tShape[torch.Size([8, 32])]\tParams: 256\n",
      "#[10]\tShape[torch.Size([8])]\tParams: 8\n",
      "#[11]\tShape[torch.Size([5, 16])]\tParams: 80\n",
      "#[12]\tShape[torch.Size([5])]\tParams: 5\n",
      "#[13]\tShape[torch.Size([16, 42])]\tParams: 672\n",
      "#[14]\tShape[torch.Size([16])]\tParams: 16\n",
      "#[15]\tShape[torch.Size([8, 24])]\tParams: 192\n",
      "#[16]\tShape[torch.Size([8])]\tParams: 8\n",
      "#[17]\tShape[torch.Size([4, 13])]\tParams: 52\n",
      "#[18]\tShape[torch.Size([4])]\tParams: 4\n",
      "Total Parameters: 3511\n",
      "yc.shape=torch.Size([3, 5, 4])\n",
      "h: 3\n",
      "0::torch.Size([3, 32])\n",
      "1::torch.Size([3, 16])\n",
      "2::torch.Size([3, 8])\n"
     ]
    }
   ],
   "source": [
    "rnnc = kt.ELMANX(\n",
    "    input_size=input_size,\n",
    "    hidden_sizes=(32, 16, 8),\n",
    "    output_sizes=(10, 8, 5),\n",
    "    output_sizes2=(16, 8, input_size),\n",
    "    dropout=0.0,\n",
    "    batch_first=True,\n",
    "    stack_output=True,\n",
    "    cell_bias=True,\n",
    "    out_bias=True,\n",
    "    dtype=dt,\n",
    "    activation_gate=tt.sigmoid,\n",
    "    activation_out=None,\n",
    "    activation_out2=None,\n",
    "    activation_last=(nn.LogSoftmax,{'dim':-1})\n",
    ")\n",
    "\n",
    "kt.show_parameters(rnnc)\n",
    "yc, (hc,) = rnnc(xx[0])\n",
    "\n",
    "print(f'{yc.shape=}')\n",
    "\n",
    "print(f'h: {len(hc)}')\n",
    "for i,t in enumerate(hc):\n",
    "    print (f'{i}::{t.shape}')"
   ]
  },
  {
   "cell_type": "code",
   "execution_count": null,
   "metadata": {},
   "outputs": [],
   "source": [
    "rnnc"
   ]
  },
  {
   "cell_type": "code",
   "execution_count": null,
   "metadata": {},
   "outputs": [],
   "source": [
    "print(y.shape, y)"
   ]
  },
  {
   "attachments": {},
   "cell_type": "markdown",
   "metadata": {},
   "source": [
    "# GRU"
   ]
  },
  {
   "cell_type": "code",
   "execution_count": null,
   "metadata": {},
   "outputs": [],
   "source": [
    "rnn = kt.GRUX2    (\n",
    "    input_size=input_size,\n",
    "    hidden_sizes=(32, 16, 8),\n",
    "    output_sizes=None,#[input_size for _ in range(3)],\n",
    "    dropout=0.0,\n",
    "    batch_first=False,\n",
    "    stack_output=True,\n",
    "    cell_bias=True,\n",
    "    out_bias=True,\n",
    "    dtype=dt,\n",
    "    activation_r_gate=tt.sigmoid, activation_z_gate=tt.sigmoid, activation_n_gate=tt.sigmoid, \n",
    "    activation_out=None\n",
    ")\n",
    "kt.show_parameters(rnn)\n",
    "y, (h,) = rnn(xx[0])\n",
    "\n",
    "print(f'{y.shape=}')\n",
    "\n",
    "print(f'h: {len(h)}')\n",
    "for i,t in enumerate(h):\n",
    "    print (f'{i}::{t.shape}')"
   ]
  },
  {
   "cell_type": "code",
   "execution_count": null,
   "metadata": {},
   "outputs": [],
   "source": [
    "rnnc = kt.GRU    (\n",
    "    input_size=input_size,\n",
    "    hidden_sizes=(32, 16, 8),\n",
    "    dropout=0.0,\n",
    "    batch_first=False,\n",
    "    stack_output=True,\n",
    "    has_bias=True,\n",
    "    dtype=dt,\n",
    "    actF=tt.sigmoid,\n",
    ")\n",
    "kt.copy_parameters(rnn, rnnc)\n",
    "kt.show_parameters(rnnc)\n",
    "yc, (hc,) = rnnc(xx[0])\n",
    "\n",
    "print(f'{yc.shape=}')\n",
    "\n",
    "print(f'h: {len(hc)}')\n",
    "for i,t in enumerate(hc):\n",
    "    print (f'{i}::{t.shape}')"
   ]
  },
  {
   "cell_type": "code",
   "execution_count": null,
   "metadata": {},
   "outputs": [],
   "source": [
    "with tt.no_grad():\n",
    "    print(tt.sum(tt.abs(yc - y)))\n",
    "    for ih,ihc in zip(h,hc):\n",
    "        assert ih.shape==ihc.shape\n",
    "        print(tt.sum(tt.abs(ihc - ih)))"
   ]
  },
  {
   "cell_type": "code",
   "execution_count": 4,
   "metadata": {},
   "outputs": [
    {
     "name": "stdout",
     "output_type": "stream",
     "text": [
      "#[1]\tShape[torch.Size([32, 36])]\tParams: 1152\n",
      "#[2]\tShape[torch.Size([32])]\tParams: 32\n",
      "#[3]\tShape[torch.Size([16, 32])]\tParams: 512\n",
      "#[4]\tShape[torch.Size([16])]\tParams: 16\n",
      "#[5]\tShape[torch.Size([8, 16])]\tParams: 128\n",
      "#[6]\tShape[torch.Size([8])]\tParams: 8\n",
      "#[7]\tShape[torch.Size([32, 36])]\tParams: 1152\n",
      "#[8]\tShape[torch.Size([32])]\tParams: 32\n",
      "#[9]\tShape[torch.Size([16, 32])]\tParams: 512\n",
      "#[10]\tShape[torch.Size([16])]\tParams: 16\n",
      "#[11]\tShape[torch.Size([8, 16])]\tParams: 128\n",
      "#[12]\tShape[torch.Size([8])]\tParams: 8\n",
      "#[13]\tShape[torch.Size([32, 36])]\tParams: 1152\n",
      "#[14]\tShape[torch.Size([32])]\tParams: 32\n",
      "#[15]\tShape[torch.Size([16, 32])]\tParams: 512\n",
      "#[16]\tShape[torch.Size([16])]\tParams: 16\n",
      "#[17]\tShape[torch.Size([8, 16])]\tParams: 128\n",
      "#[18]\tShape[torch.Size([8])]\tParams: 8\n",
      "#[19]\tShape[torch.Size([4, 36])]\tParams: 144\n",
      "#[20]\tShape[torch.Size([4])]\tParams: 4\n",
      "#[21]\tShape[torch.Size([4, 32])]\tParams: 128\n",
      "#[22]\tShape[torch.Size([4])]\tParams: 4\n",
      "#[23]\tShape[torch.Size([4, 16])]\tParams: 64\n",
      "#[24]\tShape[torch.Size([4])]\tParams: 4\n",
      "#[25]\tShape[torch.Size([16, 36])]\tParams: 576\n",
      "#[26]\tShape[torch.Size([16])]\tParams: 16\n",
      "#[27]\tShape[torch.Size([8, 20])]\tParams: 160\n",
      "#[28]\tShape[torch.Size([8])]\tParams: 8\n",
      "#[29]\tShape[torch.Size([4, 12])]\tParams: 48\n",
      "#[30]\tShape[torch.Size([4])]\tParams: 4\n",
      "Total Parameters: 6704\n",
      "y.shape=torch.Size([3, 5, 4])\n",
      "h: 3\n",
      "0::torch.Size([5, 32])\n",
      "1::torch.Size([5, 16])\n",
      "2::torch.Size([5, 8])\n"
     ]
    }
   ],
   "source": [
    "rnn = kt.GRUX    (\n",
    "    input_size=input_size,\n",
    "    hidden_sizes=(32, 16, 8),\n",
    "    output_sizes=[input_size for _ in range(3)],\n",
    "    output_sizes2=(16, 8, input_size),\n",
    "    dropout=0.0,\n",
    "    batch_first=False,\n",
    "    stack_output=True,\n",
    "    cell_bias=True,\n",
    "    out_bias=True,\n",
    "    dtype=dt,\n",
    "    activation_r_gate=tt.sigmoid, activation_z_gate=tt.sigmoid, activation_n_gate=tt.sigmoid, \n",
    "    activation_last=(nn.LogSoftmax,{'dim':-1})\n",
    ")\n",
    "kt.show_parameters(rnn)\n",
    "y, (h,) = rnn(xx[0])\n",
    "\n",
    "print(f'{y.shape=}')\n",
    "\n",
    "print(f'h: {len(h)}')\n",
    "for i,t in enumerate(h):\n",
    "    print (f'{i}::{t.shape}')"
   ]
  },
  {
   "cell_type": "code",
   "execution_count": null,
   "metadata": {},
   "outputs": [],
   "source": [
    "rnnc = kt.GRUX2    (\n",
    "    input_size=input_size,\n",
    "    hidden_sizes=(32, 16, 8),\n",
    "    output_sizes=[input_size for _ in range(3)],\n",
    "    dropout=0.0,\n",
    "    batch_first=False,\n",
    "    stack_output=True,\n",
    "    cell_bias=True,\n",
    "    out_bias=True,\n",
    "    dtype=dt,\n",
    "    activation_r_gate=tt.sigmoid, activation_z_gate=tt.sigmoid, activation_n_gate=tt.sigmoid, \n",
    "    activation_last=(nn.LogSoftmax,{'dim':-1})\n",
    ")\n",
    "kt.copy_parameters(rnn, rnnc)\n",
    "kt.show_parameters(rnnc)\n",
    "yc, (hc,) = rnnc(xx[0])\n",
    "\n",
    "print(f'{yc.shape=}')\n",
    "\n",
    "print(f'h: {len(hc)}')\n",
    "for i,t in enumerate(hc):\n",
    "    print (f'{i}::{t.shape}')"
   ]
  },
  {
   "cell_type": "code",
   "execution_count": null,
   "metadata": {},
   "outputs": [],
   "source": [
    "with tt.no_grad():\n",
    "    print(tt.sum(tt.abs(yc - y)))\n",
    "    for ih,ihc in zip(h,hc):\n",
    "        assert ih.shape==ihc.shape\n",
    "        print(tt.sum(tt.abs(ihc - ih)))"
   ]
  },
  {
   "cell_type": "code",
   "execution_count": null,
   "metadata": {},
   "outputs": [],
   "source": [
    "print(y.shape, y)"
   ]
  },
  {
   "attachments": {},
   "cell_type": "markdown",
   "metadata": {},
   "source": [
    "# LSTM"
   ]
  },
  {
   "cell_type": "code",
   "execution_count": null,
   "metadata": {},
   "outputs": [],
   "source": [
    "rnn = kt.LSTMX2    (\n",
    "    input_size=input_size,\n",
    "    hidden_sizes=(32, 16, 8),\n",
    "    output_sizes=None,#[input_size for _ in range(3)],\n",
    "    dropout=0.0,\n",
    "    batch_first=False,\n",
    "    stack_output=True,\n",
    "    cell_bias=True,\n",
    "    out_bias=True,\n",
    "    dtype=dt,\n",
    "    activation_i_gate=tt.sigmoid, activation_f_gate=tt.sigmoid, activation_g_gate=tt.sigmoid, \n",
    "    activation_o_gate=tt.sigmoid, activation_cell=tt.tanh, activation_out=None\n",
    ")\n",
    "kt.show_parameters(rnn)\n",
    "y, (h,c) = rnn(xx[0])\n",
    "\n",
    "print(f'{y.shape=}')\n",
    "print(f'h: {len(h)}')\n",
    "for i,t in enumerate(h):\n",
    "    print (f'{i}::{t.shape}')\n",
    "\n",
    "print(f'h: {len(c)}')\n",
    "for i,t in enumerate(c):\n",
    "    print (f'{i}::{t.shape}')"
   ]
  },
  {
   "cell_type": "code",
   "execution_count": null,
   "metadata": {},
   "outputs": [],
   "source": [
    "rnnc = kt.LSTM    (\n",
    "    input_size=input_size,\n",
    "    hidden_sizes=(32, 16, 8),\n",
    "    dropout=0.0,\n",
    "    batch_first=False,\n",
    "    stack_output=True,\n",
    "    has_bias=True,\n",
    "    dtype=dt,\n",
    "    actF=tt.sigmoid,\n",
    "    actC=tt.tanh\n",
    ")\n",
    "kt.copy_parameters(rnn, rnnc)\n",
    "kt.show_parameters(rnnc)\n",
    "yc, (hc,cc) = rnnc(xx[0])\n",
    "\n",
    "print(f'{yc.shape=}')\n",
    "\n",
    "print(f'h: {len(hc)}')\n",
    "for i,t in enumerate(hc):\n",
    "    print (f'{i}::{t.shape}')\n",
    "\n",
    "print(f'c: {len(cc)}')\n",
    "for i,t in enumerate(cc):\n",
    "    print (f'{i}::{t.shape}')"
   ]
  },
  {
   "cell_type": "code",
   "execution_count": null,
   "metadata": {},
   "outputs": [],
   "source": [
    "with tt.no_grad():\n",
    "    print(tt.sum(tt.abs(yc - y)))\n",
    "    for ih,ihc in zip(h,hc):\n",
    "        assert ih.shape==ihc.shape\n",
    "        print(tt.sum(tt.abs(ihc - ih)))\n",
    "    for ih,ihc in zip(c,cc):\n",
    "        assert ih.shape==ihc.shape\n",
    "        print(tt.sum(tt.abs(ihc - ih)))"
   ]
  },
  {
   "cell_type": "code",
   "execution_count": 5,
   "metadata": {},
   "outputs": [
    {
     "name": "stdout",
     "output_type": "stream",
     "text": [
      "#[1]\tShape[torch.Size([32, 36])]\tParams: 1152\n",
      "#[2]\tShape[torch.Size([32])]\tParams: 32\n",
      "#[3]\tShape[torch.Size([16, 32])]\tParams: 512\n",
      "#[4]\tShape[torch.Size([16])]\tParams: 16\n",
      "#[5]\tShape[torch.Size([8, 16])]\tParams: 128\n",
      "#[6]\tShape[torch.Size([8])]\tParams: 8\n",
      "#[7]\tShape[torch.Size([32, 36])]\tParams: 1152\n",
      "#[8]\tShape[torch.Size([32])]\tParams: 32\n",
      "#[9]\tShape[torch.Size([16, 32])]\tParams: 512\n",
      "#[10]\tShape[torch.Size([16])]\tParams: 16\n",
      "#[11]\tShape[torch.Size([8, 16])]\tParams: 128\n",
      "#[12]\tShape[torch.Size([8])]\tParams: 8\n",
      "#[13]\tShape[torch.Size([32, 36])]\tParams: 1152\n",
      "#[14]\tShape[torch.Size([32])]\tParams: 32\n",
      "#[15]\tShape[torch.Size([16, 32])]\tParams: 512\n",
      "#[16]\tShape[torch.Size([16])]\tParams: 16\n",
      "#[17]\tShape[torch.Size([8, 16])]\tParams: 128\n",
      "#[18]\tShape[torch.Size([8])]\tParams: 8\n",
      "#[19]\tShape[torch.Size([32, 36])]\tParams: 1152\n",
      "#[20]\tShape[torch.Size([32])]\tParams: 32\n",
      "#[21]\tShape[torch.Size([16, 32])]\tParams: 512\n",
      "#[22]\tShape[torch.Size([16])]\tParams: 16\n",
      "#[23]\tShape[torch.Size([8, 16])]\tParams: 128\n",
      "#[24]\tShape[torch.Size([8])]\tParams: 8\n",
      "#[25]\tShape[torch.Size([4, 36])]\tParams: 144\n",
      "#[26]\tShape[torch.Size([4])]\tParams: 4\n",
      "#[27]\tShape[torch.Size([4, 32])]\tParams: 128\n",
      "#[28]\tShape[torch.Size([4])]\tParams: 4\n",
      "#[29]\tShape[torch.Size([4, 16])]\tParams: 64\n",
      "#[30]\tShape[torch.Size([4])]\tParams: 4\n",
      "#[31]\tShape[torch.Size([16, 36])]\tParams: 576\n",
      "#[32]\tShape[torch.Size([16])]\tParams: 16\n",
      "#[33]\tShape[torch.Size([8, 20])]\tParams: 160\n",
      "#[34]\tShape[torch.Size([8])]\tParams: 8\n",
      "#[35]\tShape[torch.Size([4, 12])]\tParams: 48\n",
      "#[36]\tShape[torch.Size([4])]\tParams: 4\n",
      "Total Parameters: 8552\n",
      "y.shape=torch.Size([3, 5, 4])\n",
      "h: 3\n",
      "0::torch.Size([5, 32])\n",
      "1::torch.Size([5, 16])\n",
      "2::torch.Size([5, 8])\n",
      "h: 3\n",
      "0::torch.Size([5, 32])\n",
      "1::torch.Size([5, 16])\n",
      "2::torch.Size([5, 8])\n"
     ]
    }
   ],
   "source": [
    "rnn = kt.LSTMX    (\n",
    "    input_size=input_size,\n",
    "    hidden_sizes=(32, 16, 8),\n",
    "    output_sizes=[input_size for _ in range(3)],\n",
    "    output_sizes2=(16, 8, input_size),\n",
    "    dropout=0.0,\n",
    "    batch_first=False,\n",
    "    stack_output=True,\n",
    "    cell_bias=True,\n",
    "    out_bias=True,\n",
    "    dtype=dt,\n",
    "    activation_i_gate=tt.sigmoid, activation_f_gate=tt.sigmoid, activation_g_gate=tt.sigmoid, \n",
    "    activation_o_gate=tt.sigmoid, activation_cell=tt.tanh, activation_out=None\n",
    ")\n",
    "kt.show_parameters(rnn)\n",
    "y, (h,c) = rnn(xx[0])\n",
    "\n",
    "print(f'{y.shape=}')\n",
    "print(f'h: {len(h)}')\n",
    "for i,t in enumerate(h):\n",
    "    print (f'{i}::{t.shape}')\n",
    "\n",
    "print(f'h: {len(c)}')\n",
    "for i,t in enumerate(c):\n",
    "    print (f'{i}::{t.shape}')"
   ]
  },
  {
   "cell_type": "code",
   "execution_count": null,
   "metadata": {},
   "outputs": [],
   "source": [
    "rnnc = kt.LSTMX2   (\n",
    "    input_size=input_size,\n",
    "    hidden_sizes=(32, 16, 8),\n",
    "    output_sizes=[input_size for _ in range(3)],\n",
    "    dropout=0.0,\n",
    "    batch_first=False,\n",
    "    stack_output=True,\n",
    "    cell_bias=True,\n",
    "    out_bias=True,\n",
    "    dtype=dt,\n",
    "    activation_i_gate=tt.sigmoid, activation_f_gate=tt.sigmoid, activation_g_gate=tt.sigmoid, \n",
    "    activation_o_gate=tt.sigmoid, activation_cell=tt.tanh, activation_out=None\n",
    ")\n",
    "kt.copy_parameters(rnn, rnnc)\n",
    "kt.show_parameters(rnnc)\n",
    "yc, (hc,cc) = rnnc(xx[0])\n",
    "\n",
    "print(f'{yc.shape=}')\n",
    "\n",
    "print(f'h: {len(hc)}')\n",
    "for i,t in enumerate(hc):\n",
    "    print (f'{i}::{t.shape}')\n",
    "\n",
    "print(f'c: {len(cc)}')\n",
    "for i,t in enumerate(cc):\n",
    "    print (f'{i}::{t.shape}')"
   ]
  },
  {
   "attachments": {},
   "cell_type": "markdown",
   "metadata": {},
   "source": [
    "# JANET"
   ]
  },
  {
   "cell_type": "code",
   "execution_count": null,
   "metadata": {},
   "outputs": [],
   "source": [
    "rnn = kt.JANETX2(\n",
    "    input_size=input_size,\n",
    "    hidden_sizes=(32, 16, 8),\n",
    "    output_sizes=None,#[input_size for _ in range(3)],\n",
    "    dropout=0.0,\n",
    "    batch_first=False,\n",
    "    stack_output=True,\n",
    "    cell_bias=True,\n",
    "    out_bias=True,\n",
    "    dtype=dt,\n",
    "    activation_f_gate=tt.sigmoid, activation_g_gate=tt.sigmoid,  activation_out=None, beta=0.0\n",
    ")\n",
    "kt.show_parameters(rnn)\n",
    "y, (h,) = rnn(xx[0])\n",
    "\n",
    "print(f'{y.shape=}')\n",
    "\n",
    "print(f'h: {len(h)}')\n",
    "for i,t in enumerate(h):\n",
    "    print (f'{i}::{t.shape}')"
   ]
  },
  {
   "cell_type": "code",
   "execution_count": null,
   "metadata": {},
   "outputs": [],
   "source": [
    "rnnc = kt.JANET(\n",
    "    input_size=input_size,\n",
    "    hidden_sizes=(32, 16, 8),\n",
    "    dropout=0.0,\n",
    "    batch_first=False,\n",
    "    stack_output=True,\n",
    "    has_bias=True,\n",
    "    dtype=dt,\n",
    "    actF=tt.sigmoid, beta=0.0\n",
    ")\n",
    "kt.copy_parameters(rnn, rnnc)\n",
    "kt.show_parameters(rnnc)\n",
    "yc, (hc,) = rnnc(xx[0])\n",
    "\n",
    "print(f'{yc.shape=}')\n",
    "\n",
    "print(f'h: {len(hc)}')\n",
    "for i,t in enumerate(hc):\n",
    "    print (f'{i}::{t.shape}')"
   ]
  },
  {
   "cell_type": "code",
   "execution_count": null,
   "metadata": {},
   "outputs": [],
   "source": [
    "with tt.no_grad():\n",
    "    print(tt.sum(tt.abs(yc - y)))\n",
    "    for ih,ihc in zip(h,hc):\n",
    "        assert ih.shape==ihc.shape\n",
    "        print(tt.sum(tt.abs(ihc - ih)))"
   ]
  },
  {
   "cell_type": "code",
   "execution_count": 6,
   "metadata": {},
   "outputs": [
    {
     "name": "stdout",
     "output_type": "stream",
     "text": [
      "#[1]\tShape[torch.Size([32, 36])]\tParams: 1152\n",
      "#[2]\tShape[torch.Size([32])]\tParams: 32\n",
      "#[3]\tShape[torch.Size([16, 32])]\tParams: 512\n",
      "#[4]\tShape[torch.Size([16])]\tParams: 16\n",
      "#[5]\tShape[torch.Size([8, 16])]\tParams: 128\n",
      "#[6]\tShape[torch.Size([8])]\tParams: 8\n",
      "#[7]\tShape[torch.Size([32, 36])]\tParams: 1152\n",
      "#[8]\tShape[torch.Size([32])]\tParams: 32\n",
      "#[9]\tShape[torch.Size([16, 32])]\tParams: 512\n",
      "#[10]\tShape[torch.Size([16])]\tParams: 16\n",
      "#[11]\tShape[torch.Size([8, 16])]\tParams: 128\n",
      "#[12]\tShape[torch.Size([8])]\tParams: 8\n",
      "#[13]\tShape[torch.Size([4, 36])]\tParams: 144\n",
      "#[14]\tShape[torch.Size([4])]\tParams: 4\n",
      "#[15]\tShape[torch.Size([4, 32])]\tParams: 128\n",
      "#[16]\tShape[torch.Size([4])]\tParams: 4\n",
      "#[17]\tShape[torch.Size([4, 16])]\tParams: 64\n",
      "#[18]\tShape[torch.Size([4])]\tParams: 4\n",
      "#[19]\tShape[torch.Size([16, 36])]\tParams: 576\n",
      "#[20]\tShape[torch.Size([16])]\tParams: 16\n",
      "#[21]\tShape[torch.Size([8, 20])]\tParams: 160\n",
      "#[22]\tShape[torch.Size([8])]\tParams: 8\n",
      "#[23]\tShape[torch.Size([4, 12])]\tParams: 48\n",
      "#[24]\tShape[torch.Size([4])]\tParams: 4\n",
      "Total Parameters: 4856\n",
      "y.shape=torch.Size([3, 5, 4])\n",
      "h: 3\n",
      "0::torch.Size([5, 32])\n",
      "1::torch.Size([5, 16])\n",
      "2::torch.Size([5, 8])\n"
     ]
    }
   ],
   "source": [
    "rnn = kt.JANETX(\n",
    "    input_size=input_size,\n",
    "    hidden_sizes=(32, 16, 8),\n",
    "    output_sizes=[input_size for _ in range(3)],\n",
    "    output_sizes2=(16, 8, input_size),\n",
    "    dropout=0.0,\n",
    "    batch_first=False,\n",
    "    stack_output=True,\n",
    "    cell_bias=True,\n",
    "    out_bias=True,\n",
    "    dtype=dt,\n",
    "    activation_f_gate=tt.sigmoid, activation_g_gate=tt.sigmoid,  activation_out=None\n",
    ")\n",
    "kt.show_parameters(rnn)\n",
    "y, (h,) = rnn(xx[0])\n",
    "\n",
    "print(f'{y.shape=}')\n",
    "\n",
    "print(f'h: {len(h)}')\n",
    "for i,t in enumerate(h):\n",
    "    print (f'{i}::{t.shape}')"
   ]
  },
  {
   "cell_type": "code",
   "execution_count": null,
   "metadata": {},
   "outputs": [],
   "source": [
    "rnnc = kt.JANETX2(\n",
    "    input_size=input_size,\n",
    "    hidden_sizes=(32, 16, 8),\n",
    "    output_sizes=[input_size for _ in range(3)],\n",
    "    dropout=0.0,\n",
    "    batch_first=False,\n",
    "    stack_output=True,\n",
    "    cell_bias=True,\n",
    "    out_bias=True,\n",
    "    dtype=dt,\n",
    "    activation_f_gate=tt.sigmoid, activation_g_gate=tt.sigmoid,  activation_out=None\n",
    ")\n",
    "kt.copy_parameters(rnn, rnnc)\n",
    "kt.show_parameters(rnnc)\n",
    "yc, (hc,) = rnnc(xx[0])\n",
    "\n",
    "print(f'{yc.shape=}')\n",
    "\n",
    "print(f'h: {len(hc)}')\n",
    "for i,t in enumerate(hc):\n",
    "    print (f'{i}::{t.shape}')"
   ]
  },
  {
   "attachments": {},
   "cell_type": "markdown",
   "metadata": {},
   "source": [
    "# MGU"
   ]
  },
  {
   "cell_type": "code",
   "execution_count": null,
   "metadata": {},
   "outputs": [],
   "source": [
    "rnn = kt.MGUX(\n",
    "    input_size=input_size,\n",
    "    hidden_sizes=(32, 16, 8),\n",
    "    output_sizes=None,#[input_size for _ in range(3)],\n",
    "    dropout=0.0,\n",
    "    batch_first=False,\n",
    "    stack_output=True,\n",
    "    cell_bias=True,\n",
    "    out_bias=True,\n",
    "    dtype=dt,\n",
    "    activation_f_gate=tt.sigmoid, activation_g_gate=tt.sigmoid,  activation_out=None\n",
    ")\n",
    "kt.show_parameters(rnn)\n",
    "y, (h,) = rnn(xx[0])\n",
    "\n",
    "print(f'{y.shape=}')\n",
    "\n",
    "print(f'h: {len(h)}')\n",
    "for i,t in enumerate(h):\n",
    "    print (f'{i}::{t.shape}')"
   ]
  },
  {
   "cell_type": "code",
   "execution_count": null,
   "metadata": {},
   "outputs": [],
   "source": [
    "rnnc = kt.MGU(\n",
    "    input_size=input_size,\n",
    "    hidden_sizes=(32, 16, 8),\n",
    "    dropout=0.0,\n",
    "    batch_first=False,\n",
    "    stack_output=True,\n",
    "    has_bias=True,\n",
    "    dtype=dt,\n",
    "    actF=tt.sigmoid,\n",
    ")\n",
    "kt.copy_parameters(rnn, rnnc)\n",
    "kt.show_parameters(rnnc)\n",
    "yc, (hc,) = rnnc(xx[0])\n",
    "\n",
    "print(f'{yc.shape=}')\n",
    "\n",
    "print(f'h: {len(hc)}')\n",
    "for i,t in enumerate(hc):\n",
    "    print (f'{i}::{t.shape}')"
   ]
  },
  {
   "cell_type": "code",
   "execution_count": null,
   "metadata": {},
   "outputs": [],
   "source": [
    "with tt.no_grad():\n",
    "    print(tt.sum(tt.abs(yc - y)))\n",
    "    for ih,ihc in zip(h,hc):\n",
    "        assert ih.shape==ihc.shape\n",
    "        print(tt.sum(tt.abs(ihc - ih)))"
   ]
  },
  {
   "cell_type": "code",
   "execution_count": 7,
   "metadata": {},
   "outputs": [
    {
     "name": "stdout",
     "output_type": "stream",
     "text": [
      "#[1]\tShape[torch.Size([32, 36])]\tParams: 1152\n",
      "#[2]\tShape[torch.Size([32])]\tParams: 32\n",
      "#[3]\tShape[torch.Size([16, 32])]\tParams: 512\n",
      "#[4]\tShape[torch.Size([16])]\tParams: 16\n",
      "#[5]\tShape[torch.Size([8, 16])]\tParams: 128\n",
      "#[6]\tShape[torch.Size([8])]\tParams: 8\n",
      "#[7]\tShape[torch.Size([32, 36])]\tParams: 1152\n",
      "#[8]\tShape[torch.Size([32])]\tParams: 32\n",
      "#[9]\tShape[torch.Size([16, 32])]\tParams: 512\n",
      "#[10]\tShape[torch.Size([16])]\tParams: 16\n",
      "#[11]\tShape[torch.Size([8, 16])]\tParams: 128\n",
      "#[12]\tShape[torch.Size([8])]\tParams: 8\n",
      "#[13]\tShape[torch.Size([4, 36])]\tParams: 144\n",
      "#[14]\tShape[torch.Size([4])]\tParams: 4\n",
      "#[15]\tShape[torch.Size([4, 32])]\tParams: 128\n",
      "#[16]\tShape[torch.Size([4])]\tParams: 4\n",
      "#[17]\tShape[torch.Size([4, 16])]\tParams: 64\n",
      "#[18]\tShape[torch.Size([4])]\tParams: 4\n",
      "#[19]\tShape[torch.Size([16, 36])]\tParams: 576\n",
      "#[20]\tShape[torch.Size([16])]\tParams: 16\n",
      "#[21]\tShape[torch.Size([8, 20])]\tParams: 160\n",
      "#[22]\tShape[torch.Size([8])]\tParams: 8\n",
      "#[23]\tShape[torch.Size([4, 12])]\tParams: 48\n",
      "#[24]\tShape[torch.Size([4])]\tParams: 4\n",
      "Total Parameters: 4856\n",
      "y.shape=torch.Size([3, 5, 4])\n",
      "h: 3\n",
      "0::torch.Size([5, 32])\n",
      "1::torch.Size([5, 16])\n",
      "2::torch.Size([5, 8])\n"
     ]
    }
   ],
   "source": [
    "rnn = kt.MGUX(\n",
    "    input_size=input_size,\n",
    "    hidden_sizes=(32, 16, 8),\n",
    "    output_sizes=[input_size for _ in range(3)],\n",
    "    output_sizes2=(16, 8, input_size),\n",
    "    dropout=0.0,\n",
    "    batch_first=False,\n",
    "    stack_output=True,\n",
    "    cell_bias=True,\n",
    "    out_bias=True,\n",
    "    dtype=dt,\n",
    "    activation_f_gate=tt.sigmoid, activation_g_gate=tt.sigmoid,  activation_out=None\n",
    ")\n",
    "kt.show_parameters(rnn)\n",
    "y, (h,) = rnn(xx[0])\n",
    "\n",
    "print(f'{y.shape=}')\n",
    "\n",
    "print(f'h: {len(h)}')\n",
    "for i,t in enumerate(h):\n",
    "    print (f'{i}::{t.shape}')"
   ]
  },
  {
   "cell_type": "code",
   "execution_count": null,
   "metadata": {},
   "outputs": [],
   "source": [
    "rnnc = kt.MGUX2(\n",
    "    input_size=input_size,\n",
    "    hidden_sizes=(32, 16, 8),\n",
    "    output_sizes=[input_size for _ in range(3)],\n",
    "    dropout=0.0,\n",
    "    batch_first=False,\n",
    "    stack_output=True,\n",
    "    cell_bias=True,\n",
    "    out_bias=True,\n",
    "    dtype=dt,\n",
    "    activation_f_gate=tt.sigmoid, activation_g_gate=tt.sigmoid,  activation_out=None\n",
    ")\n",
    "kt.copy_parameters(rnn, rnnc)\n",
    "kt.show_parameters(rnnc)\n",
    "yc, (hc,) = rnnc(xx[0])\n",
    "\n",
    "print(f'{yc.shape=}')\n",
    "\n",
    "print(f'h: {len(hc)}')\n",
    "for i,t in enumerate(hc):\n",
    "    print (f'{i}::{t.shape}')"
   ]
  }
 ],
 "metadata": {
  "kernelspec": {
   "display_name": "Python 3",
   "language": "python",
   "name": "python3"
  },
  "language_info": {
   "codemirror_mode": {
    "name": "ipython",
    "version": 3
   },
   "file_extension": ".py",
   "mimetype": "text/x-python",
   "name": "python",
   "nbconvert_exporter": "python",
   "pygments_lexer": "ipython3",
   "version": "3.8.10 (tags/v3.8.10:3d8993a, May  3 2021, 11:48:03) [MSC v.1928 64 bit (AMD64)]"
  },
  "orig_nbformat": 4,
  "vscode": {
   "interpreter": {
    "hash": "570feb405e2e27c949193ac68f46852414290d515b0ba6e5d90d076ed2284471"
   }
  }
 },
 "nbformat": 4,
 "nbformat_minor": 2
}
