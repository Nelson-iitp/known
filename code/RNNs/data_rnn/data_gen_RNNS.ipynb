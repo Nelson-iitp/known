{
 "cells": [
  {
   "attachments": {},
   "cell_type": "markdown",
   "metadata": {},
   "source": [
    "# []"
   ]
  },
  {
   "cell_type": "code",
   "execution_count": 2,
   "metadata": {},
   "outputs": [
    {
     "name": "stdout",
     "output_type": "stream",
     "text": [
      "sys.version='3.8.10 (tags/v3.8.10:3d8993a, May  3 2021, 11:48:03) [MSC v.1928 64 bit (AMD64)]'\n",
      "np.__version__='1.22.2'\n",
      "tt.__version__='1.10.1+cu102'\n",
      "known.__version__='0.0.1'\n"
     ]
    }
   ],
   "source": [
    "# inbuilt \n",
    "import os\n",
    "import sys\n",
    "import math\n",
    "\n",
    "# most common\n",
    "import numpy as np\n",
    "import matplotlib.pyplot as plt\n",
    "\n",
    "# pytorch\n",
    "import torch as tt\n",
    "import torch.nn as nn\n",
    "import torch.optim as oo\n",
    "import torch.functional as ff\n",
    "import torch.distributions as dd\n",
    "import torch.utils.data as ud\n",
    "\n",
    "# custom\n",
    "import known\n",
    "import known.basic as kb\n",
    "import known.ktorch as kt\n",
    "print(f'{sys.version=}\\n{np.__version__=}\\n{tt.__version__=}\\n{known.__version__=}')"
   ]
  },
  {
   "attachments": {},
   "cell_type": "markdown",
   "metadata": {},
   "source": [
    "## sinusodial 3-dim"
   ]
  },
  {
   "cell_type": "code",
   "execution_count": 5,
   "metadata": {},
   "outputs": [
    {
     "data": {
      "text/plain": [
       "(200, (0.7, 0.3), [(0, 140, 140), (140, 200, 60)], 200)"
      ]
     },
     "execution_count": 5,
     "metadata": {},
     "output_type": "execute_result"
    }
   ],
   "source": [
    "n=200\n",
    "def gen(rng, d):\n",
    "    x=np.linspace(0, 10*np.pi, n)\n",
    "    if d==0:\n",
    "        y = 10*np.sin(x)\n",
    "    elif d==1:\n",
    "        y = -5*np.cos(x)\n",
    "    elif d==2:\n",
    "        y = 7*np.sin(x) + -9*np.cos(x)\n",
    "    else:\n",
    "        print('invalid dim')\n",
    "    return y\n",
    "\n",
    "kt.SeqDataset.generateS(\n",
    "    genF=gen,\n",
    "    colS=[ str(i+1) for i in range(3) ], \n",
    "    csv='sinu.csv',\n",
    "    normalize=False,\n",
    "    seed=None,\n",
    "    splits=(0.7, 0.3), \n",
    "    split_names=('train', 'test'), \n",
    ")\n"
   ]
  },
  {
   "attachments": {},
   "cell_type": "markdown",
   "metadata": {},
   "source": [
    "## Custom 2-dim"
   ]
  },
  {
   "cell_type": "code",
   "execution_count": 4,
   "metadata": {},
   "outputs": [
    {
     "data": {
      "text/plain": [
       "(500, (0.7, 0.3), [(0, 350, 350), (350, 500, 150)], 500)"
      ]
     },
     "execution_count": 4,
     "metadata": {},
     "output_type": "execute_result"
    }
   ],
   "source": [
    "pfiles = ['g1.png', 'g2.png']\n",
    "px='mid' #for px in [ 'first', 'last', 'mid', 'mean' ]:\n",
    "p_scale=0.5\n",
    "p_bias=5\n",
    "def gen(rng, d):\n",
    "    y = known.basic.graphfromimage(pfiles[d], pixel_choice=px)*p_scale + p_bias\n",
    "    return y\n",
    "\n",
    "kt.SeqDataset.generateS(\n",
    "    genF=gen,\n",
    "    colS=[ str(i+1) for i in range(len(pfiles)) ], \n",
    "    csv='g.csv',\n",
    "    normalize=False,\n",
    "    seed=None,\n",
    "    splits=(0.7, 0.3), \n",
    "    split_names=('train', 'test'), \n",
    "\n",
    ")"
   ]
  },
  {
   "cell_type": "code",
   "execution_count": 4,
   "metadata": {},
   "outputs": [
    {
     "data": {
      "text/plain": [
       "(500, (0.7, 0.3), [(0, 350, 350), (350, 500, 150)], 500)"
      ]
     },
     "execution_count": 4,
     "metadata": {},
     "output_type": "execute_result"
    }
   ],
   "source": [
    "pfiles = ['h1.png', 'h2.png']\n",
    "px='mid' #for px in [ 'first', 'last', 'mid', 'mean' ]:\n",
    "p_scale=0.5\n",
    "p_bias=5\n",
    "def gen(rng, d):\n",
    "    y = known.basic.graphfromimage(pfiles[d], pixel_choice=px)*p_scale + p_bias\n",
    "    return y\n",
    "\n",
    "kt.SeqDataset.generateS(\n",
    "    genF=gen,\n",
    "    colS=[ str(i+1) for i in range(len(pfiles)) ], \n",
    "    csv='h.csv',\n",
    "    normalize=False,\n",
    "    seed=None,\n",
    "    splits=(0.7, 0.3), \n",
    "    split_names=('train', 'test'), \n",
    "\n",
    ")"
   ]
  }
 ],
 "metadata": {
  "kernelspec": {
   "display_name": "Python 3",
   "language": "python",
   "name": "python3"
  },
  "language_info": {
   "codemirror_mode": {
    "name": "ipython",
    "version": 3
   },
   "file_extension": ".py",
   "mimetype": "text/x-python",
   "name": "python",
   "nbconvert_exporter": "python",
   "pygments_lexer": "ipython3",
   "version": "3.8.10"
  },
  "orig_nbformat": 4,
  "vscode": {
   "interpreter": {
    "hash": "570feb405e2e27c949193ac68f46852414290d515b0ba6e5d90d076ed2284471"
   }
  }
 },
 "nbformat": 4,
 "nbformat_minor": 2
}
