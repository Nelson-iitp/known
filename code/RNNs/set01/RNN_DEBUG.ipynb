{
 "cells": [
  {
   "attachments": {},
   "cell_type": "markdown",
   "metadata": {},
   "source": [
    "# []"
   ]
  },
  {
   "cell_type": "code",
   "execution_count": 1,
   "metadata": {},
   "outputs": [
    {
     "name": "stdout",
     "output_type": "stream",
     "text": [
      "sys.version='3.8.10 (tags/v3.8.10:3d8993a, May  3 2021, 11:48:03) [MSC v.1928 64 bit (AMD64)]'\n",
      "np.__version__='1.22.2'\n",
      "tt.__version__='1.10.1+cu102'\n",
      "known.__version__='0.0.1'\n"
     ]
    }
   ],
   "source": [
    "# inbuilt \n",
    "import os\n",
    "import sys\n",
    "import math\n",
    "\n",
    "# most common\n",
    "import numpy as np\n",
    "import matplotlib.pyplot as plt\n",
    "\n",
    "# pytorch\n",
    "import torch as tt\n",
    "import torch.nn as nn\n",
    "import torch.functional as ff\n",
    "import torch.distributions as dd\n",
    "import torch.utils.data as ud\n",
    "\n",
    "import random\n",
    "import time\n",
    "# custom\n",
    "import known\n",
    "import known.ktorch as kt\n",
    "print(f'{sys.version=}\\n{np.__version__=}\\n{tt.__version__=}\\n{known.__version__=}')\n"
   ]
  },
  {
   "attachments": {},
   "cell_type": "markdown",
   "metadata": {},
   "source": [
    "# Sample Data"
   ]
  },
  {
   "cell_type": "code",
   "execution_count": 2,
   "metadata": {},
   "outputs": [
    {
     "name": "stdout",
     "output_type": "stream",
     "text": [
      "Manual-Seed: 281703975047300\n"
     ]
    },
    {
     "data": {
      "text/plain": [
       "50"
      ]
     },
     "execution_count": 2,
     "metadata": {},
     "output_type": "execute_result"
    }
   ],
   "source": [
    "# set seed\n",
    "tt.manual_seed(281703975047300) # manually sets a seed for random sampling creation ops\n",
    "print('Manual-Seed:', tt.initial_seed()) # current seed for default rng\n",
    "\n",
    "batch_size = 16 \n",
    "input_size = 3\n",
    "seq_len = 7\n",
    "\n",
    "dt=tt.float32\n",
    "batch_first=False\n",
    "stack_output=True\n",
    "dropout=0.0\n",
    "num_layers = 2\n",
    "\n",
    "num_samples=50\n",
    "num_loops=10\n",
    "\n",
    "xx = [tt.rand(size=(batch_size, seq_len, input_size), dtype=dt) for _ in range(num_samples)] \\\n",
    "            if batch_first else \\\n",
    "    [tt.rand(size=(seq_len, batch_size, input_size), dtype=dt) for _ in range(num_samples) ]\n",
    "len(xx)"
   ]
  },
  {
   "cell_type": "code",
   "execution_count": 3,
   "metadata": {},
   "outputs": [
    {
     "data": {
      "text/plain": [
       "(50, torch.Size([7, 16, 3]))"
      ]
     },
     "execution_count": 3,
     "metadata": {},
     "output_type": "execute_result"
    }
   ],
   "source": [
    "len(xx), xx[0].shape"
   ]
  },
  {
   "attachments": {},
   "cell_type": "markdown",
   "metadata": {},
   "source": [
    "# Elman"
   ]
  },
  {
   "cell_type": "code",
   "execution_count": 4,
   "metadata": {},
   "outputs": [
    {
     "name": "stdout",
     "output_type": "stream",
     "text": [
      "#[1]\tShape[torch.Size([32, 35])]\tParams: 1120\n",
      "#[2]\tShape[torch.Size([32])]\tParams: 32\n",
      "#[3]\tShape[torch.Size([16, 48])]\tParams: 768\n",
      "#[4]\tShape[torch.Size([16])]\tParams: 16\n",
      "#[5]\tShape[torch.Size([3, 19])]\tParams: 57\n",
      "#[6]\tShape[torch.Size([3])]\tParams: 3\n",
      "Total Parameters: 1996\n"
     ]
    },
    {
     "data": {
      "text/plain": [
       "1996"
      ]
     },
     "execution_count": 4,
     "metadata": {},
     "output_type": "execute_result"
    }
   ],
   "source": [
    "rnn0 = kt.ELMAN(\n",
    "    input_size=input_size,\n",
    "    hidden_sizes=(32, 16, input_size),\n",
    "    output_sizes=None,\n",
    "    output_sizes2=None,\n",
    "    dropout=0.0,\n",
    "    batch_first=batch_first,\n",
    "    stack_output=stack_output,\n",
    "    cell_bias=True,\n",
    "    out_bias=True,\n",
    "    out_bias2=True,\n",
    "    dtype=dt, device=None,\n",
    "\n",
    "    activation_gate=tt.sigmoid,\n",
    "    activation_out=None,\n",
    "    activation_out2=None, \n",
    "    activation_last=None,\n",
    ")\n",
    "kt.show_parameters(rnn0)"
   ]
  },
  {
   "cell_type": "code",
   "execution_count": 5,
   "metadata": {},
   "outputs": [
    {
     "name": "stdout",
     "output_type": "stream",
     "text": [
      "#[1]\tShape[torch.Size([32, 35])]\tParams: 1120\n",
      "#[2]\tShape[torch.Size([32])]\tParams: 32\n",
      "#[3]\tShape[torch.Size([16, 32])]\tParams: 512\n",
      "#[4]\tShape[torch.Size([16])]\tParams: 16\n",
      "#[5]\tShape[torch.Size([8, 16])]\tParams: 128\n",
      "#[6]\tShape[torch.Size([8])]\tParams: 8\n",
      "#[7]\tShape[torch.Size([16, 35])]\tParams: 560\n",
      "#[8]\tShape[torch.Size([16])]\tParams: 16\n",
      "#[9]\tShape[torch.Size([8, 32])]\tParams: 256\n",
      "#[10]\tShape[torch.Size([8])]\tParams: 8\n",
      "#[11]\tShape[torch.Size([3, 16])]\tParams: 48\n",
      "#[12]\tShape[torch.Size([3])]\tParams: 3\n",
      "Total Parameters: 2707\n"
     ]
    },
    {
     "data": {
      "text/plain": [
       "2707"
      ]
     },
     "execution_count": 5,
     "metadata": {},
     "output_type": "execute_result"
    }
   ],
   "source": [
    "rnn1 = kt.ELMAN(\n",
    "    input_size=input_size,\n",
    "    hidden_sizes=(32, 16, 8),\n",
    "    output_sizes=(16, 8, input_size),\n",
    "    output_sizes2=None,\n",
    "    dropout=0.0,\n",
    "    batch_first=batch_first,\n",
    "    stack_output=stack_output,\n",
    "    cell_bias=True,\n",
    "    out_bias=True,\n",
    "    out_bias2=True,\n",
    "    dtype=dt, device=None,\n",
    "\n",
    "    activation_gate=tt.sigmoid,\n",
    "    activation_out=None,\n",
    "    activation_out2=None, \n",
    "    activation_last=None,\n",
    ")\n",
    "kt.show_parameters(rnn1)"
   ]
  },
  {
   "cell_type": "code",
   "execution_count": 6,
   "metadata": {},
   "outputs": [
    {
     "name": "stdout",
     "output_type": "stream",
     "text": [
      "#[1]\tShape[torch.Size([32, 35])]\tParams: 1120\n",
      "#[2]\tShape[torch.Size([32])]\tParams: 32\n",
      "#[3]\tShape[torch.Size([16, 32])]\tParams: 512\n",
      "#[4]\tShape[torch.Size([16])]\tParams: 16\n",
      "#[5]\tShape[torch.Size([8, 16])]\tParams: 128\n",
      "#[6]\tShape[torch.Size([8])]\tParams: 8\n",
      "#[7]\tShape[torch.Size([16, 35])]\tParams: 560\n",
      "#[8]\tShape[torch.Size([16])]\tParams: 16\n",
      "#[9]\tShape[torch.Size([8, 32])]\tParams: 256\n",
      "#[10]\tShape[torch.Size([8])]\tParams: 8\n",
      "#[11]\tShape[torch.Size([4, 16])]\tParams: 64\n",
      "#[12]\tShape[torch.Size([4])]\tParams: 4\n",
      "#[13]\tShape[torch.Size([16, 48])]\tParams: 768\n",
      "#[14]\tShape[torch.Size([16])]\tParams: 16\n",
      "#[15]\tShape[torch.Size([8, 24])]\tParams: 192\n",
      "#[16]\tShape[torch.Size([8])]\tParams: 8\n",
      "#[17]\tShape[torch.Size([3, 12])]\tParams: 36\n",
      "#[18]\tShape[torch.Size([3])]\tParams: 3\n",
      "Total Parameters: 3747\n"
     ]
    },
    {
     "data": {
      "text/plain": [
       "3747"
      ]
     },
     "execution_count": 6,
     "metadata": {},
     "output_type": "execute_result"
    }
   ],
   "source": [
    "rnn2 = kt.ELMAN(\n",
    "    input_size=input_size,\n",
    "    hidden_sizes=(32, 16, 8),\n",
    "    output_sizes=(16, 8, 4),\n",
    "    output_sizes2=(16, 8, input_size),\n",
    "    dropout=0.0,\n",
    "    batch_first=batch_first,\n",
    "    stack_output=stack_output,\n",
    "    cell_bias=True,\n",
    "    out_bias=True,\n",
    "    out_bias2=True,\n",
    "    dtype=dt, device=None,\n",
    "\n",
    "    activation_gate=tt.sigmoid,\n",
    "    activation_out=None,\n",
    "    activation_out2=None, \n",
    "    activation_last=None,\n",
    ")\n",
    "kt.show_parameters(rnn2)"
   ]
  },
  {
   "cell_type": "code",
   "execution_count": 7,
   "metadata": {},
   "outputs": [
    {
     "name": "stdout",
     "output_type": "stream",
     "text": [
      "RNN-0\n",
      "y: 9\n",
      "0::torch.Size([16, 3])\n",
      "1::torch.Size([16, 3])\n",
      "2::torch.Size([16, 3])\n",
      "3::torch.Size([16, 3])\n",
      "4::torch.Size([16, 3])\n",
      "5::torch.Size([16, 3])\n",
      "6::torch.Size([16, 3])\n",
      "7::torch.Size([16, 3])\n",
      "8::torch.Size([16, 3])\n",
      "h: 3\n",
      "0::torch.Size([16, 32])\n",
      "1::torch.Size([16, 16])\n",
      "2::torch.Size([16, 3])\n",
      "RNN-1\n",
      "y: 9\n",
      "0::torch.Size([16, 3])\n",
      "1::torch.Size([16, 3])\n",
      "2::torch.Size([16, 3])\n",
      "3::torch.Size([16, 3])\n",
      "4::torch.Size([16, 3])\n",
      "5::torch.Size([16, 3])\n",
      "6::torch.Size([16, 3])\n",
      "7::torch.Size([16, 3])\n",
      "8::torch.Size([16, 3])\n",
      "h: 3\n",
      "0::torch.Size([16, 32])\n",
      "1::torch.Size([16, 16])\n",
      "2::torch.Size([16, 8])\n",
      "RNN-2\n",
      "y: 9\n",
      "0::torch.Size([16, 3])\n",
      "1::torch.Size([16, 3])\n",
      "2::torch.Size([16, 3])\n",
      "3::torch.Size([16, 3])\n",
      "4::torch.Size([16, 3])\n",
      "5::torch.Size([16, 3])\n",
      "6::torch.Size([16, 3])\n",
      "7::torch.Size([16, 3])\n",
      "8::torch.Size([16, 3])\n",
      "h: 3\n",
      "0::torch.Size([16, 32])\n",
      "1::torch.Size([16, 16])\n",
      "2::torch.Size([16, 8])\n"
     ]
    }
   ],
   "source": [
    "with tt.no_grad():\n",
    "    for i,rnn in enumerate([rnn0, rnn1, rnn2]):\n",
    "        print(f'RNN-{i}')\n",
    "        y, (h,) = rnn(xx[0], future=2)\n",
    "\n",
    "        print(f'y: {len(y)}')\n",
    "        for i,t in enumerate(y):\n",
    "            print (f'{i}::{t.shape}')\n",
    "\n",
    "        print(f'h: {len(h)}')\n",
    "        for i,t in enumerate(h):\n",
    "            print (f'{i}::{t.shape}')"
   ]
  }
 ],
 "metadata": {
  "kernelspec": {
   "display_name": "Python 3",
   "language": "python",
   "name": "python3"
  },
  "language_info": {
   "codemirror_mode": {
    "name": "ipython",
    "version": 3
   },
   "file_extension": ".py",
   "mimetype": "text/x-python",
   "name": "python",
   "nbconvert_exporter": "python",
   "pygments_lexer": "ipython3",
   "version": "3.8.10 (tags/v3.8.10:3d8993a, May  3 2021, 11:48:03) [MSC v.1928 64 bit (AMD64)]"
  },
  "orig_nbformat": 4,
  "vscode": {
   "interpreter": {
    "hash": "570feb405e2e27c949193ac68f46852414290d515b0ba6e5d90d076ed2284471"
   }
  }
 },
 "nbformat": 4,
 "nbformat_minor": 2
}
