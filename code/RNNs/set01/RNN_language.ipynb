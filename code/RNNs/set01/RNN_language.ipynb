{
 "cells": [
  {
   "cell_type": "markdown",
   "metadata": {},
   "source": [
    "# [ global ]"
   ]
  },
  {
   "cell_type": "code",
   "execution_count": null,
   "metadata": {
    "tags": []
   },
   "outputs": [],
   "source": [
    "# inbuilt \n",
    "import os\n",
    "import sys\n",
    "import math\n",
    "\n",
    "# most common\n",
    "import numpy as np\n",
    "import matplotlib.pyplot as plt\n",
    "\n",
    "# pytorch\n",
    "import torch as tt\n",
    "import torch.nn as nn\n",
    "import torch.optim as oo\n",
    "import torch.functional as ff\n",
    "import torch.distributions as dd\n",
    "import torch.utils.data as ud\n",
    "\n",
    "# custom\n",
    "import known\n",
    "import known.ktorch as kt\n",
    "from known.basic import pj\n",
    "print(f'{sys.version=}\\n{np.__version__=}\\n{tt.__version__=}\\n{known.__version__=}')\n",
    "\n",
    "from torch.utils.data import Dataset, IterableDataset, DataLoader\n",
    "import glob\n",
    "\n",
    "import unicodedata\n",
    "import string\n",
    "\n",
    "import known \n",
    "import known.ktorch as kt"
   ]
  },
  {
   "cell_type": "code",
   "execution_count": null,
   "metadata": {},
   "outputs": [],
   "source": [
    "vocab_words = ['a', 'b']\n",
    "ds = kt.LangDataset(vocab_words, embed=1, dtype=tt.float32)"
   ]
  },
  {
   "cell_type": "code",
   "execution_count": null,
   "metadata": {},
   "outputs": [],
   "source": [
    "known.basic.Verbose.show(ds)"
   ]
  },
  {
   "cell_type": "code",
   "execution_count": null,
   "metadata": {},
   "outputs": [],
   "source": [
    "known.basic.Verbose.show(ds.vocab)"
   ]
  },
  {
   "cell_type": "code",
   "execution_count": null,
   "metadata": {},
   "outputs": [],
   "source": [
    "ds.add_class('astr', 'bstr', 'mixed')\n"
   ]
  },
  {
   "cell_type": "code",
   "execution_count": null,
   "metadata": {},
   "outputs": [],
   "source": [
    "ds.add_samples('astr', 'aaaa', 'aaa', 'aa')\n",
    "ds.add_samples('bstr', 'bbbb', 'bbb', 'bb')\n",
    "ds.add_samples('mixed', 'abab', 'aba', 'ba')"
   ]
  },
  {
   "cell_type": "code",
   "execution_count": null,
   "metadata": {},
   "outputs": [],
   "source": [
    "\n"
   ]
  },
  {
   "cell_type": "code",
   "execution_count": null,
   "metadata": {},
   "outputs": [],
   "source": [
    "dl=iter(DataLoader(ds, batch_size=1))\n",
    "x,y = next(dl)\n",
    "\n",
    "\n",
    "known.basic.Verbose.info(x, True)\n",
    "known.basic.Verbose.info(y, True)\n"
   ]
  },
  {
   "cell_type": "code",
   "execution_count": null,
   "metadata": {},
   "outputs": [],
   "source": [
    "\n",
    "rnnc = kt.ELMANX(\n",
    "    input_size=ds.vocab.vlen,\n",
    "    hidden_sizes=(32, 16, 8),\n",
    "    output_sizes=(16, 8, ds.n_classes),\n",
    "    dropout=0.0,\n",
    "    batch_first=True,\n",
    "    stack_output=True,\n",
    "    cell_bias=True,\n",
    "    out_bias=True,\n",
    "    dtype=tt.float32,\n",
    "    activation_gate=tt.sigmoid,\n",
    "    activation_out=tt.tanh,\n",
    "    activation_last=(nn.LogSoftmax,{'dim':-1})\n",
    ")\n"
   ]
  },
  {
   "cell_type": "code",
   "execution_count": null,
   "metadata": {},
   "outputs": [],
   "source": [
    "\n",
    "model=rnnc\n",
    "epochs = 200\n",
    "batch_size=1\n",
    "shuffle=True\n",
    "validation_freq = int(epochs/10)\n",
    "criterion=nn.NLLLoss()\n",
    "lr = 0.005\n",
    "weight_decay = 0.0\n",
    "optimizer=oo.Adam(rnnc.parameters(), lr=lr, weight_decay=weight_decay)\n",
    "lrs=oo.lr_scheduler.LinearLR(optimizer, start_factor= 1.0, end_factor=0.7, total_iters=epochs)\n",
    "\n",
    "early_stop_train=kt.QuantiyMonitor('TrainLoss', patience=50, delta=0.00001)\n",
    "early_stop_val=kt.QuantiyMonitor('ValLoss', patience=50, delta=0.00001)\n",
    "checkpoint_freq=int(epochs/4)\n",
    "save_path='sample.rnn'\n",
    "loss_plot_start = int(epochs/50)\n",
    "\n",
    "trainer = kt.Trainer(model)\n",
    "trainer.optimizer=optimizer\n",
    "trainer.criterion=criterion\n",
    "\n",
    "trainer.fit(training_data=ds, validation_data=None, \n",
    "            epochs=epochs, batch_size=batch_size,shuffle=shuffle,validation_freq=validation_freq,\n",
    "            save_path=save_path, use_rnn=True, verbose=1)\n",
    "\n",
    "trainer.plot_results(loss_plot_start=loss_plot_start)\n",
    "\n",
    "#mtl, tl = trainer.evaluate(ds,use_rnn=True)\n",
    "#print('loss', mtl)\n",
    "print('=================================================')"
   ]
  },
  {
   "cell_type": "code",
   "execution_count": null,
   "metadata": {},
   "outputs": [],
   "source": [
    "def predict(input_line):\n",
    "    xaxis = ds.classes.keys()\n",
    "    print('\\n> %s' % input_line)\n",
    "    with tt.no_grad():\n",
    "        output, *_ = rnnc(tt.unsqueeze(tt.stack([ds.embed(s) for s in input_line]), dim=0))\n",
    "        print(output.shape)\n",
    "    \n",
    "    output=tt.e**output.squeeze(0)\n",
    "    #print(output)\n",
    "    for i,ts in enumerate(output):\n",
    "        plt.figure(figsize=(6,3))\n",
    "        plt.ylim(0,1)\n",
    "        plt.title(f'{i+1}')\n",
    "        plt.bar(xaxis, ts)\n",
    "        print(f'@{i} :: {ts}, {tt.sum(ts)}')\n",
    "        plt.show()\n",
    "\n",
    "\n"
   ]
  },
  {
   "cell_type": "code",
   "execution_count": null,
   "metadata": {},
   "outputs": [],
   "source": [
    "ds.data"
   ]
  },
  {
   "cell_type": "code",
   "execution_count": null,
   "metadata": {},
   "outputs": [],
   "source": [
    "for xv,yv in ds.data:\n",
    "    print(xv, 'true:', yv)\n",
    "    predict(xv)\n",
    "    "
   ]
  }
 ],
 "metadata": {
  "accelerator": "GPU",
  "colab": {
   "authorship_tag": "ABX9TyOuUs+vkPNCQj5Gz+GQVKU9",
   "collapsed_sections": [],
   "include_colab_link": true,
   "name": "014_siameseNetwork.ipynb",
   "provenance": []
  },
  "kernelspec": {
   "display_name": "Python 3",
   "language": "python",
   "name": "python3"
  },
  "language_info": {
   "codemirror_mode": {
    "name": "ipython",
    "version": 3
   },
   "file_extension": ".py",
   "mimetype": "text/x-python",
   "name": "python",
   "nbconvert_exporter": "python",
   "pygments_lexer": "ipython3",
   "version": "3.8.10"
  },
  "vscode": {
   "interpreter": {
    "hash": "570feb405e2e27c949193ac68f46852414290d515b0ba6e5d90d076ed2284471"
   }
  }
 },
 "nbformat": 4,
 "nbformat_minor": 4
}
