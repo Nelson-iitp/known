{
 "cells": [
  {
   "attachments": {},
   "cell_type": "markdown",
   "metadata": {},
   "source": [
    "# []"
   ]
  },
  {
   "cell_type": "code",
   "execution_count": null,
   "metadata": {},
   "outputs": [],
   "source": [
    "# inbuilt \n",
    "import os\n",
    "import sys\n",
    "import math\n",
    "\n",
    "# most common\n",
    "import numpy as np\n",
    "import matplotlib.pyplot as plt\n",
    "\n",
    "# pytorch\n",
    "import torch as tt\n",
    "import torch.nn as nn\n",
    "import torch.functional as ff\n",
    "import torch.distributions as dd\n",
    "import torch.utils.data as ud\n",
    "\n",
    "import random\n",
    "import time\n",
    "# custom\n",
    "import known\n",
    "import known.ktorch as kt\n",
    "print(f'{sys.version=}\\n{np.__version__=}\\n{tt.__version__=}\\n{known.__version__=}')"
   ]
  },
  {
   "attachments": {},
   "cell_type": "markdown",
   "metadata": {},
   "source": [
    "# Sample Data"
   ]
  },
  {
   "cell_type": "code",
   "execution_count": null,
   "metadata": {},
   "outputs": [],
   "source": [
    "# set seed\n",
    "tt.manual_seed(281703975047300) # manually sets a seed for random sampling creation ops\n",
    "print('Manual-Seed:', tt.initial_seed()) # current seed for default rng\n",
    "\n",
    "batch_size = 64 \n",
    "input_size = 10 \n",
    "hidden_size = 32\n",
    "seq_len = 15\n",
    "\n",
    "dt=tt.float32\n",
    "batch_first=False\n",
    "dropout=0.0\n",
    "num_layers = 10\n",
    "\n",
    "num_samples=50\n",
    "num_loops=10\n",
    "\n",
    "xx = [tt.rand(size=(batch_size, seq_len, input_size), dtype=dt) for _ in range(num_samples)] \\\n",
    "            if batch_first else \\\n",
    "    [tt.rand(size=(seq_len, batch_size, input_size), dtype=dt) for _ in range(num_samples) ]\n",
    "len(xx)"
   ]
  },
  {
   "attachments": {},
   "cell_type": "markdown",
   "metadata": {},
   "source": [
    "# Pre-Built Cells"
   ]
  },
  {
   "attachments": {},
   "cell_type": "markdown",
   "metadata": {},
   "source": [
    "## Elman"
   ]
  },
  {
   "cell_type": "code",
   "execution_count": null,
   "metadata": {},
   "outputs": [],
   "source": [
    "rnn_torch = nn.RNN(\n",
    "    input_size=input_size,\n",
    "    hidden_size=hidden_size,\n",
    "    nonlinearity='tanh',\n",
    "    batch_first=batch_first,\n",
    "    num_layers=num_layers,\n",
    "    dropout=dropout,\n",
    "    dtype=dt\n",
    ")\n",
    "rnn = kt.ELMAN(\n",
    "    input_bias=True,\n",
    "    hidden_bias=True,\n",
    "    actF=tt.tanh,\n",
    "    input_size=input_size,         # input features\n",
    "    hidden_sizes=[hidden_size for _ in range(num_layers)],       # hidden features at each layer\n",
    "    dropout=dropout,        # dropout after each layer, only if hidden_sizes > 1\n",
    "    batch_first=batch_first,  # if true, excepts input as (batch_size, seq_len, input_size) else (seq_len, batch_size, input_size)\n",
    "    dtype=dt,\n",
    "    device=None,\n",
    "    stack_output=False\n",
    ")\n",
    "\n",
    "\n"
   ]
  },
  {
   "attachments": {},
   "cell_type": "markdown",
   "metadata": {},
   "source": [
    "## GRU"
   ]
  },
  {
   "cell_type": "code",
   "execution_count": null,
   "metadata": {},
   "outputs": [],
   "source": [
    "rnn_torch = nn.GRU(\n",
    "    input_size=input_size,\n",
    "    hidden_size=hidden_size,\n",
    "    #nonlinearity='tanh',\n",
    "    batch_first=batch_first,\n",
    "    num_layers=num_layers,\n",
    "    dropout=dropout,\n",
    "    dtype=dt\n",
    ")\n",
    "rnn = kt.GRU(\n",
    "    input_bias=True,\n",
    "    hidden_bias=True,\n",
    "    actF=tt.tanh,\n",
    "    input_size=input_size,         # input features\n",
    "    hidden_sizes=[hidden_size for _ in range(num_layers)],       # hidden features at each layer\n",
    "    dropout=dropout,        # dropout after each layer, only if hidden_sizes > 1\n",
    "    batch_first=batch_first,  # if true, excepts input as (batch_size, seq_len, input_size) else (seq_len, batch_size, input_size)\n",
    "    dtype=dt,\n",
    "    device=None,\n",
    "    stack_output=False\n",
    ")\n",
    "\n",
    "\n"
   ]
  },
  {
   "attachments": {},
   "cell_type": "markdown",
   "metadata": {},
   "source": [
    "## LSTM"
   ]
  },
  {
   "cell_type": "code",
   "execution_count": null,
   "metadata": {},
   "outputs": [],
   "source": [
    "rnn_torch = nn.LSTM(\n",
    "    input_size=input_size,\n",
    "    hidden_size=hidden_size,\n",
    "    #nonlinearity='tanh',\n",
    "    batch_first=batch_first,\n",
    "    num_layers=num_layers,\n",
    "    dropout=dropout,\n",
    "    dtype=dt\n",
    ")\n",
    "rnn = kt.LSTM(\n",
    "    input_bias=True,\n",
    "    hidden_bias=True,\n",
    "    actF=tt.tanh, actC=tt.tanh,\n",
    "    input_size=input_size,         # input features\n",
    "    hidden_sizes=[hidden_size for _ in range(num_layers)],       # hidden features at each layer\n",
    "    dropout=dropout,        # dropout after each layer, only if hidden_sizes > 1\n",
    "    batch_first=batch_first,  # if true, excepts input as (batch_size, seq_len, input_size) else (seq_len, batch_size, input_size)\n",
    "    dtype=dt,\n",
    "    device=None,\n",
    "    stack_output=False\n",
    ")"
   ]
  },
  {
   "attachments": {},
   "cell_type": "markdown",
   "metadata": {},
   "source": [
    "## Genralized RNN"
   ]
  },
  {
   "cell_type": "code",
   "execution_count": null,
   "metadata": {},
   "outputs": [],
   "source": [
    "rnng = kt.GRNN(\n",
    "    core = kt.clone_model(rnn))"
   ]
  },
  {
   "attachments": {},
   "cell_type": "markdown",
   "metadata": {},
   "source": [
    "## copy weights"
   ]
  },
  {
   "cell_type": "code",
   "execution_count": null,
   "metadata": {},
   "outputs": [],
   "source": [
    "#known.ktorch.show_parameters(rnn_torch)\n",
    "#known.ktorch.show_parameters(rnn)\n",
    "#known.ktorch.show_parameters(rnn_stack)\n",
    "#known.ktorch.show_parameters(stacked_rnn)\n",
    "\n",
    "rnn.copy_torch(rnn_torch)\n",
    "rnng.core.copy_torch(rnn_torch)\n",
    "\n",
    "for i,weight_diff in enumerate([rnn.diff_torch(rnn_torch),  rnng.core.diff_torch(rnn_torch),]):\n",
    "    sum_wd = 0\n",
    "    for l in weight_diff:\n",
    "        sum_wd+=tt.sum(tt.abs(l))\n",
    "    print(i,sum_wd)"
   ]
  },
  {
   "attachments": {},
   "cell_type": "markdown",
   "metadata": {},
   "source": [
    "## compar outputs"
   ]
  },
  {
   "cell_type": "code",
   "execution_count": null,
   "metadata": {},
   "outputs": [],
   "source": [
    "def absdiff(y, Y):\n",
    "    s=0\n",
    "    for yi,yit in zip(y, Y):\n",
    "        assert (yi.shape == yit.shape)\n",
    "        s+= (tt.sum(tt.abs(yi-yit)).item())\n",
    "    return s, np.mean(s)"
   ]
  },
  {
   "cell_type": "code",
   "execution_count": null,
   "metadata": {},
   "outputs": [],
   "source": [
    "# for single o/p cell\n",
    "xi = random.randint(0, len(xx)-1)\n",
    "x=xx[xi]\n",
    "with tt.no_grad():\n",
    "    Y, H = rnn_torch(x)\n",
    "    for y,h in [rnn(x),rnng(x),]:\n",
    "        print(Y.shape, H.shape)\n",
    "        print(len(y), len(h[0]))\n",
    "        print(absdiff(y,Y))\n"
   ]
  },
  {
   "cell_type": "code",
   "execution_count": null,
   "metadata": {},
   "outputs": [],
   "source": [
    "# for single o/p cell\n",
    "xi = random.randint(0, len(xx)-1)\n",
    "x=xx[xi]\n",
    "with tt.no_grad():\n",
    "    Y, (H, C) = rnn_torch(x)\n",
    "    for y,h in [rnn(x), rnng(x),]:\n",
    "        print(Y.shape, H.shape)\n",
    "        print(len(y), len(h[0]), len(h[1]))\n",
    "        print(absdiff(y,Y))\n",
    "        print(absdiff(h[0],H))\n",
    "        print(absdiff(h[1],C))"
   ]
  },
  {
   "attachments": {},
   "cell_type": "markdown",
   "metadata": {},
   "source": [
    "## compar time"
   ]
  },
  {
   "cell_type": "code",
   "execution_count": null,
   "metadata": {},
   "outputs": [],
   "source": [
    "eta_torch = []\n",
    "\n",
    "for _ in range(num_loops):\n",
    "    start_at = time.time()\n",
    "    for x in xx: _ = rnn_torch(x)\n",
    "    end_at = time.time()\n",
    "    eta_torch.append(end_at-start_at)\n",
    "    \n",
    "print(np.mean(eta_torch), np.sum(eta_torch))"
   ]
  },
  {
   "cell_type": "code",
   "execution_count": null,
   "metadata": {},
   "outputs": [],
   "source": [
    "eta_inherit = []\n",
    "\n",
    "for _ in range(num_loops):\n",
    "    start_at = time.time()\n",
    "    for x in xx: _ = rnn(x)\n",
    "    end_at = time.time()\n",
    "    eta_inherit.append(end_at-start_at)\n",
    "    \n",
    "print(np.mean(eta_inherit), np.sum(eta_inherit))"
   ]
  },
  {
   "cell_type": "code",
   "execution_count": null,
   "metadata": {},
   "outputs": [],
   "source": [
    "eta_gen = []\n",
    "\n",
    "for _ in range(num_loops):\n",
    "    start_at = time.time()\n",
    "    for x in xx: _ = rnng(x)\n",
    "    end_at = time.time()\n",
    "    eta_gen.append(end_at-start_at)\n",
    "    \n",
    "print(np.mean(eta_gen), np.sum(eta_gen))"
   ]
  },
  {
   "cell_type": "code",
   "execution_count": null,
   "metadata": {},
   "outputs": [],
   "source": [
    "plt.figure(figsize=(30,6))\n",
    "\n",
    "xr = np.arange(num_loops)\n",
    "plt.scatter(xr, eta_torch, label='eta_torch', color='blue' )\n",
    "plt.scatter(xr, eta_inherit, label='eta_inherit' , color='green')\n",
    "plt.scatter(xr, eta_gen, label='eta_gen' , color='red')\n",
    "\n",
    "plt.plot(xr, eta_torch , color='blue')\n",
    "plt.plot(xr, eta_inherit , color='green')\n",
    "plt.plot(xr, eta_gen , color='red')\n",
    "\n",
    "plt.legend()\n",
    "plt.show()\n",
    "\n",
    "plt.figure(figsize=(6,6))\n",
    "plt.bar([1], [np.sum(eta_torch)], color='blue')\n",
    "plt.bar([2], [np.sum(eta_inherit)], color='green')\n",
    "plt.bar([3], [np.sum(eta_gen)], color='red')\n",
    "\n",
    "plt.show()"
   ]
  }
 ],
 "metadata": {
  "kernelspec": {
   "display_name": "__venv310__",
   "language": "python",
   "name": "python3"
  },
  "language_info": {
   "codemirror_mode": {
    "name": "ipython",
    "version": 3
   },
   "file_extension": ".py",
   "mimetype": "text/x-python",
   "name": "python",
   "nbconvert_exporter": "python",
   "pygments_lexer": "ipython3",
   "version": "3.10.2 (tags/v3.10.2:a58ebcc, Jan 17 2022, 14:12:15) [MSC v.1929 64 bit (AMD64)]"
  },
  "orig_nbformat": 4,
  "vscode": {
   "interpreter": {
    "hash": "8fe6015140738806d41bf643a20b25ab509e1558f046cb4d7778c2b8bb5aa7b5"
   }
  }
 },
 "nbformat": 4,
 "nbformat_minor": 2
}
