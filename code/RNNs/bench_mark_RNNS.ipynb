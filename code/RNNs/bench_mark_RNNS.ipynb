{
 "cells": [
  {
   "cell_type": "markdown",
   "metadata": {},
   "source": [
    "# []"
   ]
  },
  {
   "cell_type": "code",
   "execution_count": null,
   "metadata": {},
   "outputs": [],
   "source": [
    "# inbuilt \n",
    "import os\n",
    "import sys\n",
    "import math\n",
    "\n",
    "# most common\n",
    "import numpy as np\n",
    "import matplotlib.pyplot as plt\n",
    "\n",
    "# pytorch\n",
    "import torch as tt\n",
    "import torch.nn as nn\n",
    "import torch.optim as oo\n",
    "import torch.functional as ff\n",
    "import torch.distributions as dd\n",
    "import torch.utils.data as ud\n",
    "\n",
    "# custom\n",
    "import known\n",
    "import known.ktorch as kt\n",
    "from known.basic import pj\n",
    "print(f'{sys.version=}\\n{np.__version__=}\\n{tt.__version__=}\\n{known.__version__=}')"
   ]
  },
  {
   "cell_type": "code",
   "execution_count": null,
   "metadata": {},
   "outputs": [],
   "source": [
    "seqlen = 20\n",
    "cols = ('1','2', '3')\n",
    "input_size = len(cols)\n",
    "ds  = kt.SeqDataset.from_csv(pj('data_rnn/sinu.csv'), cols=cols, \n",
    "                seqlen=seqlen, reverse=True, normalize=False, squeeze_label=True, dtype=tt.float32)\n",
    "ds_train = kt.SeqDataset.from_csv(pj('data_rnn/sinu_train.csv'), cols=cols, \n",
    "                seqlen=seqlen, reverse=True, normalize=False, squeeze_label=True, dtype=tt.float32)\n",
    "ds_val = kt.SeqDataset.from_csv(pj('data_rnn/sinu_test.csv'), cols=cols, \n",
    "                seqlen=seqlen, reverse=True, normalize=False, squeeze_label=True, dtype=tt.float32)\n",
    "ds_test = ds\n",
    "ds, ds_train, ds_val, ds_test"
   ]
  },
  {
   "cell_type": "code",
   "execution_count": null,
   "metadata": {},
   "outputs": [],
   "source": [
    "hidden_size = 32\n",
    "num_layers = 3\n",
    "class RnnMlp(nn.Module):\n",
    "\n",
    "    def __init__(self, rnn_class) -> None:\n",
    "        super().__init__()\n",
    "        self.rnn_class = rnn_class\n",
    "        rnnargs = dict(\n",
    "            input_size=input_size, hidden_sizes=[hidden_size for _ in range(num_layers)], actF=tt.tanh, \n",
    "            batch_first=True, dtype=tt.float32, stack_output=True\n",
    "        )\n",
    "        if rnn_class is kt.ELMAN or rnn_class is kt.GRU or rnn_class is kt.MGU: \n",
    "            self.rnn = rnn_class(True, False, **rnnargs)\n",
    "        elif rnn_class is kt.JANET:\n",
    "            rnnargs['beta']=0.0\n",
    "            self.rnn = rnn_class(True, False, **rnnargs)\n",
    "        elif rnn_class is kt.LSTM:\n",
    "            rnnargs['actC']=tt.tanh\n",
    "            self.rnn = rnn_class(True, False, **rnnargs)\n",
    "        elif rnn_class is nn.RNN or rnn_class is nn.GRU or rnn_class is nn.LSTM:\n",
    "            self.rnn = rnn_class(input_size=input_size, hidden_size=hidden_size, num_layers=num_layers, \n",
    "                                 batch_first=True)\n",
    "        else:\n",
    "            print('Invalid_RNN_Class')\n",
    "            \n",
    "        \n",
    "        self.fc = nn.Sequential( nn.Flatten(), nn.Linear(hidden_size, input_size))\n",
    "        #self.fc = nn.Flatten()\n",
    "\n",
    "    def forward(self, X):\n",
    "        x, *_ = self.rnn(X)\n",
    "        #y = self.fc(x[-1])\n",
    "        return self.fc(x[:, -1, :])\n",
    "\n",
    "rnms = [    RnnMlp(kt.ELMAN),   RnnMlp(kt.GRU),     RnnMlp(kt.JANET),   RnnMlp(kt.MGU),     RnnMlp(kt.LSTM), \n",
    "            RnnMlp(nn.RNN),     RnnMlp(nn.GRU),     RnnMlp(nn.LSTM)     ]\n",
    "rnmc = [    'tab:blue',         'tab:red',          'tab:green',        'tab:brown',       'tab:olive',\n",
    "            'tab:pink',         'tab:orange',        'tab:grey'          ]"
   ]
  },
  {
   "cell_type": "code",
   "execution_count": null,
   "metadata": {},
   "outputs": [],
   "source": [
    "\"\"\"\n",
    "dl = ds.dataloader(batch_size=32)\n",
    "print(len(dl))\n",
    "dli = iter(dl)\n",
    "x,y = next(dli)\n",
    "with tt.no_grad():\n",
    "    h = rnms[0](x)\n",
    "x.shape, y.shape, h.shape\n",
    "\"\"\""
   ]
  },
  {
   "cell_type": "code",
   "execution_count": null,
   "metadata": {},
   "outputs": [],
   "source": [
    "test_loss={}\n",
    "for rnm in rnms:\n",
    "    print(rnm.rnn_class)\n",
    "    model=rnm\n",
    "    epochs = 500\n",
    "    batch_size=32\n",
    "    shuffle=True\n",
    "    validation_freq = int(epochs/10)\n",
    "    criterion=nn.MSELoss()\n",
    "    lr = 0.005\n",
    "    weight_decay = 0.0\n",
    "    optimizer=oo.Adam(rnm.parameters(), lr=lr, weight_decay=weight_decay)\n",
    "    lrs=oo.lr_scheduler.LinearLR(optimizer, start_factor= 1.0, end_factor=0.7, total_iters=epochs)\n",
    "\n",
    "    early_stop_train=kt.QuantiyMonitor('TrainLoss', patience=50, delta=0.00001)\n",
    "    early_stop_val=kt.QuantiyMonitor('ValLoss', patience=50, delta=0.00001)\n",
    "    checkpoint_freq=int(epochs/4)\n",
    "    save_path='sample.rnn'\n",
    "    loss_plot_start = int(epochs/50)\n",
    "\n",
    "    trainer = kt.Trainer(model)\n",
    "    trainer.optimizer=optimizer\n",
    "    trainer.criterion=criterion\n",
    "\n",
    "    trainer.fit(training_data=ds_train, validation_data=ds_val, \n",
    "                epochs=epochs, batch_size=batch_size,shuffle=shuffle,validation_freq=validation_freq,\n",
    "                verbose=1)\n",
    "\n",
    "    trainer.plot_results(loss_plot_start=loss_plot_start)\n",
    "\n",
    "    mtl, tl = trainer.evaluate(ds_test)\n",
    "\n",
    "    test_loss[str(rnm.rnn_class)] = mtl\n",
    "    print('=================================================')"
   ]
  },
  {
   "cell_type": "code",
   "execution_count": null,
   "metadata": {},
   "outputs": [],
   "source": [
    "y = []\n",
    "l = []\n",
    "for k,v in test_loss.items():\n",
    "    print(f'{k}:\\t{v}')\n",
    "    y.append(v)\n",
    "    sl = k.split('.')\n",
    "    l.append(sl[1]+\".\"+sl[-1][:-2])\n",
    "\n",
    "x= range(len(test_loss))\n",
    "\n",
    "plt.figure(figsize=(15,6))\n",
    "plt.bar(x , y )\n",
    "plt.xticks(x, l)\n",
    "plt.ylabel('val_loss')\n",
    "plt.show()"
   ]
  },
  {
   "cell_type": "code",
   "execution_count": null,
   "metadata": {},
   "outputs": [],
   "source": [
    "res = []\n",
    "for rnm in rnms:\n",
    "    print(rnm.rnn_class)\n",
    "    rnm.eval()\n",
    "    with tt.no_grad():\n",
    "        for iv,(Xv,Yv) in enumerate(ds.dataloader(batch_size=len(ds)), 0):\n",
    "            Pv = rnm(Xv)\n",
    "            res.append(Pv)#print(Xv.shape, Yv.shape, Pv.shape)\n",
    "\n"
   ]
  },
  {
   "cell_type": "code",
   "execution_count": null,
   "metadata": {},
   "outputs": [],
   "source": [
    "for i in range(input_size):\n",
    "    plt.figure(figsize=(20,10))\n",
    "    plt.title(f'{i}')\n",
    "    \n",
    "    plt.plot(Yv[:,i], color='black', label='Truth')\n",
    "    for r,rnm,c in zip(res,rnms,rnmc):\n",
    "        plt.plot(r[:,i], color=c, label=f'{rnm.rnn_class}', linewidth=0.5)\n",
    "    plt.legend()\n",
    "    plt.show()\n",
    "    plt.close()\n",
    "    print('=================================================')"
   ]
  },
  {
   "attachments": {},
   "cell_type": "markdown",
   "metadata": {},
   "source": [
    "## future predict"
   ]
  },
  {
   "cell_type": "code",
   "execution_count": null,
   "metadata": {},
   "outputs": [],
   "source": []
  },
  {
   "cell_type": "code",
   "execution_count": null,
   "metadata": {},
   "outputs": [],
   "source": [
    "res = []\n",
    "for rnm in rnms:\n",
    "    print(rnm.rnn_class)\n",
    "    rnm.eval()\n",
    "    dl=ds.dataloader(batch_size=1, shuffle=False)\n",
    "    di = iter(dl)\n",
    "    with tt.no_grad():\n",
    "        Xv,Yv = next(di)\n",
    "        Pv = rnm.rnn(Xv, future=1000)\n",
    "        res.append(Pv)#print(Xv.shape, Yv.shape, Pv.shape)\n",
    "\n"
   ]
  },
  {
   "cell_type": "code",
   "execution_count": null,
   "metadata": {},
   "outputs": [],
   "source": [
    "for i in range(input_size):\n",
    "    plt.figure(figsize=(20,10))\n",
    "    plt.title(f'{i}')\n",
    "    \n",
    "    plt.plot(Yv[:,i], color='black', label='Truth')\n",
    "    for r,rnm,c in zip(res,rnms,rnmc):\n",
    "        plt.plot(r[:,i], color=c, label=f'{rnm.rnn_class}', linewidth=0.5)\n",
    "    plt.legend()\n",
    "    plt.show()\n",
    "    plt.close()\n",
    "    print('=================================================')"
   ]
  }
 ],
 "metadata": {
  "kernelspec": {
   "display_name": "Python 3 (ipykernel)",
   "language": "python",
   "name": "python3"
  },
  "language_info": {
   "codemirror_mode": {
    "name": "ipython",
    "version": 3
   },
   "file_extension": ".py",
   "mimetype": "text/x-python",
   "name": "python",
   "nbconvert_exporter": "python",
   "pygments_lexer": "ipython3",
   "version": "3.10.2 (tags/v3.10.2:a58ebcc, Jan 17 2022, 14:12:15) [MSC v.1929 64 bit (AMD64)]"
  },
  "vscode": {
   "interpreter": {
    "hash": "8fe6015140738806d41bf643a20b25ab509e1558f046cb4d7778c2b8bb5aa7b5"
   }
  }
 },
 "nbformat": 4,
 "nbformat_minor": 4
}
