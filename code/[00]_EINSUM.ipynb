{
 "cells": [
  {
   "cell_type": "code",
   "execution_count": null,
   "metadata": {},
   "outputs": [],
   "source": [
    "from known.common import einsum_code, einsum_code_check"
   ]
  },
  {
   "attachments": {},
   "cell_type": "markdown",
   "metadata": {},
   "source": [
    "# Using numpy"
   ]
  },
  {
   "cell_type": "code",
   "execution_count": null,
   "metadata": {},
   "outputs": [],
   "source": [
    "import numpy as np \n",
    "\n",
    "x = np.random.rand(1,8,2,8,10)\n",
    "y = np.random.rand(8,10,10)\n",
    "# generate equivalent code for \n",
    "#   np.einsum('nkctv,kvw->nctw', x, y)\n",
    "code = einsum_code_check('np', 'nkctv,kvw->nctw', x=x, y=y)\n",
    "print(code)"
   ]
  },
  {
   "attachments": {},
   "cell_type": "markdown",
   "metadata": {},
   "source": [
    "copy the generated code and run"
   ]
  },
  {
   "cell_type": "code",
   "execution_count": null,
   "metadata": {},
   "outputs": [],
   "source": [
    "def my_einsum():\n",
    "\tout = np.zeros((1, 2, 8, 10))\n",
    "\tfor n in range(1):\n",
    "\t\tfor k in range(8):\n",
    "\t\t\tfor c in range(2):\n",
    "\t\t\t\tfor t in range(8):\n",
    "\t\t\t\t\tfor v in range(10):\n",
    "\t\t\t\t\t\tfor w in range(10):\n",
    "\t\t\t\t\t\t\tout[n,c,t,w] += (x[n,k,c,t,v]*y[k,v,w])\n",
    "\treturn out\n",
    "\n",
    "def my_einsum_test():\n",
    "\tM = my_einsum()\n",
    "\tT = np.einsum(\"nkctv,kvw->nctw\", x, y)\n",
    "\tErr = np.sum(np.abs(M-T))\n",
    "\tprint(\"\\nnp einsum :\", T.shape, \"\\n\", T)\n",
    "\tprint(\"\\nmy einsum :\", M.shape, \"\\n\", M)\n",
    "\tprint(\"\\nerror =\", Err)\n",
    "\n",
    "my_einsum_test()"
   ]
  },
  {
   "attachments": {},
   "cell_type": "markdown",
   "metadata": {},
   "source": [
    "# Using torch"
   ]
  },
  {
   "cell_type": "code",
   "execution_count": null,
   "metadata": {},
   "outputs": [],
   "source": [
    "import torch\n",
    "\n",
    "a = torch.rand((3, 3, 2))\n",
    "b = torch.rand((4, 2, 3))\n",
    "c = torch.rand((3, 4, 5))\n",
    "# generate equivalent code for \n",
    "#   torch.einsum('iik,jki,ijl->kilj', a, b, c)\n",
    "code = einsum_code_check('torch', 'iik,jki,ijl->kilj', a=a, b=b, c=c)\n",
    "print(code)"
   ]
  },
  {
   "attachments": {},
   "cell_type": "markdown",
   "metadata": {},
   "source": [
    "copy the generated code and run"
   ]
  },
  {
   "cell_type": "code",
   "execution_count": null,
   "metadata": {},
   "outputs": [],
   "source": [
    "def my_einsum():\n",
    "\tout = torch.zeros((2, 3, 5, 4))\n",
    "\tfor i in range(3):\n",
    "\t\tfor k in range(2):\n",
    "\t\t\tfor j in range(4):\n",
    "\t\t\t\tfor l in range(5):\n",
    "\t\t\t\t\tout[k,i,l,j] += (a[i,i,k]*b[j,k,i]*c[i,j,l])\n",
    "\treturn out\n",
    "\n",
    "def my_einsum_test():\n",
    "\tM = my_einsum()\n",
    "\tT = torch.einsum(\"iik,jki,ijl->kilj\", a, b, c)\n",
    "\tErr = torch.sum(torch.abs(M-T))\n",
    "\tprint(\"\\ntorch einsum :\", T.shape, \"\\n\", T)\n",
    "\tprint(\"\\nmy einsum :\", M.shape, \"\\n\", M)\n",
    "\tprint(\"\\nerror =\", Err)\n",
    "\n",
    "my_einsum_test()"
   ]
  }
 ],
 "metadata": {
  "kernelspec": {
   "display_name": "kvenv310",
   "language": "python",
   "name": "python3"
  },
  "language_info": {
   "codemirror_mode": {
    "name": "ipython",
    "version": 3
   },
   "file_extension": ".py",
   "mimetype": "text/x-python",
   "name": "python",
   "nbconvert_exporter": "python",
   "pygments_lexer": "ipython3",
   "version": "3.10.2 (tags/v3.10.2:a58ebcc, Jan 17 2022, 14:12:15) [MSC v.1929 64 bit (AMD64)]"
  },
  "orig_nbformat": 4,
  "vscode": {
   "interpreter": {
    "hash": "5fbec06f5f2f2aeb073e2e72ecfe9812985a9325e27355e80436989f5627ccd6"
   }
  }
 },
 "nbformat": 4,
 "nbformat_minor": 2
}
