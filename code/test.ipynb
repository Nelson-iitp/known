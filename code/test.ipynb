{
 "cells": [
  {
   "attachments": {},
   "cell_type": "markdown",
   "metadata": {},
   "source": [
    "# []"
   ]
  },
  {
   "cell_type": "code",
   "execution_count": null,
   "metadata": {},
   "outputs": [],
   "source": [
    "# inbuilt \n",
    "import os\n",
    "import sys\n",
    "import math\n",
    "\n",
    "# most common\n",
    "import numpy as np\n",
    "import matplotlib.pyplot as plt\n",
    "\n",
    "# pytorch\n",
    "import torch as tt\n",
    "import torch.nn as nn\n",
    "import torch.optim as oo\n",
    "import torch.functional as ff\n",
    "import torch.distributions as dd\n",
    "import torch.utils.data as ud\n",
    "\n",
    "# custom\n",
    "import known\n",
    "\n",
    "print(f'{sys.version=}\\n{np.__version__=}\\n{tt.__version__=}\\n{known.__version__=}')"
   ]
  },
  {
   "cell_type": "code",
   "execution_count": null,
   "metadata": {},
   "outputs": [],
   "source": [
    "import known.ktorch as kt"
   ]
  },
  {
   "cell_type": "code",
   "execution_count": null,
   "metadata": {},
   "outputs": [],
   "source": [
    "seqlen = 10\n",
    "ds = kt.SeqDataset.from_csv(csv='PJDS.csv', col='PRICE', reverse=True, seqlen=seqlen, dtype=tt.float32  )\n",
    "ds"
   ]
  },
  {
   "cell_type": "code",
   "execution_count": null,
   "metadata": {},
   "outputs": [],
   "source": [
    "\n",
    "\n",
    "class RnnMlp(nn.Module):\n",
    "    def __init__(self) -> None:\n",
    "        super().__init__()\n",
    "\n",
    "        self.rnn = kt.StackedLSTM(\n",
    "            input_size=1,\n",
    "            hidden_sizes=(20,20,20),\n",
    "            nlF=nn.Tanh, nlF2=nn.Tanh, bias=False, dropout=0.0, dtype=tt.float32, batch_first=True\n",
    "        )\n",
    "        self.fc = nn.Sequential( nn.Flatten(), nn.Linear(200, 1))\n",
    "    \n",
    "    def forward(self, X):\n",
    "        x, _, _ = self.rnn(X)\n",
    "        y = self.fc(x)\n",
    "        return y\n"
   ]
  },
  {
   "cell_type": "code",
   "execution_count": null,
   "metadata": {},
   "outputs": [],
   "source": [
    "rnm = RnnMlp()"
   ]
  },
  {
   "cell_type": "code",
   "execution_count": null,
   "metadata": {},
   "outputs": [],
   "source": [
    "history = kt.Trainer.train( rnm,\n",
    "    training_data=ds, \n",
    "    validation_data=ds, \n",
    "    epochs=200, \n",
    "    batch_size=32, \n",
    "    shuffle=True, \n",
    "    validation_freq=5, \n",
    "    criterion_type=nn.MSELoss, \n",
    "    criterion_args={}, \n",
    "    optimizer_type=oo.Adam, \n",
    "    optimizer_args={'lr': 0.00005, 'weight_decay': 0.0}, \n",
    "    lrs_type=oo.lr_scheduler.LinearLR, \n",
    "    lrs_args={'start_factor': 1.0, 'end_factor':0.7, 'total_iters': 50},\n",
    "    record_batch_loss=False, \n",
    "    early_stop_train=kt.QuantiyMonitor('TrainLoss', patience=6, delta=0.01, verbose=True), \n",
    "    early_stop_val=kt.QuantiyMonitor('ValLoss', patience=6, delta=0.01, verbose=True), \n",
    "    checkpoint_freq=5, \n",
    "    save_path='sample.rnn',\n",
    "    save_state_only=True, \n",
    "    verbose=2, \n",
    "    plot=1\n",
    ")"
   ]
  }
 ],
 "metadata": {
  "kernelspec": {
   "display_name": "__venv310__",
   "language": "python",
   "name": "python3"
  },
  "language_info": {
   "codemirror_mode": {
    "name": "ipython",
    "version": 3
   },
   "file_extension": ".py",
   "mimetype": "text/x-python",
   "name": "python",
   "nbconvert_exporter": "python",
   "pygments_lexer": "ipython3",
   "version": "3.10.2"
  },
  "orig_nbformat": 4,
  "vscode": {
   "interpreter": {
    "hash": "8fe6015140738806d41bf643a20b25ab509e1558f046cb4d7778c2b8bb5aa7b5"
   }
  }
 },
 "nbformat": 4,
 "nbformat_minor": 2
}
