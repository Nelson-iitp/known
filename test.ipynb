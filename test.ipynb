{
 "cells": [
  {
   "cell_type": "code",
   "execution_count": null,
   "metadata": {},
   "outputs": [],
   "source": []
  },
  {
   "attachments": {},
   "cell_type": "markdown",
   "metadata": {},
   "source": [
    "# BASIC\n",
    "\n",
    "Some commonly used funtions"
   ]
  },
  {
   "cell_type": "code",
   "execution_count": null,
   "metadata": {},
   "outputs": [],
   "source": [
    "from known import basic"
   ]
  },
  {
   "cell_type": "code",
   "execution_count": null,
   "metadata": {},
   "outputs": [],
   "source": [
    "# Example - now() function generates a formated date-time string based on current date-time\n",
    "# this can be used to generate unique file names e.g.,\n",
    "filename = basic.now(\n",
    "    year=True,\n",
    "    month=True,\n",
    "    day=True,\n",
    "    hour=True,\n",
    "    minute=True,\n",
    "    second=True,\n",
    "    mirco=True,\n",
    "    start=\"image_\", sep=\"_\", end=\".png\"\n",
    ")\n",
    "print(filename)"
   ]
  },
  {
   "cell_type": "code",
   "execution_count": null,
   "metadata": {},
   "outputs": [],
   "source": [
    "# Example - numel() returns no of elements in an array of given shape \n",
    "# same as (product of dimensions)\n",
    "shape = (3,4,5)\n",
    "n = basic.numel(shape)\n",
    "print(n)"
   ]
  },
  {
   "cell_type": "code",
   "execution_count": null,
   "metadata": {},
   "outputs": [],
   "source": [
    "#  Example - arange() is similar to numpy.arange except that it accepts a shape\n",
    "# and produces multi dim arrays\n",
    "arr = basic.arange(\n",
    "    shape=(3,4,5),\n",
    "    start=10, step=2,\n",
    "    dtype='int'\n",
    ")\n",
    "print(arr,'\\n\\n', basic.numel(arr.shape))"
   ]
  },
  {
   "cell_type": "code",
   "execution_count": null,
   "metadata": {},
   "outputs": [],
   "source": [
    "# Example - Symbols class provides some special symbols\n",
    "syms = basic.Symbols.__dict__\n",
    "for k,v in syms.items():\n",
    "    if not (k.startswith('__') and k.endswith('__')):  print(f'{v}\\t{k}')"
   ]
  },
  {
   "cell_type": "code",
   "execution_count": null,
   "metadata": {},
   "outputs": [],
   "source": [
    "#  Example - Remap allows to map values from one range to another\n",
    "\n",
    "# suppose we want to map values from (100, 300) to range (-1, 1)\n",
    "r = basic.Remap(Input_Range=(100, 300), Output_Range=(-1, 1))\n",
    "\n",
    "for x in range(100, 350, 50):\n",
    "    a = r.forward(x)\n",
    "    b = r.backward(a)\n",
    "    print(f'{x} -> {a} -> {b} :: {x-b}')\n",
    "    assert(x-b==0)\n",
    "\n",
    "#  Example - this works with numpy arrays\n",
    "import numpy as np\n",
    "\n",
    "l, h = np.array([200, 100, 50]), np.array([300, 150, 75])\n",
    "r = basic.Remap(\n",
    "    Input_Range=(l, h), \n",
    "    Output_Range=(np.array([-1, 0, -1]), np.array([1, 1, 0]))\n",
    "    )\n",
    "\n",
    "for _ in range(5):\n",
    "    x = np.random.uniform(l, h)\n",
    "    a = r.forward(x)\n",
    "    b = r.backward(a)\n",
    "    print(f'{x} -> {a} -> {b} :: {x-b}')\n",
    "    assert((x-b).all()==0)\n",
    "    "
   ]
  },
  {
   "cell_type": "code",
   "execution_count": null,
   "metadata": {},
   "outputs": [],
   "source": [
    "#  Example - IndexedDict is a special dictionary that stores indices of items as well\n",
    "# items can be accesed by both key(str) and index(int)\n",
    "D = basic.IndexedDict(\n",
    "    **dict(\n",
    "        a = 1,\n",
    "        b = '2',\n",
    "        c = 3.0,\n",
    "        d = [1, '2', 3.0],\n",
    "    )\n",
    ")\n",
    "print(D)\n",
    "\n",
    "print('\\nItems')\n",
    "for i,(k,v) in D.items(): print(f'{i=}, {k=}, {v=}')\n",
    "\n",
    "print('\\nKeys')\n",
    "for i,k in D.keys(): print(f'{i=}, {k=}, {D[k]=}, {D[i]=}')"
   ]
  },
  {
   "attachments": {},
   "cell_type": "markdown",
   "metadata": {},
   "source": [
    "### serialization and io"
   ]
  },
  {
   "cell_type": "code",
   "execution_count": null,
   "metadata": {},
   "outputs": [],
   "source": [
    "#  Example - use json to serialize and save objects\n",
    "# NOTE: objects must be JSON serializable\n",
    "# TIP: use json to save simple objects such as lists, tuples dicts etc\n",
    "\n",
    "A = dict(a=1, b='2')\n",
    "B = [1, '2']\n",
    "C = tuple(B) #<--- note - tuples are serialized as lists\n",
    "\n",
    "basic.save_json(A, 'A')\n",
    "basic.save_json(B, 'B')\n",
    "basic.save_json(C, 'C')\n",
    "\n",
    "AA = basic.load_json('A')\n",
    "BB = basic.load_json('B')\n",
    "CC = basic.load_json('C')\n",
    "\n",
    "assert(A==AA)\n",
    "assert(B==BB)\n",
    "assert(C==tuple(CC)) #<--- note - tuples are serialized as lists"
   ]
  },
  {
   "cell_type": "code",
   "execution_count": null,
   "metadata": {},
   "outputs": [],
   "source": [
    "#  Example - use pickle to serialize and save objects\n",
    "# NOTE: objects must be pickle serializable\n",
    "# TIP: use pickle to save complex objects including ndarray and tensors\n",
    "\n",
    "import numpy as np\n",
    "import torch as tt\n",
    "class TestClass:\n",
    "    def __init__(self): self.x, self.y, self.z = 1, [1,2,3], dict(a=1, b='2')\n",
    "    def __call__(self): return [self.x, self.z['b']] + self.y + [self.z['a']]\n",
    "    \n",
    "A = np.random.random((3,4))\n",
    "B = tt.rand(size=(4,3))\n",
    "C = TestClass()\n",
    "\n",
    "\n",
    "basic.save_pickle(A, 'A')\n",
    "basic.save_pickle(B, 'B')\n",
    "basic.save_pickle(C, 'C')\n",
    "\n",
    "AA = basic.load_pickle('A')\n",
    "BB = basic.load_pickle('B')\n",
    "CC = basic.load_pickle('C')\n",
    "\n",
    "assert(np.sum(np.abs(A - AA))==0.0)\n",
    "assert(tt.sum(tt.abs(B - BB))==0.0)\n",
    "\n",
    "for c,cc in zip(C(), CC()):  assert(c==cc)\n"
   ]
  },
  {
   "cell_type": "code",
   "execution_count": null,
   "metadata": {},
   "outputs": [],
   "source": [
    "# dict_sort() sorts keys and values of a dict based on ordering of values\n",
    "\n",
    "D = dict(\n",
    "    a = 1.5,\n",
    "    b = 2.0,\n",
    "    c = 1,\n",
    ")\n",
    "DD = basic.dict_sort(D, assending=True)\n",
    "DDD = basic.dict_sort(D, assending=False)\n",
    "print(D)\n",
    "print(DD)\n",
    "print(DDD)"
   ]
  },
  {
   "attachments": {},
   "cell_type": "markdown",
   "metadata": {},
   "source": [
    "# BaseConvert\n",
    "\n",
    "for number system converision"
   ]
  },
  {
   "cell_type": "code",
   "execution_count": null,
   "metadata": {},
   "outputs": [],
   "source": [
    "from known.basic import BaseConvert as bc\n"
   ]
  },
  {
   "cell_type": "code",
   "execution_count": null,
   "metadata": {},
   "outputs": [],
   "source": [
    "# Example_1 - convert b/w base 10 and any base b\n",
    "\n",
    "# convert an integer to given base\n",
    "b2 = bc.int2base(\n",
    "    num=205,  # number to be converted\n",
    "    base=2, # to base \n",
    "    digs=0, # number of digits in the output, keep 0 to automatically decide)\n",
    ") # this will return an array of digits in binary (should be read in reverse)\n",
    "print(f'B Array: {b2}')\n",
    "print(f'B String:',''.join([f'{n}' for n in b2][::-1]))\n",
    "# convert back to integer\n",
    "b10 = bc.base2int(num=b2, base=2)\n",
    "print(f'Integer: {b10}')\n",
    "\n",
    "\n"
   ]
  },
  {
   "cell_type": "code",
   "execution_count": null,
   "metadata": {},
   "outputs": [],
   "source": [
    "# Example_2 -  we can conver to higher bases, e.g. - IP addresses are 4 digit numbers in base-256\n",
    "\n",
    "# convert an integer to given IP address\n",
    "b256 = bc.int2base(\n",
    "    num=3232247141,  #number to be converted\n",
    "    base=256, #to base \n",
    "    digs=4, # number of digits in the output, keep 0 to automatically decide)\n",
    ") # this will return an array of digits in binary (should be read in reverse)\n",
    "print(f'B Array: {b256}')\n",
    "print(f'B String:','.'.join([f'{n}' for n in b256][::-1]))\n",
    "\n",
    "# convert back to integer\n",
    "b10 = bc.base2int(num=b256, base=256)\n",
    "print(f'Integer: {b10}')\n"
   ]
  },
  {
   "cell_type": "code",
   "execution_count": null,
   "metadata": {},
   "outputs": [],
   "source": [
    "\n",
    "#  Example_3 - convert an ip address to its integer form\n",
    "ip = '192.168.45.101'\n",
    "ip_list = ip.split('.')[::-1] # the converter expects reversed array\n",
    "bip = bc.base2int([int(i) for i in ip_list], base=256)\n",
    "print(f'{ip} --> {bip}')"
   ]
  },
  {
   "cell_type": "code",
   "execution_count": null,
   "metadata": {},
   "outputs": [],
   "source": [
    "#  Example_4 - we can use other symbols as well, e.g., converting a hex-color code\n",
    "\n",
    "hex_code = '6f084e'.upper()\n",
    "# get an integer corresponding to hexcode\n",
    "b_hex_to_int = bc.to_base_10(\n",
    "    syms=bc.SYM_HEX, # a symbols dictionary that map symbols to its value (base-10 digits)\n",
    "    num=hex_code, # the hex-code as string\n",
    ")\n",
    "print(f'Integer: {b_hex_to_int}')\n",
    "\n",
    "# convert to a color which is a 3-tuple (r,g,b) in base-256 \n",
    "b,g,r = bc.int2base(num=b_hex_to_int, base=256, digs=3) #<--- NOTE: returns in reverse (bgr)\n",
    "print(f'RGB: {r,g,b}')\n",
    "\n",
    "import matplotlib.pyplot as plt\n",
    "plt.figure(figsize=(2,2))\n",
    "plt.yticks([])\n",
    "plt.bar([hex_code], [1], color=(r/255, g/255, b/255, 1.0))\n",
    "plt.show()"
   ]
  },
  {
   "attachments": {},
   "cell_type": "markdown",
   "metadata": {},
   "source": [
    "# IMGU\n",
    "\n",
    "Some image related utilities"
   ]
  },
  {
   "cell_type": "code",
   "execution_count": 1,
   "metadata": {},
   "outputs": [],
   "source": [
    "from known.imgu import Pix\n",
    "#import matplotlib.pyplot as plt"
   ]
  },
  {
   "cell_type": "code",
   "execution_count": 2,
   "metadata": {},
   "outputs": [
    {
     "data": {
      "text/plain": [
       "(10, 20, 4)"
      ]
     },
     "execution_count": 2,
     "metadata": {},
     "output_type": "execute_result"
    }
   ],
   "source": [
    "# Example - Pix object abstracts a 4-channel image in BRGA format using cv2\n",
    "\n",
    "pix = Pix(h=10, w=20) # create a new 4-channel image\n",
    "\n",
    "\n",
    "# save the image\n",
    "Pix.save(pix, 'image.png')\n",
    "\n",
    "\n",
    "pix.i.shape # pix.i is the underlying array"
   ]
  },
  {
   "cell_type": "code",
   "execution_count": 3,
   "metadata": {},
   "outputs": [],
   "source": [
    "# load the image\n",
    "img=Pix.load('image.png')\n"
   ]
  },
  {
   "cell_type": "code",
   "execution_count": 4,
   "metadata": {},
   "outputs": [
    {
     "data": {
      "image/png": "[encoded data removed]",
      "text/plain": [
       "<Figure size 700x350 with 1 Axes>"
      ]
     },
     "metadata": {},
     "output_type": "display_data"
    }
   ],
   "source": [
    "\n",
    "# plot it\n",
    "Pix.plot(img, ratio=0.35)"
   ]
  },
  {
   "cell_type": "code",
   "execution_count": 5,
   "metadata": {},
   "outputs": [
    {
     "data": {
      "image/png": "[encoded data removed]",
      "text/plain": [
       "<Figure size 700x350 with 1 Axes>"
      ]
     },
     "metadata": {},
     "output_type": "display_data"
    },
    {
     "data": {
      "text/plain": [
       "True"
      ]
     },
     "execution_count": 5,
     "metadata": {},
     "output_type": "execute_result"
    }
   ],
   "source": [
    "\n",
    "# draw some points on image\n",
    "img.set_hex_at(2, 5, '6f084e')\n",
    "\n",
    "Pix.plot(img, ratio=0.35)\n",
    "\n",
    "Pix.save(img, 'image.png')"
   ]
  },
  {
   "cell_type": "code",
   "execution_count": 6,
   "metadata": {},
   "outputs": [
    {
     "data": {
      "image/png": "[encoded data removed]",
      "text/plain": [
       "<Figure size 700x350 with 1 Axes>"
      ]
     },
     "metadata": {},
     "output_type": "display_data"
    },
    {
     "data": {
      "text/plain": [
       "True"
      ]
     },
     "execution_count": 6,
     "metadata": {},
     "output_type": "execute_result"
    }
   ],
   "source": [
    "# draw some points on image\n",
    "img.set_color_at(0,3, (255, 0, 0, 255), normalize=False)\n",
    "img.set_color_at(0,4, (0, 255, 0, 255), normalize=False)\n",
    "img.set_color_at(0,5, (0, 0, 255, 255), normalize=False)\n",
    "img.set_color_at(0,6, (255, 255, 0, 255), normalize=False)\n",
    "img.set_color_at(0,7, (255, 0, 255, 255), normalize=False)\n",
    "img.set_color_at(0,8, (0, 255, 255, 255), normalize=False)\n",
    "img.set_color_at(0,9, (0, 0, 0, 255), normalize=False)\n",
    "#p.draw_points(img, (0,3), (3,0), (2,7), (-3, -4))\n",
    "Pix.plot(img, ratio=0.35)\n",
    "\n",
    "Pix.save(img, 'image.png')"
   ]
  },
  {
   "cell_type": "code",
   "execution_count": null,
   "metadata": {},
   "outputs": [],
   "source": []
  },
  {
   "cell_type": "code",
   "execution_count": 7,
   "metadata": {},
   "outputs": [
    {
     "data": {
      "image/png": "[encoded data removed]",
      "text/plain": [
       "<Figure size 700x350 with 1 Axes>"
      ]
     },
     "metadata": {},
     "output_type": "display_data"
    },
    {
     "data": {
      "text/plain": [
       "True"
      ]
     },
     "execution_count": 7,
     "metadata": {},
     "output_type": "execute_result"
    }
   ],
   "source": [
    "# we can use matplot lib's colors too\n",
    "\n",
    "import matplotlib.colors as mcolors\n",
    "color_dict = mcolors.CSS4_COLORS\n",
    "\n",
    "\n",
    "# draw some points on image\n",
    "img.set_hex_at(5, 2, color_dict['forestgreen'])\n",
    "\n",
    "Pix.plot(img, ratio=0.35)\n",
    "\n",
    "Pix.save(img, 'image.png')\n",
    "\n",
    "\n",
    "\n"
   ]
  },
  {
   "cell_type": "code",
   "execution_count": 8,
   "metadata": {},
   "outputs": [
    {
     "data": {
      "image/png": "[encoded data removed]",
      "text/plain": [
       "<Figure size 700x350 with 1 Axes>"
      ]
     },
     "metadata": {},
     "output_type": "display_data"
    }
   ],
   "source": [
    "# load the image again\n",
    "img=Pix.load('image.png')\n",
    "\n",
    "# plot it\n",
    "Pix.plot(img, ratio=0.35)"
   ]
  },
  {
   "cell_type": "code",
   "execution_count": 9,
   "metadata": {},
   "outputs": [
    {
     "data": {
      "image/png": "[encoded data removed]",
      "text/plain": [
       "<Figure size 800x600 with 1 Axes>"
      ]
     },
     "metadata": {},
     "output_type": "display_data"
    },
    {
     "data": {
      "text/plain": [
       "True"
      ]
     },
     "execution_count": 9,
     "metadata": {},
     "output_type": "execute_result"
    }
   ],
   "source": [
    "simg = Pix.region(img, 0, 2 , 6, 8)\n",
    "Pix.plot(simg, ratio=1.0)\n",
    "Pix.save(simg, 'simage.png')"
   ]
  },
  {
   "cell_type": "code",
   "execution_count": 10,
   "metadata": {},
   "outputs": [
    {
     "data": {
      "image/png": "[encoded data removed]",
      "text/plain": [
       "<Figure size 800x600 with 1 Axes>"
      ]
     },
     "metadata": {},
     "output_type": "display_data"
    }
   ],
   "source": [
    "simg.set_hex_in(1, 0, 2, 3, '055E66')\n",
    "Pix.plot(simg, ratio=1.0)"
   ]
  },
  {
   "cell_type": "code",
   "execution_count": 11,
   "metadata": {},
   "outputs": [
    {
     "data": {
      "image/png": "[encoded data removed]",
      "text/plain": [
       "<Figure size 800x600 with 1 Axes>"
      ]
     },
     "metadata": {},
     "output_type": "display_data"
    }
   ],
   "source": [
    "cimg = simg.clone()\n",
    "Pix.plot(cimg, ratio=1.0)"
   ]
  },
  {
   "cell_type": "code",
   "execution_count": null,
   "metadata": {},
   "outputs": [],
   "source": [
    "for k,v in color_dict.items(): print(k, v)"
   ]
  },
  {
   "attachments": {},
   "cell_type": "markdown",
   "metadata": {},
   "source": [
    "# E-MAIL\n",
    "\n",
    "Send mail from your gmail account using python.\n",
    "\n",
    "* This requires either \n",
    "    * entering your login credentials directly in code, or,\n",
    "    * saving your login credentials on machine in pickle format. \n",
    "* You should enable 2-factor-auth in gmail and generate an app-password instead of using your gmail password.\n",
    "* Visit (https://myaccount.google.com/apppasswords) to generate app-password.\n",
    "* Usually, these type of emails are treated as spam by google, so they must be marked 'not spam' at least once.\n",
    "* It is recomended to create a seperate gmail account for sending mails."
   ]
  },
  {
   "cell_type": "code",
   "execution_count": null,
   "metadata": {},
   "outputs": [],
   "source": [
    "from known.mailer import Mail"
   ]
  },
  {
   "attachments": {},
   "cell_type": "markdown",
   "metadata": {},
   "source": [
    "## simply send a mail"
   ]
  },
  {
   "cell_type": "code",
   "execution_count": null,
   "metadata": {},
   "outputs": [],
   "source": [
    "# To send an email, use the Mail.send() method as shown below\n",
    "\n",
    "Mail.send( #<--- this is a static method\n",
    "\n",
    "# sender's email address (MUST BE a gmail account)\n",
    "username = 'username@gmail.com',   \n",
    "\n",
    "# password (NOTE: use app password instead of your real password)\n",
    "password = 'password',    \n",
    "\n",
    "# subject line\n",
    "subject = 'subject',    \n",
    "\n",
    "# recievers - (comma seperated e-mail addresses)\n",
    "rx = 'rx_01@domain.com, rx_02@domain.com, rx_03@domain.com',  \n",
    "\n",
    "# carbon copy - (comma seperated e-mail addresses)\n",
    "cc = 'cc_01@domain.com, cc_02@domain.com, cc_03@domain.com',     \n",
    "\n",
    "# blind carbon copy - (comma seperated e-mail addresses)\n",
    "bcc = 'bcc_01@domain.com, bcc_02@domain.com, bcc_03@domain.com',  \n",
    "\n",
    "# a string of content i.e., the body of msg goes here\n",
    "content = \"\"\"\n",
    "Dear Reciever,\n",
    "    This is a test email sent using python!\n",
    "    Some content goes in here.\n",
    "\n",
    "Warm Regards,\n",
    "Sender\n",
    "\"\"\", \n",
    "\n",
    "# list of 'attachements', where each 'attachement' is a 2-tuple of ( zip_name:str, (file_names,):tuple )\n",
    "# first item of attachement is a string representing the name of zip file to be created\n",
    "# second item of attachement is an n-tuple of file names to be zipped/attached\n",
    "attached =  [  \n",
    "                # e.g., if zip file name is specified then all the files will be compressed into a zip file and the zip file will be attached\n",
    "                ('attachement.zip',  ('file_01.png', 'file_02.pdf', 'file_03.txt') ) ,\n",
    "\n",
    "                # e.g., if zip file name is NOT specified then all the files will be attached individually\n",
    "                ('',                 ('file_01.png', 'file_02.pdf', 'file_03.txt') ) ,\n",
    "            ],\n",
    "\n",
    "# prints information while sending mail\n",
    "verbose = True,\n",
    "\n",
    ")"
   ]
  },
  {
   "attachments": {},
   "cell_type": "markdown",
   "metadata": {},
   "source": [
    "## send a mail with login function"
   ]
  },
  {
   "cell_type": "code",
   "execution_count": null,
   "metadata": {},
   "outputs": [],
   "source": [
    "# the Mail.send() function uses 'compose_mail()' and 'send_mail()' methods from the class\n",
    "# these can be diretcly used as shown below\n",
    "\n",
    "\n",
    "# (1) Compose a msg - compoase_mail() returns an email msg that can be sent using send_mail()\n",
    "msg = Mail.compose_mail( #<--- this is a static method\n",
    "\n",
    "# subject line\n",
    "subject = 'subject',    \n",
    "\n",
    "# recievers - (comma seperated e-mail addresses)\n",
    "rx = 'rx_01@domain.com, rx_02@domain.com, rx_03@domain.com',  \n",
    "\n",
    "# carbon copy - (comma seperated e-mail addresses)\n",
    "cc = 'cc_01@domain.com, cc_02@domain.com, cc_03@domain.com',     \n",
    "\n",
    "# blind carbon copy - (comma seperated e-mail addresses)\n",
    "bcc = 'bcc_01@domain.com, bcc_02@domain.com, bcc_03@domain.com',  \n",
    "\n",
    "# a string of content i.e., the body of msg goes here\n",
    "content = \"\"\"\n",
    "Dear Reciever,\n",
    "    This is a test email sent using python!\n",
    "    Some content goes in here.\n",
    "\n",
    "Warm Regards,\n",
    "Sender\n",
    "\"\"\", \n",
    "\n",
    "# list of 'attachements', where each 'attachement' is a 2-tuple of ( zip_name:str, (file_names,):tuple )\n",
    "# first item of attachement is a string representing the name of zip file to be created\n",
    "# second item of attachement is an n-tuple of file names to be zipped/attached\n",
    "attached =  [  \n",
    "                # e.g., if zip file name is specified then all the files will be compressed into a zip file and the zip file will be attached\n",
    "                ('attachement.zip',  ('file_01.png', 'file_02.pdf', 'file_03.txt') ) ,\n",
    "\n",
    "                # e.g., if zip file name is NOT specified then all the files will be attached individually\n",
    "                ('',                 ('file_01.png', 'file_02.pdf', 'file_03.txt') ) ,\n",
    "            ],\n",
    "\n",
    "# prints information while sending mail\n",
    "verbose = True,\n",
    "\n",
    ")\n",
    "\n",
    "# (2) Send the msg - using a gmail account\n",
    "Mail.send_mail( #<--- this is a static method\n",
    "\n",
    "# login function <--- can be replaced by any custom function\n",
    "login = lambda : ('username@gmail.com', 'password'), \n",
    "# NOTE: here login is a function, when called (with no args) returns a 2-tuple (username, password)\n",
    "\n",
    "# the msg returned bu compose_mail()\n",
    "msg = msg, \n",
    "\n",
    "# prints information while sending mail\n",
    "verbose = True,\n",
    "\n",
    ")"
   ]
  },
  {
   "attachments": {},
   "cell_type": "markdown",
   "metadata": {},
   "source": [
    "## send a mail with saved credentials"
   ]
  },
  {
   "cell_type": "code",
   "execution_count": null,
   "metadata": {},
   "outputs": [],
   "source": [
    "# we can save the gmail credentials in a pickel file, and use it in the future to send mails\n",
    "\n",
    "# (1) save your login on disk (one-time call)\n",
    "Mail.save_login('login.gmail') #<--- this will ask you to enter username and password in input boxes"
   ]
  },
  {
   "cell_type": "code",
   "execution_count": null,
   "metadata": {},
   "outputs": [],
   "source": [
    "# send mail using a credentail file \n",
    "\n",
    "# (2) create an instance of Mail class\n",
    "mailer = Mail(\n",
    "\n",
    "# the path to login file created using Mail.save_login()\n",
    "login_path = 'login.gmail', \n",
    "\n",
    "# NOTE: if signature = None, it is automatically generated based on system information (see Mail.global_alias())\n",
    "# to avoid using signature set it to an empty string, signature = ''\n",
    "signature = 'Warm Regards,\\nSender',\n",
    "\n",
    "# prints information while sending mail\n",
    "verbose = True,\n",
    ")\n",
    "\n",
    "\n",
    "# (3) call the Mail object to send mail\n",
    "mailer(\n",
    "\n",
    "# subject line\n",
    "subject = 'subject',    \n",
    "\n",
    "# recievers - (comma seperated e-mail addresses)\n",
    "rx = 'rx_01@domain.com, rx_02@domain.com, rx_03@domain.com',  \n",
    "\n",
    "# carbon copy - (comma seperated e-mail addresses)\n",
    "cc = 'cc_01@domain.com, cc_02@domain.com, cc_03@domain.com',     \n",
    "\n",
    "# blind carbon copy - (comma seperated e-mail addresses)\n",
    "bcc = 'bcc_01@domain.com, bcc_02@domain.com, bcc_03@domain.com',  \n",
    "\n",
    "# a string of content i.e., the body of msg goes here\n",
    "content = \"\"\"\n",
    "Dear Reciever,\n",
    "    This is a test email sent using python!\n",
    "    Some content goes in here.\n",
    "\n",
    "Warm Regards,\n",
    "Sender\n",
    "\"\"\", \n",
    "\n",
    "# list of 'attachements', where each 'attachement' is a 2-tuple of ( zip_name:str, (file_names,):tuple )\n",
    "# first item of attachement is a string representing the name of zip file to be created\n",
    "# second item of attachement is an n-tuple of file names to be zipped/attached\n",
    "attached =  [  \n",
    "                # e.g., if zip file name is specified then all the files will be compressed into a zip file and the zip file will be attached\n",
    "                ('attachement.zip',  ('file_01.png', 'file_02.pdf', 'file_03.txt') ) ,\n",
    "\n",
    "                # e.g., if zip file name is NOT specified then all the files will be attached individually\n",
    "                ('',                 ('file_01.png', 'file_02.pdf', 'file_03.txt') ) ,\n",
    "            ],\n",
    ")"
   ]
  }
 ],
 "metadata": {
  "kernelspec": {
   "display_name": "Python 3",
   "language": "python",
   "name": "python3"
  },
  "language_info": {
   "codemirror_mode": {
    "name": "ipython",
    "version": 3
   },
   "file_extension": ".py",
   "mimetype": "text/x-python",
   "name": "python",
   "nbconvert_exporter": "python",
   "pygments_lexer": "ipython3",
   "version": "3.11.4"
  },
  "orig_nbformat": 4
 },
 "nbformat": 4,
 "nbformat_minor": 2
}
